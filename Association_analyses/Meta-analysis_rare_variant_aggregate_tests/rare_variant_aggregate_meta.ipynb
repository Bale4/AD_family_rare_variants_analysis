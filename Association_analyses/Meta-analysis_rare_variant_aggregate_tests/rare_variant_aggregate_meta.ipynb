{
 "cells": [
  {
   "cell_type": "markdown",
   "id": "434ebb59-1b05-4d2c-823a-919868f27971",
   "metadata": {
    "kernel": "SoS",
    "tags": []
   },
   "source": [
    "# Meta-analyses of Family and ADSP results\n",
    "\n",
    "**Goal**: meta-analyze the family and Case-control (ADSP) data across all ancestries and within each ancestry\n",
    "\n",
    "**Input data**:SMMAT summary results for rare variant aggregate tests using SKAT-O from AD-Family and ADSP data\n",
    "\n",
    "**Input file paths**\n",
    "\n",
    "  family data\n",
    "  \n",
    "  > /mnt/mfs/statgen/alzheimers-family/AD_rare_variants/SMMAT/\n",
    "  \n",
    "  ADSP data \n",
    "   \n",
    "   > /mnt/mfs/statgen/alzheimers-family/ADSP_2023/smmat/WES/\n",
    "\n",
    "**Software**: [METAL](https://genome.sph.umich.edu/wiki/METAL_Documentation)"
   ]
  },
  {
   "cell_type": "markdown",
   "id": "871b4b1f-2724-4277-bba6-739fd7f40cef",
   "metadata": {
    "kernel": "SoS"
   },
   "source": [
    "# Rare variants\n",
    "\n",
    "For rare variants (AF <=0.01) analyses we ran two different models based on the function of variants  \n",
    "\n",
    "**Model 1** : Only predicted loss of function variants (pLOF)\n",
    "\n",
    "**Model 2**: pLOF + missense variants\n",
    "\n",
    "**model adjustment** : age, sex, the first 3 PCs. Additionaly we ran the analyses addjusted for APOE4\n",
    "\n",
    "***Note***: for model 2 the file names included in the analysis are labeled as model3 which is exactly for pLOF + missense variants"
   ]
  },
  {
   "cell_type": "markdown",
   "id": "ee3a0d3f-b538-4d64-9fe7-cded748b4450",
   "metadata": {},
   "source": [
    "## Over-all meta-analysis (AD-family + ADSP samples)"
   ]
  },
  {
   "cell_type": "markdown",
   "id": "66beedd4-fca1-471e-846b-6f2eb2f16996",
   "metadata": {
    "kernel": "R",
    "tags": []
   },
   "source": [
    "### model1 without adjusting for APOE4"
   ]
  },
  {
   "cell_type": "code",
   "execution_count": null,
   "id": "17a09c42-7d4e-4bbf-b4d7-f235f22453d5",
   "metadata": {
    "kernel": "R"
   },
   "outputs": [],
   "source": [
    "SCHEME SAMPLESIZE\n",
    "MARKER   SNP\n",
    "WEIGHT   N\n",
    "EFFECT   BETA\n",
    "PVAL     P\n",
    "\n",
    "\n",
    "PROCESS /mnt/mfs/statgen/alzheimers-family/AD_rare_variants/SMMAT/noapoe/af0.01/model1_skat/African.pca.projected_AD.SMMAT.snp_stats.gz\n",
    "PROCESS /mnt/mfs/statgen/alzheimers-family/AD_rare_variants/SMMAT/noapoe/af0.01/model1_skat/European.pca.projected_AD.SMMAT.snp_stats.gz\n",
    "PROCESS /mnt/mfs/statgen/alzheimers-family/AD_rare_variants/SMMAT/noapoe/af0.01/model1_skat/Hispanic.pca.projected_AD.SMMAT.snp_stats.gz\n",
    "PROCESS /mnt/mfs/statgen/alzheimers-family/ADSP_2023/smmat/WES/noapoe/af0.01/model1_skat/African.pca.projected_outlier_removed_AD.SMMAT.snp_stats.gz\n",
    "PROCESS /mnt/mfs/statgen/alzheimers-family/ADSP_2023/smmat/WES/noapoe/af0.01/model1_skat/European.pca.projected_outlier_removed_AD.SMMAT.snp_stats.gz\n",
    "PROCESS /mnt/mfs/statgen/alzheimers-family/ADSP_2023/smmat/WES/noapoe/af0.01/model1_skat/Hispanic.pca.projected_outlier_removed_AD.SMMAT.snp_stats.gz\n",
    "\n",
    "\n",
    "OUTFILE /mnt/mfs/statgen/alzheimers-family/ADSP_2023/AD_ADSP_meta/SMMAT_model1_noapoe_af1_META .TXT\n",
    "ANALYZE\n",
    "ANALYZE HETEROGENEITY\n",
    "## Completed meta-analysis for 17022 markers!\n",
    "## Smallest p-value is 7.863e-10 at marker 'RPRD2'"
   ]
  },
  {
   "cell_type": "code",
   "execution_count": null,
   "id": "6658c513-28f6-435a-8a24-558ac9c39c71",
   "metadata": {},
   "outputs": [],
   "source": [
    "# Results need to be reformated to get position and chromosome number for each genes to generate plots\n",
    "# Since all our significant results are from the ADSP-European sample I use this data to map the chr and position for the genes\n",
    "library(\"dplyr\")\n",
    "library(stringr)"
   ]
  },
  {
   "cell_type": "code",
   "execution_count": null,
   "id": "eb436396-e50e-4719-be82-623142977ffd",
   "metadata": {},
   "outputs": [],
   "source": [
    "data = read.table('/mnt/mfs/statgen/alzheimers-family/ADSP_2023/AD_ADSP_meta/SMMAT_model1_noapoe_af1_META2.TXT', header = T, sep = '\\t')\n",
    "eur = read.table('/mnt/mfs/statgen/alzheimers-family/ADSP_2023/smmat/WES/noapoe/af0.01/model1_skat/European.pca.projected_outlier_removed_AD.SMMAT.snp_stats.gz', header = T, sep ='\\t')[, c(1, 2, 3)]\n",
    "data = inner_join(data, eur, by = c('MarkerName'='SNP'))\n",
    "data$POS = as.numeric(data$POS)\n",
    "data$CHR = as.numeric(data$CHR)\n",
    "write.table(data,'/mnt/mfs/statgen/alzheimers-family/ADSP_2023/AD_ADSP_meta/all_model1_sex_af1.txt', sep = '\\t', quote = F, col.names = T, row.names = F)\n",
    "lambda <- median(qchisq(1-data$P.value,1), na.rm=TRUE)/qchisq(0.5,1)"
   ]
  },
  {
   "cell_type": "markdown",
   "id": "6e76f765-d526-4282-a8e1-998ef26530b0",
   "metadata": {
    "kernel": "R"
   },
   "source": [
    "### model2 without adjusting for APOE4"
   ]
  },
  {
   "cell_type": "code",
   "execution_count": null,
   "id": "df7355f1-08d5-4050-8e20-84cc3799d800",
   "metadata": {
    "kernel": "R"
   },
   "outputs": [],
   "source": [
    "SCHEME SAMPLESIZE\n",
    "MARKER   SNP\n",
    "WEIGHT   N\n",
    "EFFECT   BETA\n",
    "PVAL     P\n",
    "\n",
    "\n",
    "PROCESS /mnt/mfs/statgen/alzheimers-family/AD_rare_variants/SMMAT/noapoe/af0.01/model3_skat/African.pca.projected_AD.SMMAT.snp_stats.gz\n",
    "PROCESS /mnt/mfs/statgen/alzheimers-family/AD_rare_variants/SMMAT/noapoe/af0.01/model3_skat/European.pca.projected_AD.SMMAT.snp_stats.gz\n",
    "PROCESS /mnt/mfs/statgen/alzheimers-family/AD_rare_variants/SMMAT/noapoe/af0.01/model3_skat/Hispanic.pca.projected_AD.SMMAT.snp_stats.gz\n",
    "PROCESS /mnt/mfs/statgen/alzheimers-family/ADSP_2023/smmat/WES/noapoe/af0.01/model3_skat/African.pca.projected_outlier_removed_AD.SMMAT.snp_stats.gz\n",
    "PROCESS /mnt/mfs/statgen/alzheimers-family/ADSP_2023/smmat/WES/noapoe/af0.01/model3_skat/European.pca.projected_outlier_removed_AD.SMMAT.snp_stats.gz\n",
    "PROCESS /mnt/mfs/statgen/alzheimers-family/ADSP_2023/smmat/WES/noapoe/af0.01/model3_skat/Hispanic.pca.projected_outlier_removed_AD.SMMAT.snp_stats.gz\n",
    "\n",
    "\n",
    "OUTFILE /mnt/mfs/statgen/alzheimers-family/ADSP_2023/AD_ADSP_meta/SMMAT_model3_noapoe_af1_META .TXT\n",
    "ANALYZE\n",
    "ANALYZE HETEROGENEITY\n",
    "## Completed meta-analysis for 19020 markers!\n",
    "## Smallest p-value is 2.071e-17 at marker 'WDR89'"
   ]
  },
  {
   "cell_type": "code",
   "execution_count": null,
   "id": "57032eb6-4924-4e7f-9afc-d4d702b3f9a1",
   "metadata": {},
   "outputs": [],
   "source": [
    "data = read.table('/mnt/mfs/statgen/alzheimers-family/ADSP_2023/AD_ADSP_meta/SMMAT_model3_noapoe_af1_META2.TXT', header = T, sep = '\\t')\n",
    "eur = read.table('/mnt/mfs/statgen/alzheimers-family/ADSP_2023/smmat/WES/noapoe/af0.01/model3_skat/European.pca.projected_outlier_removed_AD.SMMAT.snp_stats.gz', header = T, sep ='\\t')[, c(1, 2, 3)]\n",
    "data = inner_join(data, eur, by = c('MarkerName'='SNP'))\n",
    "data$POS = as.numeric(data$POS)\n",
    "data$CHR = as.numeric(data$CHR)\n",
    "write.table(data,'/mnt/mfs/statgen/alzheimers-family/ADSP_2023/AD_ADSP_meta/all_model3_sex_af1.txt', sep = '\\t', quote = F, col.names = T, row.names = F)\n",
    "lambda <- median(qchisq(1-data$P.value,1), na.rm=TRUE)/qchisq(0.5,1)"
   ]
  },
  {
   "cell_type": "markdown",
   "id": "5d1ae445-bfd9-4f4f-b801-2f742b385202",
   "metadata": {
    "kernel": "R"
   },
   "source": [
    "### model1 with adjusting for APOE4"
   ]
  },
  {
   "cell_type": "code",
   "execution_count": null,
   "id": "5eae5695-8e75-4b3e-89bd-e9d4f626c75b",
   "metadata": {
    "kernel": "R"
   },
   "outputs": [],
   "source": [
    "SCHEME SAMPLESIZE\n",
    "MARKER   SNP\n",
    "WEIGHT   N\n",
    "EFFECT   BETA\n",
    "PVAL     P\n",
    "\n",
    "\n",
    "PROCESS /mnt/mfs/statgen/alzheimers-family/AD_rare_variants/SMMAT/apoe/af0.01/model1_skat/African.pca.projected_AD.SMMAT.snp_stats.gz\n",
    "PROCESS /mnt/mfs/statgen/alzheimers-family/AD_rare_variants/SMMAT/apoe/af0.01/model1_skat/European.pca.projected_AD.SMMAT.snp_stats.gz\n",
    "PROCESS /mnt/mfs/statgen/alzheimers-family/AD_rare_variants/SMMAT/apoe/af0.01/model1_skat/Hispanic.pca.projected_AD.SMMAT.snp_stats.gz\n",
    "PROCESS /mnt/mfs/statgen/alzheimers-family/ADSP_2023/smmat/WES/apoe/af0.01/model1_skat/African.pca.projected_outlier_removed_AD.SMMAT.snp_stats.gz\n",
    "PROCESS /mnt/mfs/statgen/alzheimers-family/ADSP_2023/smmat/WES/apoe/af0.01/model1_skat/European.pca.projected_outlier_removed_AD.SMMAT.snp_stats.gz\n",
    "PROCESS /mnt/mfs/statgen/alzheimers-family/ADSP_2023/smmat/WES/apoe/af0.01/model1_skat/Hispanic.pca.projected_outlier_removed_AD.SMMAT.snp_stats.gz\n",
    "\n",
    "\n",
    "OUTFILE /mnt/mfs/statgen/alzheimers-family/ADSP_2023/AD_ADSP_meta/SMMAT_model1_apoe_af1_META .TXT\n",
    "ANALYZE\n",
    "ANALYZE HETEROGENEITY\n",
    "## Completed meta-analysis for 17022 markers!\n",
    "## Smallest p-value is 7.288e-10 at marker 'RPRD2'"
   ]
  },
  {
   "cell_type": "code",
   "execution_count": null,
   "id": "814959f7-94a1-4aef-9e55-8ee65fa988dc",
   "metadata": {},
   "outputs": [],
   "source": [
    "data = read.table('/mnt/mfs/statgen/alzheimers-family/ADSP_2023/AD_ADSP_meta/SMMAT_model1_apoe_af1_META2.TXT', header = T, sep = '\\t')\n",
    "eur = read.table('/mnt/mfs/statgen/alzheimers-family/ADSP_2023/smmat/WES/apoe/af0.01/model1_skat/European.pca.projected_outlier_removed_AD.SMMAT.snp_stats.gz', header = T, sep ='\\t')[, c(1, 2, 3)]\n",
    "data = inner_join(data, eur, by = c('MarkerName'='SNP'))\n",
    "data$POS = as.numeric(data$POS)\n",
    "data$CHR = as.numeric(data$CHR)\n",
    "write.table(data,'/mnt/mfs/statgen/alzheimers-family/ADSP_2023/AD_ADSP_meta/all_model1_apoe_af1.txt', sep = '\\t', quote = F, col.names = T, row.names = F)\n",
    "lambda <- median(qchisq(1-data$P.value,1), na.rm=TRUE)/qchisq(0.5,1)"
   ]
  },
  {
   "cell_type": "markdown",
   "id": "c908ac86-8c3d-4528-a953-128a073e14e1",
   "metadata": {
    "kernel": "R"
   },
   "source": [
    "### model2 with adjusting for APOE4"
   ]
  },
  {
   "cell_type": "code",
   "execution_count": null,
   "id": "39780342-a2e5-4fb4-854b-a415b682ea2c",
   "metadata": {
    "kernel": "R"
   },
   "outputs": [],
   "source": [
    "SCHEME SAMPLESIZE\n",
    "MARKER   SNP\n",
    "WEIGHT   N\n",
    "EFFECT   BETA\n",
    "PVAL     P\n",
    "\n",
    "\n",
    "PROCESS /mnt/mfs/statgen/alzheimers-family/AD_rare_variants/SMMAT/apoe/af0.01/model3_skat/African.pca.projected_AD.SMMAT.snp_stats.gz\n",
    "PROCESS /mnt/mfs/statgen/alzheimers-family/AD_rare_variants/SMMAT/apoe/af0.01/model3_skat/European.pca.projected_AD.SMMAT.snp_stats.gz\n",
    "PROCESS /mnt/mfs/statgen/alzheimers-family/AD_rare_variants/SMMAT/apoe/af0.01/model3_skat/Hispanic.pca.projected_AD.SMMAT.snp_stats.gz\n",
    "PROCESS /mnt/mfs/statgen/alzheimers-family/ADSP_2023/smmat/WES/apoe/af0.01/model3_skat/African.pca.projected_outlier_removed_AD.SMMAT.snp_stats.gz\n",
    "PROCESS /mnt/mfs/statgen/alzheimers-family/ADSP_2023/smmat/WES/apoe/af0.01/model3_skat/European.pca.projected_outlier_removed_AD.SMMAT.snp_stats.gz\n",
    "PROCESS /mnt/mfs/statgen/alzheimers-family/ADSP_2023/smmat/WES/apoe/af0.01/model3_skat/Hispanic.pca.projected_outlier_removed_AD.SMMAT.snp_stats.gz\n",
    "\n",
    "\n",
    "OUTFILE /mnt/mfs/statgen/alzheimers-family/ADSP_2023/AD_ADSP_meta/SMMAT_model3_apoe_af1_META .TXT\n",
    "ANALYZE\n",
    "ANALYZE HETEROGENEITY\n",
    "\n",
    "## Completed meta-analysis for 19020 markers!\n",
    "## Smallest p-value is 5.484e-17 at marker 'WDR89'"
   ]
  },
  {
   "cell_type": "code",
   "execution_count": null,
   "id": "bc07effd-ddbc-4150-8329-733301e4c028",
   "metadata": {},
   "outputs": [],
   "source": [
    "data = read.table('/mnt/mfs/statgen/alzheimers-family/ADSP_2023/AD_ADSP_meta/SMMAT_model3_apoe_af1_META2.TXT', header = T, sep = '\\t')\n",
    "eur = read.table('/mnt/mfs/statgen/alzheimers-family/ADSP_2023/smmat/WES/apoe/af0.01/model3_skat/European.pca.projected_outlier_removed_AD.SMMAT.snp_stats.gz', header = T, sep ='\\t')[, c(1, 2, 3)]\n",
    "data = inner_join(data, eur, by = c('MarkerName'='SNP'))\n",
    "data$POS = as.numeric(data$POS)\n",
    "data$CHR = as.numeric(data$CHR)\n",
    "write.table(data,'/mnt/mfs/statgen/alzheimers-family/ADSP_2023/AD_ADSP_meta/all_model3_apoe_af1.txt', sep = '\\t', quote = F, col.names = T, row.names = F)\n",
    "lambda <- median(qchisq(1-data$P.value,1), na.rm=TRUE)/qchisq(0.5,1)"
   ]
  },
  {
   "cell_type": "markdown",
   "id": "a64a182e-1441-4095-a018-e914afe6e07d",
   "metadata": {
    "kernel": "R"
   },
   "source": [
    "## Population specific meta-analyses of Family and ADSP results"
   ]
  },
  {
   "cell_type": "markdown",
   "id": "5c6f73ed-0daf-44a6-86a5-6077a1b70b60",
   "metadata": {
    "kernel": "R"
   },
   "source": [
    "### Non-Hispanic Whites"
   ]
  },
  {
   "cell_type": "markdown",
   "id": "1c244b22-6bdf-4341-89c6-1e1a60757d01",
   "metadata": {
    "kernel": "R"
   },
   "source": [
    "#### model1 without adjusting for APOE4"
   ]
  },
  {
   "cell_type": "code",
   "execution_count": null,
   "id": "710eff74-908f-460e-9fe9-3abe5827ac8f",
   "metadata": {
    "kernel": "R"
   },
   "outputs": [],
   "source": [
    "SCHEME SAMPLESIZE\n",
    "MARKER   SNP\n",
    "WEIGHT   N\n",
    "EFFECT   BETA\n",
    "PVAL     P\n",
    "\n",
    "\n",
    "PROCESS /mnt/mfs/statgen/alzheimers-family/AD_rare_variants/SMMAT/noapoe/af0.01/model1_skat/European.pca.projected_AD.SMMAT.snp_stats.gz\n",
    "PROCESS /mnt/mfs/statgen/alzheimers-family/ADSP_2023/smmat/WES/noapoe/af0.01/model1_skat/European.pca.projected_outlier_removed_AD.SMMAT.snp_stats.gz\n",
    "\n",
    "OUTFILE /mnt/mfs/statgen/alzheimers-family/ADSP_2023/AD_ADSP_meta/SMMAT_European_model1_noapoe_af1_META .TXT\n",
    "ANALYZE\n",
    "ANALYZE HETEROGENEITY\n",
    "## Completed meta-analysis for 15713 markers!\n",
    "## Smallest p-value is 2.17e-11 at marker 'RPRD2'"
   ]
  },
  {
   "cell_type": "code",
   "execution_count": null,
   "id": "28bbb42e-c27c-436d-a3d5-596425fea050",
   "metadata": {},
   "outputs": [],
   "source": [
    "# Reformat the meta-results \n",
    "data = read.table('/mnt/mfs/statgen/alzheimers-family/ADSP_2023/AD_ADSP_meta/SMMAT_European_model1_noapoe_af1_META2.TXT', header = T, sep = '\\t')\n",
    "eur = read.table('/mnt/mfs/statgen/alzheimers-family/ADSP_2023/smmat/WES/noapoe/af0.01/model1_skat/European.pca.projected_outlier_removed_AD.SMMAT.snp_stats.gz', header = T, sep ='\\t')[, c(1, 2, 3)]\n",
    "eu = read.table('/mnt/mfs/statgen/alzheimers-family/AD_rare_variants/SMMAT/noapoe/af0.01/model1_skat/European.pca.projected_AD.SMMAT.snp_stats.gz', header = T, sep ='\\t')[, c(1, 2, 3)]\n",
    "pos = merge(eur, eu, by = c('CHR', 'POS', 'SNP'),all = TRUE)\n",
    "data = inner_join(data, pos, by = c('MarkerName'='SNP'))\n",
    "data$POS = as.numeric(data$POS)\n",
    "data$CHR = as.numeric(data$CHR)\n",
    "data <- data %>% distinct(MarkerName, .keep_all = TRUE)\n",
    "write.table(data,'/mnt/mfs/statgen/alzheimers-family/ADSP_2023/AD_ADSP_meta/European_model1_sex_af1.txt', sep = '\\t', quote = F, col.names = T, row.names = F)\n",
    "lambda <- median(qchisq(1-data$P.value,1), na.rm=TRUE)/qchisq(0.5,1)\n"
   ]
  },
  {
   "cell_type": "markdown",
   "id": "00d8f4c6-50bf-4c99-82df-0e7639a534f9",
   "metadata": {
    "kernel": "R"
   },
   "source": [
    "#### model2 without adjusting for APOE4"
   ]
  },
  {
   "cell_type": "code",
   "execution_count": null,
   "id": "a5998236-ac6a-46d1-b3b8-05ea2a4ec6af",
   "metadata": {
    "kernel": "R"
   },
   "outputs": [],
   "source": [
    "SCHEME SAMPLESIZE\n",
    "MARKER   SNP\n",
    "WEIGHT   N\n",
    "EFFECT   BETA\n",
    "PVAL     P\n",
    "\n",
    "\n",
    "PROCESS /mnt/mfs/statgen/alzheimers-family/AD_rare_variants/SMMAT/noapoe/af0.01/model3_skat/European.pca.projected_AD.SMMAT.snp_stats.gz\n",
    "PROCESS /mnt/mfs/statgen/alzheimers-family/ADSP_2023/smmat/WES/noapoe/af0.01/model3_skat/European.pca.projected_outlier_removed_AD.SMMAT.snp_stats.gz\n",
    "\n",
    "OUTFILE /mnt/mfs/statgen/alzheimers-family/ADSP_2023/AD_ADSP_meta/SMMAT_European_model3_noapoe_af1_META .TXT\n",
    "ANALYZE\n",
    "ANALYZE HETEROGENEITY\n",
    "\n",
    "## Completed meta-analysis for 18524 markers!\n",
    "## Smallest p-value is 2.36e-26 at marker 'WDR89'"
   ]
  },
  {
   "cell_type": "code",
   "execution_count": null,
   "id": "e2a922a0-a8f4-470c-9c81-d225383cbd4a",
   "metadata": {},
   "outputs": [],
   "source": [
    "#Reformat the meta-results \n",
    "data = read.table('/mnt/mfs/statgen/alzheimers-family/ADSP_2023/AD_ADSP_meta/SMMAT_European_model3_noapoe_af1_META2.TXT', header = T, sep = '\\t')\n",
    "eur = read.table('/mnt/mfs/statgen/alzheimers-family/ADSP_2023/smmat/WES/noapoe/af0.01/model3_skat/European.pca.projected_outlier_removed_AD.SMMAT.snp_stats.gz', header = T, sep ='\\t')[, c(1, 2, 3)]\n",
    "eu = read.table('/mnt/mfs/statgen/alzheimers-family/AD_rare_variants/SMMAT/noapoe/af0.01/model3_skat/European.pca.projected_AD.SMMAT.snp_stats.gz', header = T, sep ='\\t')[, c(1, 2, 3)]\n",
    "pos = merge(eur, eu, by = c('CHR', 'POS', 'SNP'),all = TRUE)\n",
    "data = inner_join(data, pos, by = c('MarkerName'='SNP'))\n",
    "data$POS = as.numeric(data$POS)\n",
    "data$CHR = as.numeric(data$CHR)\n",
    "data <- data %>% distinct(MarkerName, .keep_all = TRUE)\n",
    "write.table(data,'/mnt/mfs/statgen/alzheimers-family/ADSP_2023/AD_ADSP_meta/European_model3_sex_af1.txt', sep = '\\t', quote = F, col.names = T, row.names = F)\n",
    "lambda <- median(qchisq(1-data$P.value,1), na.rm=TRUE)/qchisq(0.5,1)"
   ]
  },
  {
   "cell_type": "markdown",
   "id": "9c5b60a9-6d25-4247-876e-7a779a33a4b3",
   "metadata": {
    "kernel": "R"
   },
   "source": [
    "#### model2 with adjusting for APOE4"
   ]
  },
  {
   "cell_type": "code",
   "execution_count": null,
   "id": "d9c0c2be-3f29-4b0b-a19a-89a21024507f",
   "metadata": {
    "kernel": "R"
   },
   "outputs": [],
   "source": [
    "SCHEME SAMPLESIZE\n",
    "MARKER   SNP\n",
    "WEIGHT   N\n",
    "EFFECT   BETA\n",
    "PVAL     P\n",
    "\n",
    "\n",
    "PROCESS /mnt/mfs/statgen/alzheimers-family/AD_rare_variants/SMMAT/apoe/af0.01/model1_skat/European.pca.projected_AD.SMMAT.snp_stats.gz\n",
    "PROCESS /mnt/mfs/statgen/alzheimers-family/ADSP_2023/smmat/WES/apoe/af0.01/model1_skat/European.pca.projected_outlier_removed_AD.SMMAT.snp_stats.gz\n",
    "\n",
    "OUTFILE /mnt/mfs/statgen/alzheimers-family/ADSP_2023/AD_ADSP_meta/SMMAT_European_model1_apoe_af1_META .TXT\n",
    "ANALYZE\n",
    "ANALYZE HETEROGENEITY\n",
    "\n",
    "## Completed meta-analysis for 15714 markers!\n",
    "## Smallest p-value is 2.775e-11 at marker 'RPRD2'"
   ]
  },
  {
   "cell_type": "code",
   "execution_count": null,
   "id": "e2198665-6e41-4fbd-975f-26f2d3e74132",
   "metadata": {},
   "outputs": [],
   "source": [
    "#Reformat the meta-results\n",
    "data = read.table('/mnt/mfs/statgen/alzheimers-family/ADSP_2023/AD_ADSP_meta/SMMAT_European_model1_apoe_af1_META2.TXT', header = T, sep = '\\t')\n",
    "eur = read.table('/mnt/mfs/statgen/alzheimers-family/ADSP_2023/smmat/WES/apoe/af0.01/model1_skat/European.pca.projected_outlier_removed_AD.SMMAT.snp_stats.gz', header = T, sep ='\\t')[, c(1, 2, 3)]\n",
    "eu = read.table('/mnt/mfs/statgen/alzheimers-family/AD_rare_variants/SMMAT/apoe/af0.01/model1_skat/European.pca.projected_AD.SMMAT.snp_stats.gz', header = T, sep ='\\t')[, c(1, 2, 3)]\n",
    "pos = merge(eur, eu, by = c('CHR', 'POS', 'SNP'),all = TRUE)\n",
    "data = inner_join(data, pos, by = c('MarkerName'='SNP'))\n",
    "data$POS = as.numeric(data$POS)\n",
    "data$CHR = as.numeric(data$CHR)\n",
    "data <- data %>% distinct(MarkerName, .keep_all = TRUE)\n",
    "write.table(data,'/mnt/mfs/statgen/alzheimers-family/ADSP_2023/AD_ADSP_meta/European_model1_apoe_af1.txt', sep = '\\t', quote = F, col.names = T, row.names = F)\n",
    "lambda <- median(qchisq(1-data$P.value,1), na.rm=TRUE)/qchisq(0.5,1)"
   ]
  },
  {
   "cell_type": "markdown",
   "id": "7ee25482-5a0e-4a1e-88ba-85138125464b",
   "metadata": {
    "kernel": "R"
   },
   "source": [
    "#### model2 with adjusting for APOE4"
   ]
  },
  {
   "cell_type": "code",
   "execution_count": null,
   "id": "5fa50e34-f4bc-4f98-a0e4-9303b37d3f9f",
   "metadata": {
    "kernel": "R"
   },
   "outputs": [],
   "source": [
    "SCHEME SAMPLESIZE\n",
    "MARKER   SNP\n",
    "WEIGHT   N\n",
    "EFFECT   BETA\n",
    "PVAL     P\n",
    "\n",
    "\n",
    "PROCESS /mnt/mfs/statgen/alzheimers-family/AD_rare_variants/SMMAT/apoe/af0.01/model3_skat/European.pca.projected_AD.SMMAT.snp_stats.gz\n",
    "PROCESS /mnt/mfs/statgen/alzheimers-family/ADSP_2023/smmat/WES/apoe/af0.01/model3_skat/European.pca.projected_outlier_removed_AD.SMMAT.snp_stats.gz\n",
    "\n",
    "OUTFILE /mnt/mfs/statgen/alzheimers-family/ADSP_2023/AD_ADSP_meta/SMMAT_European_model3_apoe_af1_META .TXT\n",
    "ANALYZE\n",
    "ANALYZE HETEROGENEITY\n",
    "\n",
    "## Completed meta-analysis for 18524 markers!\n",
    "## Smallest p-value is 5.247e-25 at marker 'WDR89'"
   ]
  },
  {
   "cell_type": "code",
   "execution_count": null,
   "id": "2711a5a7-4dbe-4304-96b2-0c30e67800e9",
   "metadata": {},
   "outputs": [],
   "source": [
    "#Reformat the meta-results\n",
    "data = read.table('/mnt/mfs/statgen/alzheimers-family/ADSP_2023/AD_ADSP_meta/SMMAT_European_model3_apoe_af1_META2.TXT', header = T, sep = '\\t')\n",
    "eur = read.table('/mnt/mfs/statgen/alzheimers-family/ADSP_2023/smmat/WES/apoe/af0.01/model3_skat/European.pca.projected_outlier_removed_AD.SMMAT.snp_stats.gz', header = T, sep ='\\t')[, c(1, 2, 3)]\n",
    "eu = read.table('/mnt/mfs/statgen/alzheimers-family/AD_rare_variants/SMMAT/apoe/af0.01/model3_skat/European.pca.projected_AD.SMMAT.snp_stats.gz', header = T, sep ='\\t')[, c(1, 2, 3)]\n",
    "pos = merge(eur, eu, by = c('CHR', 'POS', 'SNP'),all = TRUE)\n",
    "data = inner_join(data, pos, by = c('MarkerName'='SNP'))\n",
    "data$POS = as.numeric(data$POS)\n",
    "data$CHR = as.numeric(data$CHR)\n",
    "data <- data %>% distinct(MarkerName, .keep_all = TRUE)\n",
    "write.table(data,'/mnt/mfs/statgen/alzheimers-family/ADSP_2023/AD_ADSP_meta/European_model3_apoe_af1.txt', sep = '\\t', quote = F, col.names = T, row.names = F)\n",
    "lambda <- median(qchisq(1-data$P.value,1), na.rm=TRUE)/qchisq(0.5,1)"
   ]
  },
  {
   "cell_type": "markdown",
   "id": "f453e87c-98e5-4e7f-a318-0c6fa014fd92",
   "metadata": {
    "kernel": "R",
    "tags": []
   },
   "source": [
    "### African American"
   ]
  },
  {
   "cell_type": "markdown",
   "id": "f25ee07e-006b-43bc-8143-97b4d5c722b0",
   "metadata": {
    "kernel": "R"
   },
   "source": [
    "#### model1 without adjusting for APOE4"
   ]
  },
  {
   "cell_type": "code",
   "execution_count": null,
   "id": "0f726629-0413-4434-9e91-2537f5dd4fdb",
   "metadata": {
    "kernel": "R"
   },
   "outputs": [],
   "source": [
    "SCHEME SAMPLESIZE\n",
    "MARKER   SNP\n",
    "WEIGHT   N\n",
    "EFFECT   BETA\n",
    "PVAL     P\n",
    "\n",
    "\n",
    "PROCESS /mnt/mfs/statgen/alzheimers-family/AD_rare_variants/SMMAT/noapoe/af0.01/model1_skat/African.pca.projected_AD.SMMAT.snp_stats.gz\n",
    "PROCESS /mnt/mfs/statgen/alzheimers-family/ADSP_2023/smmat/WES/noapoe/af0.01/model1_skat/African.pca.projected_outlier_removed_AD.SMMAT.snp_stats.gz\n",
    "\n",
    "OUTFILE /mnt/mfs/statgen/alzheimers-family/ADSP_2023/AD_ADSP_meta/SMMAT_African_model1_noapoe_af1_META .TXT\n",
    "ANALYZE\n",
    "ANALYZE HETEROGENEITY\n",
    "\n",
    "## Completed meta-analysis for 14316 markers!\n",
    "## Smallest p-value is 2.653e-05 at marker 'UBR5'"
   ]
  },
  {
   "cell_type": "code",
   "execution_count": null,
   "id": "1999dd94-990d-4d9f-a926-67c4ef9c5c62",
   "metadata": {},
   "outputs": [],
   "source": [
    "#Reformat the meta-results\n",
    "data = read.table('/mnt/mfs/statgen/alzheimers-family/ADSP_2023/AD_ADSP_meta/SMMAT_African_model1_noapoe_af1_META2.TXT', header = T, sep = '\\t')\n",
    "afr = read.table('/mnt/mfs/statgen/alzheimers-family/ADSP_2023/smmat/WES/noapoe/af0.01/model1_skat/African.pca.projected_outlier_removed_AD.SMMAT.snp_stats.gz', header = T, sep ='\\t')[, c(1, 2, 3)]\n",
    "af = read.table('/mnt/mfs/statgen/alzheimers-family/AD_rare_variants/SMMAT/noapoe/af0.01/model1_skat/African.pca.projected_AD.SMMAT.snp_stats.gz', header = T, sep ='\\t')[, c(1, 2, 3)]\n",
    "pos = merge(afr, af, by = c('CHR', 'POS', 'SNP'),all = TRUE)\n",
    "data = inner_join(data, pos, by = c('MarkerName'='SNP'))\n",
    "data$POS = as.numeric(data$POS)\n",
    "data$CHR = as.numeric(data$CHR)\n",
    "data <- data %>% distinct(MarkerName, .keep_all = TRUE)\n",
    "write.table(data,'/mnt/mfs/statgen/alzheimers-family/ADSP_2023/AD_ADSP_meta/African_model1_sex_af1.txt', sep = '\\t', quote = F, col.names = T, row.names = F)\n",
    "lambda <- median(qchisq(1-data$P.value,1), na.rm=TRUE)/qchisq(0.5,1)"
   ]
  },
  {
   "cell_type": "markdown",
   "id": "cf130289-62ea-4375-9300-5bf34164d765",
   "metadata": {
    "kernel": "R"
   },
   "source": [
    "#### model2 without adjusting for APOE4"
   ]
  },
  {
   "cell_type": "code",
   "execution_count": null,
   "id": "adc60a56-228c-437d-b2a5-8d8414b5ba8c",
   "metadata": {
    "kernel": "R"
   },
   "outputs": [],
   "source": [
    "SCHEME SAMPLESIZE\n",
    "MARKER   SNP\n",
    "WEIGHT   N\n",
    "EFFECT   BETA\n",
    "PVAL     P\n",
    "\n",
    "\n",
    "PROCESS /mnt/mfs/statgen/alzheimers-family/AD_rare_variants/SMMAT/noapoe/af0.01/model3_skat/African.pca.projected_AD.SMMAT.snp_stats.gz\n",
    "PROCESS /mnt/mfs/statgen/alzheimers-family/ADSP_2023/smmat/WES/noapoe/af0.01/model3_skat/African.pca.projected_outlier_removed_AD.SMMAT.snp_stats.gz\n",
    "\n",
    "OUTFILE /mnt/mfs/statgen/alzheimers-family/ADSP_2023/AD_ADSP_meta/SMMAT_African_model3_noapoe_af1_META .TXT\n",
    "ANALYZE\n",
    "ANALYZE HETEROGENEITY\n",
    "\n",
    "## Completed meta-analysis for 17884 markers!\n",
    "## Smallest p-value is 6.324e-06 at marker 'BHMT'"
   ]
  },
  {
   "cell_type": "code",
   "execution_count": null,
   "id": "e520c55c-aa74-4391-8bed-d21a815ab2d6",
   "metadata": {},
   "outputs": [],
   "source": [
    "#Reformat the meta-results\n",
    "data = read.table('/mnt/mfs/statgen/alzheimers-family/ADSP_2023/AD_ADSP_meta/SMMAT_African_model3_noapoe_af1_META2.TXT', header = T, sep = '\\t')\n",
    "afr = read.table('/mnt/mfs/statgen/alzheimers-family/ADSP_2023/smmat/WES/noapoe/af0.01/model3_skat/African.pca.projected_outlier_removed_AD.SMMAT.snp_stats.gz', header = T, sep ='\\t')[, c(1, 2, 3)]\n",
    "af = read.table('/mnt/mfs/statgen/alzheimers-family/AD_rare_variants/SMMAT/noapoe/af0.01/model3_skat/African.pca.projected_AD.SMMAT.snp_stats.gz', header = T, sep ='\\t')[, c(1, 2, 3)]\n",
    "pos = merge(afr, af, by = c('CHR', 'POS', 'SNP'),all = TRUE)\n",
    "data = inner_join(data, pos, by = c('MarkerName'='SNP'))\n",
    "data$POS = as.numeric(data$POS)\n",
    "data$CHR = as.numeric(data$CHR)\n",
    "data <- data %>% distinct(MarkerName, .keep_all = TRUE)\n",
    "write.table(data,'/mnt/mfs/statgen/alzheimers-family/ADSP_2023/AD_ADSP_meta/African_model3_sex_af1.txt', sep = '\\t', quote = F, col.names = T, row.names = F)\n",
    "lambda <- median(qchisq(1-data$P.value,1), na.rm=TRUE)/qchisq(0.5,1)"
   ]
  },
  {
   "cell_type": "markdown",
   "id": "7b0ca094-e6b1-4ada-ab44-e0d2c7c85e94",
   "metadata": {
    "kernel": "R"
   },
   "source": [
    "#### model1 with adjusting for APOE4"
   ]
  },
  {
   "cell_type": "code",
   "execution_count": null,
   "id": "34c4839e-8cb5-4d69-8d9b-667811366665",
   "metadata": {
    "kernel": "R"
   },
   "outputs": [],
   "source": [
    "SCHEME SAMPLESIZE\n",
    "MARKER   SNP\n",
    "WEIGHT   N\n",
    "EFFECT   BETA\n",
    "PVAL     P\n",
    "\n",
    "\n",
    "PROCESS /mnt/mfs/statgen/alzheimers-family/AD_rare_variants/SMMAT/apoe/af0.01/model1_skat/African.pca.projected_AD.SMMAT.snp_stats.gz\n",
    "PROCESS /mnt/mfs/statgen/alzheimers-family/ADSP_2023/smmat/WES/apoe/af0.01/model1_skat/African.pca.projected_outlier_removed_AD.SMMAT.snp_stats.gz\n",
    "\n",
    "OUTFILE /mnt/mfs/statgen/alzheimers-family/ADSP_2023/AD_ADSP_meta/SMMAT_African_model1_apoe_af1_META .TXT\n",
    "ANALYZE\n",
    "ANALYZE HETEROGENEITY\n",
    "# Completed meta-analysis for 14316 markers!\n",
    "## Smallest p-value is 7.719e-05 at marker 'UBR5'"
   ]
  },
  {
   "cell_type": "code",
   "execution_count": null,
   "id": "53065067-4cbf-40e4-889d-f481aca1c910",
   "metadata": {},
   "outputs": [],
   "source": [
    "#Reformat the meta-results\n",
    "data = read.table('/mnt/mfs/statgen/alzheimers-family/ADSP_2023/AD_ADSP_meta/SMMAT_African_model1_apoe_af1_META2.TXT', header = T, sep = '\\t')\n",
    "afr = read.table('/mnt/mfs/statgen/alzheimers-family/ADSP_2023/smmat/WES/apoe/af0.01/model1_skat/African.pca.projected_outlier_removed_AD.SMMAT.snp_stats.gz', header = T, sep ='\\t')[, c(1, 2, 3)]\n",
    "af = read.table('/mnt/mfs/statgen/alzheimers-family/AD_rare_variants/SMMAT/apoe/af0.01/model1_skat/African.pca.projected_AD.SMMAT.snp_stats.gz', header = T, sep ='\\t')[, c(1, 2, 3)]\n",
    "pos = merge(afr, af, by = c('CHR', 'POS', 'SNP'),all = TRUE)\n",
    "data = inner_join(data, pos, by = c('MarkerName'='SNP'))\n",
    "data$POS = as.numeric(data$POS)\n",
    "data$CHR = as.numeric(data$CHR)\n",
    "data <- data %>% distinct(MarkerName, .keep_all = TRUE)\n",
    "write.table(data,'/mnt/mfs/statgen/alzheimers-family/ADSP_2023/AD_ADSP_meta/African_model1_apoe_af1.txt', sep = '\\t', quote = F, col.names = T, row.names = F)\n",
    "lambda <- median(qchisq(1-data$P.value,1), na.rm=TRUE)/qchisq(0.5,1)"
   ]
  },
  {
   "cell_type": "markdown",
   "id": "9755445b-0548-439f-a2b6-f0fabf52c7e2",
   "metadata": {
    "kernel": "R"
   },
   "source": [
    "#### model2 with adjusting for APOE4"
   ]
  },
  {
   "cell_type": "code",
   "execution_count": null,
   "id": "212c51e9-b0ec-405e-9da5-3705c7c8ef8f",
   "metadata": {
    "kernel": "R"
   },
   "outputs": [],
   "source": [
    "SCHEME SAMPLESIZE\n",
    "MARKER   SNP\n",
    "WEIGHT   N\n",
    "EFFECT   BETA\n",
    "PVAL     P\n",
    "\n",
    "\n",
    "PROCESS /mnt/mfs/statgen/alzheimers-family/AD_rare_variants/SMMAT/apoe/af0.01/model3_skat/African.pca.projected_AD.SMMAT.snp_stats.gz\n",
    "PROCESS /mnt/mfs/statgen/alzheimers-family/ADSP_2023/smmat/WES/apoe/af0.01/model3_skat/African.pca.projected_outlier_removed_AD.SMMAT.snp_stats.gz\n",
    "\n",
    "OUTFILE /mnt/mfs/statgen/alzheimers-family/ADSP_2023/AD_ADSP_meta/SMMAT_African_model3_apoe_af1_META .TXT\n",
    "ANALYZE\n",
    "ANALYZE HETEROGENEITY\n",
    "## Completed meta-analysis for 17884 markers!\n",
    "## Smallest p-value is 9.041e-05 at marker 'RBFA"
   ]
  },
  {
   "cell_type": "code",
   "execution_count": null,
   "id": "50c0d6b5-63b5-4f9b-9792-2a3c4f6da552",
   "metadata": {},
   "outputs": [],
   "source": [
    "#Reformat the meta-results\n",
    "data = read.table('/mnt/mfs/statgen/alzheimers-family/ADSP_2023/AD_ADSP_meta/SMMAT_African_model3_apoe_af1_META2.TXT', header = T, sep = '\\t')\n",
    "afr = read.table('/mnt/mfs/statgen/alzheimers-family/ADSP_2023/smmat/WES/apoe/af0.01/model3_skat/African.pca.projected_outlier_removed_AD.SMMAT.snp_stats.gz', header = T, sep ='\\t')[, c(1, 2, 3)]\n",
    "af = read.table('/mnt/mfs/statgen/alzheimers-family/AD_rare_variants/SMMAT/apoe/af0.01/model3_skat/African.pca.projected_AD.SMMAT.snp_stats.gz', header = T, sep ='\\t')[, c(1, 2, 3)]\n",
    "pos = merge(afr, af, by = c('CHR', 'POS', 'SNP'),all = TRUE)\n",
    "data = inner_join(data, pos, by = c('MarkerName'='SNP'))\n",
    "data$POS = as.numeric(data$POS)\n",
    "data$CHR = as.numeric(data$CHR)\n",
    "data <- data %>% distinct(MarkerName, .keep_all = TRUE)\n",
    "write.table(data,'/mnt/mfs/statgen/alzheimers-family/ADSP_2023/AD_ADSP_meta/African_model3_apoe_af1.txt', sep = '\\t', quote = F, col.names = T, row.names = F)\n",
    "lambda <- median(qchisq(1-data$P.value,1), na.rm=TRUE)/qchisq(0.5,1)"
   ]
  },
  {
   "cell_type": "markdown",
   "id": "adee67d2-2cf9-454b-89dc-c037317f68ea",
   "metadata": {
    "kernel": "R"
   },
   "source": [
    "### Carribean Hispanics"
   ]
  },
  {
   "cell_type": "markdown",
   "id": "c6f21b3f-46ee-4dee-a35f-c7d2d2230838",
   "metadata": {
    "kernel": "R"
   },
   "source": [
    "#### model1 without adjusting for APOE4"
   ]
  },
  {
   "cell_type": "code",
   "execution_count": null,
   "id": "c1ec5567-8567-413b-80a2-def952ab62e4",
   "metadata": {
    "kernel": "R"
   },
   "outputs": [],
   "source": [
    "SCHEME SAMPLESIZE\n",
    "MARKER   SNP\n",
    "WEIGHT   N\n",
    "EFFECT   BETA\n",
    "PVAL     P\n",
    "\n",
    "\n",
    "PROCESS /mnt/mfs/statgen/alzheimers-family/AD_rare_variants/SMMAT/noapoe/af0.01/model1_skat/Hispanic.pca.projected_AD.SMMAT.snp_stats.gz\n",
    "PROCESS /mnt/mfs/statgen/alzheimers-family/ADSP_2023/smmat/WES/noapoe/af0.01/model1_skat/Hispanic.pca.projected_outlier_removed_AD.SMMAT.snp_stats.gz\n",
    "\n",
    "OUTFILE /mnt/mfs/statgen/alzheimers-family/ADSP_2023/AD_ADSP_meta/SMMAT_Hispanic_model1_noapoe_af1_META .TXT\n",
    "ANALYZE\n",
    "ANALYZE HETEROGENEITY\n",
    "\n",
    "## Completed meta-analysis for 14296 markers!\n",
    "## Smallest p-value is 1.829e-05 at marker 'TARS'"
   ]
  },
  {
   "cell_type": "code",
   "execution_count": null,
   "id": "a38c1d0a-10d0-4f40-8bb1-40e068c2af67",
   "metadata": {},
   "outputs": [],
   "source": [
    "#Reformat the meta-results\n",
    "data = read.table('/mnt/mfs/statgen/alzheimers-family/ADSP_2023/AD_ADSP_meta/SMMAT_Hispanic_model1_noapoe_af1_META2.TXT', header = T, sep = '\\t')\n",
    "his = read.table('/mnt/mfs/statgen/alzheimers-family/ADSP_2023/smmat/WES/noapoe/af0.01/model1_skat/Hispanic.pca.projected_outlier_removed_AD.SMMAT.snp_stats.gz', header = T, sep ='\\t')[, c(1, 2, 3)]\n",
    "hs = read.table('/mnt/mfs/statgen/alzheimers-family/AD_rare_variants/SMMAT/noapoe/af0.01/model1_skat/Hispanic.pca.projected_AD.SMMAT.snp_stats.gz', header = T, sep ='\\t')[, c(1, 2, 3)]\n",
    "pos = merge(his, hs, by = c('CHR', 'POS', 'SNP'),all = TRUE)\n",
    "data = inner_join(data, pos, by = c('MarkerName'='SNP'))\n",
    "data$POS = as.numeric(data$POS)\n",
    "data$CHR = as.numeric(data$CHR)\n",
    "data <- data %>% distinct(MarkerName, .keep_all = TRUE)\n",
    "write.table(data,'/mnt/mfs/statgen/alzheimers-family/ADSP_2023/AD_ADSP_meta/Hispanic_model1_sex_af1.txt', sep = '\\t', quote = F, col.names = T, row.names = F)\n",
    "lambda <- median(qchisq(1-data$P.value,1), na.rm=TRUE)/qchisq(0.5,1)"
   ]
  },
  {
   "cell_type": "markdown",
   "id": "fac65fd3-1ff9-4879-be5b-0f1c539ef1e0",
   "metadata": {
    "kernel": "R"
   },
   "source": [
    "#### model2 without adjusting for APOE4"
   ]
  },
  {
   "cell_type": "code",
   "execution_count": null,
   "id": "2ca682cf-a9fd-4ab1-a12a-2f72c7435995",
   "metadata": {
    "kernel": "R"
   },
   "outputs": [],
   "source": [
    "SCHEME SAMPLESIZE\n",
    "MARKER   SNP\n",
    "WEIGHT   N\n",
    "EFFECT   SCORE\n",
    "PVAL     P\n",
    "\n",
    "\n",
    "PROCESS /mnt/mfs/statgen/alzheimers-family/ADSP_2023/smmat/WES/noapoe/af0.01/model3/ADSP_Hispanic_AD.SMMAT_filtered_variants.snp_stats.txt\n",
    "PROCESS /mnt/mfs/statgen/alzheimers-family/AD_rare_variants/SMMAT/no_apoe/model3/AD_Hispanic_AD.SMMAT_filtered_variants.snp_stats.txt\n",
    "\n",
    "\n",
    "OUTFILE /mnt/mfs/statgen/alzheimers-family/ADSP_2023/AD_ADSP_meta/Hispanic_model3_sex_af1_META .TXT\n",
    "ANALYZE\n",
    "ANALYZE\n",
    "ANALYZE HETEROGENEITY\n",
    "## Completed meta-analysis for 18289 markers!\n",
    "## Smallest p-value is 3.275e-05 at marker 'TPSB2'"
   ]
  },
  {
   "cell_type": "code",
   "execution_count": null,
   "id": "cbe48d88-d7f1-4fff-8ddf-53ca12bb8553",
   "metadata": {},
   "outputs": [],
   "source": [
    "#Reformat the meta-results\n",
    "data = read.table('/mnt/mfs/statgen/alzheimers-family/ADSP_2023/AD_ADSP_meta/SMMAT_Hispanic_model3_noapoe_af1_META2.TXT', header = T, sep = '\\t')\n",
    "afr = read.table('/mnt/mfs/statgen/alzheimers-family/ADSP_2023/smmat/WES/noapoe/af0.01/model3_skat/Hispanic.pca.projected_outlier_removed_AD.SMMAT.snp_stats.gz', header = T, sep ='\\t')[, c(1, 2, 3)]\n",
    "af = read.table('/mnt/mfs/statgen/alzheimers-family/AD_rare_variants/SMMAT/noapoe/af0.01/model3_skat/Hispanic.pca.projected_AD.SMMAT.snp_stats.gz', header = T, sep ='\\t')[, c(1, 2, 3)]\n",
    "pos = merge(afr, af, by = c('CHR', 'POS', 'SNP'),all = TRUE)\n",
    "data = inner_join(data, pos, by = c('MarkerName'='SNP'))\n",
    "data$POS = as.numeric(data$POS)\n",
    "data$CHR = as.numeric(data$CHR)\n",
    "data <- data %>% distinct(MarkerName, .keep_all = TRUE)\n",
    "write.table(data,'/mnt/mfs/statgen/alzheimers-family/ADSP_2023/AD_ADSP_meta/Hispanic_model3_sex_af1.txt', sep = '\\t', quote = F, col.names = T, row.names = F)\n",
    "lambda <- median(qchisq(1-data$P.value,1), na.rm=TRUE)/qchisq(0.5,1)"
   ]
  },
  {
   "cell_type": "markdown",
   "id": "95fa4706-cb18-47b4-83f4-433f2ec340a4",
   "metadata": {
    "kernel": "R"
   },
   "source": [
    "#### model1 with adjusting for APOE4"
   ]
  },
  {
   "cell_type": "code",
   "execution_count": null,
   "id": "37e9e44f-8e84-4fa1-92b3-6c4f17a89b95",
   "metadata": {
    "kernel": "R"
   },
   "outputs": [],
   "source": [
    "SCHEME SAMPLESIZE\n",
    "MARKER   SNP\n",
    "WEIGHT   N\n",
    "EFFECT   BETA\n",
    "PVAL     P\n",
    "\n",
    "\n",
    "PROCESS /mnt/mfs/statgen/alzheimers-family/AD_rare_variants/SMMAT/apoe/af0.01/model1_skat/Hispanic.pca.projected_AD.SMMAT.snp_stats.gz\n",
    "PROCESS /mnt/mfs/statgen/alzheimers-family/ADSP_2023/smmat/WES/apoe/af0.01/model1_skat/Hispanic.pca.projected_outlier_removed_AD.SMMAT.snp_stats.gz\n",
    "\n",
    "OUTFILE /mnt/mfs/statgen/alzheimers-family/ADSP_2023/AD_ADSP_meta/SMMAT_Hispanic_model1_apoe_af1_META .TXT\n",
    "ANALYZE\n",
    "ANALYZE HETEROGENEITY\n",
    "## Completed meta-analysis for 14296 markers!\n",
    "## Smallest p-value is 1.207e-05 at marker 'TARS'"
   ]
  },
  {
   "cell_type": "code",
   "execution_count": null,
   "id": "396cdb92-ae76-41b5-a30c-b4e651ce241a",
   "metadata": {},
   "outputs": [],
   "source": [
    "#Reformat the meta-results\n",
    "data = read.table('/mnt/mfs/statgen/alzheimers-family/ADSP_2023/AD_ADSP_meta/SMMAT_Hispanic_model1_apoe_af1_META2.TXT', header = T, sep = '\\t')\n",
    "his = read.table('/mnt/mfs/statgen/alzheimers-family/ADSP_2023/smmat/WES/apoe/af0.01/model1_skat/Hispanic.pca.projected_outlier_removed_AD.SMMAT.snp_stats.gz', header = T, sep ='\\t')[, c(1, 2, 3)]\n",
    "hs = read.table('/mnt/mfs/statgen/alzheimers-family/AD_rare_variants/SMMAT/apoe/af0.01/model1_skat/Hispanic.pca.projected_AD.SMMAT.snp_stats.gz', header = T, sep ='\\t')[, c(1, 2, 3)]\n",
    "pos = merge(his, hs, by = c('CHR', 'POS', 'SNP'),all = TRUE)\n",
    "data = inner_join(data, pos, by = c('MarkerName'='SNP'))\n",
    "data$POS = as.numeric(data$POS)\n",
    "data$CHR = as.numeric(data$CHR)\n",
    "data <- data %>% distinct(MarkerName, .keep_all = TRUE)\n",
    "write.table(data,'/mnt/mfs/statgen/alzheimers-family/ADSP_2023/AD_ADSP_meta/Hispanic_model1_apoe_af1.txt', sep = '\\t', quote = F, col.names = T, row.names = F)\n",
    "lambda <- median(qchisq(1-data$P.value,1), na.rm=TRUE)/qchisq(0.5,1)"
   ]
  },
  {
   "cell_type": "markdown",
   "id": "13d498c7-c3fd-4058-bbae-da94fcc6f771",
   "metadata": {
    "kernel": "R"
   },
   "source": [
    "#### model2 with adjusting for APOE4"
   ]
  },
  {
   "cell_type": "code",
   "execution_count": null,
   "id": "8e4338bf-88aa-4a1d-a922-a55a090fa99b",
   "metadata": {
    "kernel": "R"
   },
   "outputs": [],
   "source": [
    "SCHEME SAMPLESIZE\n",
    "MARKER   SNP\n",
    "WEIGHT   N\n",
    "EFFECT   BETA\n",
    "PVAL     P\n",
    "\n",
    "\n",
    "PROCESS /mnt/mfs/statgen/alzheimers-family/AD_rare_variants/SMMAT/apoe/af0.01/model3_skat/Hispanic.pca.projected_AD.SMMAT.snp_stats.gz\n",
    "PROCESS /mnt/mfs/statgen/alzheimers-family/ADSP_2023/smmat/WES/apoe/af0.01/model3_skat/Hispanic.pca.projected_outlier_removed_AD.SMMAT.snp_stats.gz\n",
    "\n",
    "OUTFILE /mnt/mfs/statgen/alzheimers-family/ADSP_2023/AD_ADSP_meta/SMMAT_Hispanic_model3_apoe_af1_META .TXT\n",
    "ANALYZE\n",
    "ANALYZE HETEROGENEITY\n",
    "\n",
    "## Completed meta-analysis for 18289 markers!\n",
    "## Smallest p-value is 4.738e-05 at marker 'TPSB2'"
   ]
  },
  {
   "cell_type": "code",
   "execution_count": null,
   "id": "645d13ac-a7ea-49ec-8819-c6644811c26f",
   "metadata": {},
   "outputs": [],
   "source": [
    "#Reformat the meta-results\n",
    "data = read.table('/mnt/mfs/statgen/alzheimers-family/ADSP_2023/AD_ADSP_meta/SMMAT_Hispanic_model3_apoe_af1_META2.TXT', header = T, sep = '\\t')\n",
    "his = read.table('/mnt/mfs/statgen/alzheimers-family/ADSP_2023/smmat/WES/apoe/af0.01/model3_skat/Hispanic.pca.projected_outlier_removed_AD.SMMAT.snp_stats.gz', header = T, sep ='\\t')[, c(1, 2, 3)]\n",
    "hs = read.table('/mnt/mfs/statgen/alzheimers-family/AD_rare_variants/SMMAT/apoe/af0.01/model3_skat/Hispanic.pca.projected_AD.SMMAT.snp_stats.gz', header = T, sep ='\\t')[, c(1, 2, 3)]\n",
    "pos = merge(his, hs, by = c('CHR', 'POS', 'SNP'),all = TRUE)\n",
    "data = inner_join(data, pos, by = c('MarkerName'='SNP'))\n",
    "data$POS = as.numeric(data$POS)\n",
    "data$CHR = as.numeric(data$CHR)\n",
    "data <- data %>% distinct(MarkerName, .keep_all = TRUE)\n",
    "write.table(data,'/mnt/mfs/statgen/alzheimers-family/ADSP_2023/AD_ADSP_meta/Hispanic_model3_apoe_af1.txt', sep = '\\t', quote = F, col.names = T, row.names = F)\n",
    "lambda <- median(qchisq(1-data$P.value,1), na.rm=TRUE)/qchisq(0.5,1)"
   ]
  },
  {
   "cell_type": "code",
   "execution_count": null,
   "id": "c509d41e-abfb-461f-bb9f-c29b23d87930",
   "metadata": {
    "kernel": "R"
   },
   "outputs": [],
   "source": []
  }
 ],
 "metadata": {
  "kernelspec": {
   "display_name": "R",
   "language": "R",
   "name": "ir"
  },
  "language_info": {
   "codemirror_mode": "r",
   "file_extension": ".r",
   "mimetype": "text/x-r-source",
   "name": "R",
   "pygments_lexer": "r",
   "version": "4.3.2"
  },
  "sos": {
   "kernels": [
    [
     "Bash",
     "bash",
     "Bash",
     "#E6EEFF",
     "shell"
    ],
    [
     "R",
     "ir",
     "R",
     "#DCDCDA",
     "r"
    ],
    [
     "SoS",
     "sos",
     "",
     "",
     "sos"
    ]
   ],
   "version": "0.23.2"
  },
  "toc-autonumbering": true
 },
 "nbformat": 4,
 "nbformat_minor": 5
}
