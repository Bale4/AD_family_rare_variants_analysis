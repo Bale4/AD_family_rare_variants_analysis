{
 "cells": [
  {
   "cell_type": "markdown",
   "id": "09533e0f-8776-4ff1-9f23-b8d60383b351",
   "metadata": {
    "kernel": "SoS"
   },
   "source": [
    "# ADSP_analysis_update\n",
    "\n",
    "This notenook is for the  analysis on ADSP WES \n",
    "\n",
    "Written by Bale, 2023"
   ]
  },
  {
   "cell_type": "markdown",
   "id": "d0a3ac46-8756-42bf-8f16-85229f4beb4c",
   "metadata": {
    "kernel": "SoS"
   },
   "source": [
    "***Pheno data***: /mnt/mfs/statgen/alzheimers-family/ADSP_pheno_updated_20221129/\n",
    "\n",
    "***Genetic data***:  /mnt/mfs/statgen/alzheimers-family/ADSP/merge_adsp\n",
    "    \n",
    "We used GMMAT software included in [our workflow](https://github.com/cumc/bioworkflows/blob/master/GWAS/LMM.ipynb) for the analyses. The docker image that contains all the necessary software installations to run this notebook and workflow can be retrieved by the following command: docker pull statisticalgenetics/lmm:3.0"
   ]
  },
  {
   "cell_type": "markdown",
   "id": "943d9ac8-3563-4df7-9815-09ece7eae691",
   "metadata": {
    "kernel": "R"
   },
   "source": [
    "# Common Variants"
   ]
  },
  {
   "cell_type": "markdown",
   "id": "7aeb8b76-ae54-4604-b555-99ee6347e465",
   "metadata": {
    "kernel": "SoS"
   },
   "source": [
    "## QC genetic data"
   ]
  },
  {
   "cell_type": "code",
   "execution_count": 8,
   "id": "62886378-22c9-40bd-b176-1e8c77aa4c76",
   "metadata": {
    "kernel": "Bash",
    "tags": []
   },
   "outputs": [
    {
     "name": "stdout",
     "output_type": "stream",
     "text": [
      "INFO: Running \u001b[32mqc_no_prune\u001b[0m: Filter SNPs and select individuals\n",
      "INFO: \u001b[32mqc_no_prune\u001b[0m (index=0) is \u001b[32mignored\u001b[0m due to saved signature\n",
      "INFO: \u001b[32mqc_no_prune\u001b[0m output:   \u001b[32m/mnt/mfs/statgen/alzheimers-family/ADSP_2023/geno/merge_adsp.African.filtered.unrelated_common.filtered.bed\u001b[0m\n",
      "INFO: Workflow qc_no_prune (ID=w1ea7ee50c07bd868) is ignored with 1 ignored step.\n",
      "INFO: Running \u001b[32mqc_no_prune\u001b[0m: Filter SNPs and select individuals\n",
      "INFO: \u001b[32mqc_no_prune\u001b[0m (index=0) is \u001b[32mignored\u001b[0m due to saved signature\n",
      "INFO: \u001b[32mqc_no_prune\u001b[0m output:   \u001b[32m/mnt/mfs/statgen/alzheimers-family/ADSP_2023/geno/merge_adsp.European.filtered.unrelated_common.filtered.bed\u001b[0m\n",
      "INFO: Workflow qc_no_prune (ID=w60acd67624b6bdc5) is ignored with 1 ignored step.\n",
      "INFO: Running \u001b[32mqc_no_prune\u001b[0m: Filter SNPs and select individuals\n",
      "INFO: \u001b[32mqc_no_prune\u001b[0m (index=0) is \u001b[32mignored\u001b[0m due to saved signature\n",
      "INFO: \u001b[32mqc_no_prune\u001b[0m output:   \u001b[32m/mnt/mfs/statgen/alzheimers-family/ADSP_2023/geno/merge_adsp.Hispanic.filtered.unrelated_common.filtered.bed\u001b[0m\n",
      "INFO: Workflow qc_no_prune (ID=wc7ec1182c56c2517) is ignored with 1 ignored step.\n",
      "INFO: Running \u001b[32mqc_no_prune\u001b[0m: Filter SNPs and select individuals\n",
      "INFO: \u001b[32mqc_no_prune\u001b[0m (index=0) is \u001b[32mignored\u001b[0m due to saved signature\n",
      "INFO: \u001b[32mqc_no_prune\u001b[0m output:   \u001b[32m/mnt/mfs/statgen/alzheimers-family/ADSP_2023/geno/merge_adsp.African.filtered.related.filtered.extracted.bed\u001b[0m\n",
      "INFO: Workflow qc_no_prune (ID=wb15185c0687f741b) is ignored with 1 ignored step.\n",
      "INFO: Running \u001b[32mqc_no_prune\u001b[0m: Filter SNPs and select individuals\n",
      "INFO: \u001b[32mqc_no_prune\u001b[0m is \u001b[32mcompleted\u001b[0m.\n",
      "INFO: \u001b[32mqc_no_prune\u001b[0m output:   \u001b[32m/mnt/mfs/statgen/alzheimers-family/ADSP_2023/geno/merge_adsp.European.filtered.related.filtered.extracted.bed\u001b[0m\n",
      "INFO: Workflow qc_no_prune (ID=wef10ce8f39443e52) is executed successfully with 1 completed step.\n",
      "INFO: Running \u001b[32mqc_no_prune\u001b[0m: Filter SNPs and select individuals\n",
      "INFO: \u001b[32mqc_no_prune\u001b[0m (index=0) is \u001b[32mignored\u001b[0m due to saved signature\n",
      "INFO: \u001b[32mqc_no_prune\u001b[0m output:   \u001b[32m/mnt/mfs/statgen/alzheimers-family/ADSP_2023/geno/merge_adsp.Hispanic.filtered.related.filtered.extracted.bed\u001b[0m\n",
      "INFO: Workflow qc_no_prune (ID=w9443cc26ea191891) is ignored with 1 ignored step.\n"
     ]
    }
   ],
   "source": [
    "#Generating genoFile without LD pruning\n",
    "ml Singularity\n",
    "for i in African European Hispanic; do\n",
    "# unrelated individuals\n",
    "sos run ~/project2022/notebook/AD/xqtl-pipeline/pipeline/GWAS_QC.ipynb qc_no_prune \\\n",
    "    --cwd /mnt/mfs/statgen/alzheimers-family/ADSP_2023/geno \\\n",
    "    --genoFile /mnt/mfs/statgen/alzheimers-family/ADSP_2023/geno/merge_adsp.$i.filtered.bed \\\n",
    "    --keep_samples /mnt/mfs/statgen/alzheimers-family/ADSP_2023/PCA/king/merge_adsp.$i.filtered.unrelated_id \\\n",
    "    --remove_samples /mnt/mfs/statgen/alzheimers-family/ADSP_2023/PCA_QC/$i.pca.projected.outliers \\\n",
    "    --maf_filter 0.01 \\\n",
    "    --geno_filter 0.01 \\\n",
    "    --mind_filter 0.1 \\\n",
    "    --hwe_filter 5e-08 \\\n",
    "    --name unrelated_common \\\n",
    "    --container /mnt/mfs/statgen/containers/lmm.sif\n",
    "done\n",
    "# related individuals same set of variants\n",
    "for i in African European Hispanic; do\n",
    "sos run ~/project2022/notebook/AD/xqtl-pipeline/pipeline/GWAS_QC.ipynb qc_no_prune \\\n",
    "    --cwd /mnt/mfs/statgen/alzheimers-family/ADSP_2023/geno \\\n",
    "    --genoFile /mnt/mfs/statgen/alzheimers-family/ADSP_2023/geno/merge_adsp.$i.filtered.bed \\\n",
    "    --keep_samples /mnt/mfs/statgen/alzheimers-family/ADSP_2023/PCA/king/merge_adsp.$i.filtered.related_id\\\n",
    "    --remove_samples /mnt/mfs/statgen/alzheimers-family/ADSP_2023/PCA_QC/$i.pca.projected.outliers \\\n",
    "    --keep_variants /mnt/mfs/statgen/alzheimers-family/ADSP_2023/geno/merge_adsp.$i.filtered.unrelated_common.filtered.bim \\\n",
    "    --maf_filter 0 \\\n",
    "    --geno_filter 1 \\\n",
    "    --mind_filter 1 \\\n",
    "    --hwe_filter 5e-08 \\\n",
    "    --name related \\\n",
    "    --container /mnt/mfs/statgen/containers/lmm.sif \n",
    "done"
   ]
  },
  {
   "cell_type": "code",
   "execution_count": null,
   "id": "c713c5c4-8bf5-414b-8f11-d1b68c54850b",
   "metadata": {
    "kernel": "Bash"
   },
   "outputs": [],
   "source": [
    "ml Singularity\n",
    "for i in African European Hispanic; do\n",
    "sos run ~/project2022/notebook/AD/xqtl-pipeline/pipeline/GWAS_QC.ipynb qc:1 \\\n",
    "  --cwd /mnt/mfs/statgen/alzheimers-family/ADSP_2023/geno/qced \\\n",
    "  --genoFile /mnt/mfs/statgen/alzheimers-family/ADSP/merge_adsp.bed \\\n",
    "  --maf_filter 0.01 \\\n",
    "  --geno_filter 0.01 \\\n",
    "  --mind_filter 0.1 \\\n",
    "  --keep_samples /mnt/mfs/statgen/alzheimers-family/ADSP_pheno_updated_20221129/$i.id \\\n",
    "  --name common \\\n",
    "  --hwe_filter 5e-08 \\\n",
    "  --container /mnt/vast/hpc/csg/containers/lmm.sif \n",
    "done"
   ]
  },
  {
   "cell_type": "code",
   "execution_count": null,
   "id": "776b3344-b69e-4ed6-81ac-223fb9e6d3b3",
   "metadata": {
    "kernel": "SoS",
    "tags": []
   },
   "outputs": [],
   "source": [
    "# merge two data-sets\n",
    "bash: container= '/mnt/mfs/statgen/containers/lmm.sif'\n",
    "for i in African European Hispanic; do\n",
    "    plink --bfile /mnt/mfs/statgen/alzheimers-family/ADSP_2023/geno/merge_adsp.$i.filtered.related.filtered.extracted \\\n",
    "         --bmerge /mnt/mfs/statgen/alzheimers-family/ADSP_2023/geno/merge_adsp.$i.filtered.unrelated_common.filtered.bed \\\n",
    "                  /mnt/mfs/statgen/alzheimers-family/ADSP_2023/geno/merge_adsp.$i.filtered.unrelated_common.filtered.bim \\\n",
    "                  /mnt/mfs/statgen/alzheimers-family/ADSP_2023/geno/merge_adsp.$i.filtered.unrelated_common.filtered.fam \\\n",
    "        --make-bed --out /mnt/mfs/statgen/alzheimers-family/ADSP_2023/geno/adsp_geno_qced.$i\n",
    "done"
   ]
  },
  {
   "cell_type": "code",
   "execution_count": 9,
   "id": "51386da5-78f5-4c7f-a142-41292f245d9f",
   "metadata": {
    "kernel": "R",
    "tags": []
   },
   "outputs": [],
   "source": [
    "##in order to run gemma, pheno column in fam file can not be missing, so make modification on fam file.\n",
    "data=read.table('/mnt/mfs/statgen/alzheimers-family/ADSP_2023/geno/adsp_geno_qced.African.fam',header=F)\n",
    "data[,6]=5\n",
    "write.table(data,'/mnt/mfs/statgen/alzheimers-family/ADSP_2023/geno/adsp_geno_qced.African.fam',col.names=F,row.names=F,quote=F,sep = '\\t')\n",
    "\n",
    "data1=read.table('/mnt/mfs/statgen/alzheimers-family/ADSP_2023/geno/adsp_geno_qced.Hispanic.fam',header=F)\n",
    "data1[,6]=5\n",
    "write.table(data1,'/mnt/mfs/statgen/alzheimers-family/ADSP_2023/geno/adsp_geno_qced.Hispanic.fam',col.names=F,row.names=F,quote=F,sep = '\\t')\n",
    "\n",
    "data2=read.table('/mnt/mfs/statgen/alzheimers-family/ADSP_2023/geno/adsp_geno_qced.European.fam',header=F)\n",
    "data2[,6]=5\n",
    "write.table(data2,'/mnt/mfs/statgen/alzheimers-family/ADSP_2023/geno/adsp_geno_qced.European.fam',col.names=F,row.names=F,quote=F,sep = '\\t')"
   ]
  },
  {
   "cell_type": "markdown",
   "id": "929ef0dc-f68c-46ff-933d-0d838a540edb",
   "metadata": {
    "kernel": "R"
   },
   "source": [
    " ## kinship matrix"
   ]
  },
  {
   "cell_type": "code",
   "execution_count": 10,
   "id": "66c56952-e677-46f3-ab74-faf6dc4dd828",
   "metadata": {
    "kernel": "Bash",
    "tags": []
   },
   "outputs": [
    {
     "name": "stdout",
     "output_type": "stream",
     "text": [
      "GEMMA 0.98.5 (2021-08-25) by Xiang Zhou, Pjotr Prins and team (C) 2012-2021\n",
      "Reading Files ... \n",
      "## number of total individuals = 3830\n",
      "## number of analyzed individuals = 3830\n",
      "## number of covariates = 1\n",
      "## number of phenotypes = 1\n",
      "## number of total SNPs/var        =    98807\n",
      "## number of analyzed SNPs         =    98321\n",
      "Calculating Relatedness Matrix ... \n",
      "================================================== 100%\n",
      "**** INFO: Done.\n",
      "GEMMA 0.98.5 (2021-08-25) by Xiang Zhou, Pjotr Prins and team (C) 2012-2021\n",
      "Reading Files ... \n",
      "## number of total individuals = 11018\n",
      "## number of analyzed individuals = 11018\n",
      "## number of covariates = 1\n",
      "## number of phenotypes = 1\n",
      "## number of total SNPs/var        =    46306\n",
      "## number of analyzed SNPs         =    46201\n",
      "Calculating Relatedness Matrix ... \n",
      "================================================== 100%\n",
      "**** INFO: Done.\n",
      "GEMMA 0.98.5 (2021-08-25) by Xiang Zhou, Pjotr Prins and team (C) 2012-2021\n",
      "Reading Files ... \n",
      "## number of total individuals = 2164\n",
      "## number of analyzed individuals = 2164\n",
      "## number of covariates = 1\n",
      "## number of phenotypes = 1\n",
      "## number of total SNPs/var        =    79348\n",
      "## number of analyzed SNPs         =    78549\n",
      "Calculating Relatedness Matrix ... \n",
      "================================================== 100%\n",
      "**** INFO: Done.\n"
     ]
    }
   ],
   "source": [
    "ml GEMMA\n",
    "for i in African European Hispanic; do\n",
    "gemma \\\n",
    "  -bfile /mnt/mfs/statgen/alzheimers-family/ADSP_2023/geno/adsp_geno_qced.$i \\\n",
    "  -gk 2 \\\n",
    "  -o $i \\\n",
    "  -outdir /mnt/mfs/statgen/alzheimers-family/ADSP_2023/geno/kinship\n",
    "done"
   ]
  },
  {
   "cell_type": "markdown",
   "id": "ba39cd8b-3bb1-4cfc-9d34-e885a318417c",
   "metadata": {
    "kernel": "SoS"
   },
   "source": [
    "## Null models"
   ]
  },
  {
   "cell_type": "code",
   "execution_count": null,
   "id": "71c9f0fe-d04b-420e-a293-57ee9832b8aa",
   "metadata": {
    "kernel": "Bash"
   },
   "outputs": [],
   "source": [
    "#MODEL ONE\n",
    "for i in African European Hispanic; do\n",
    "module load Singularity\n",
    "sos run ~/project2022/bioworkflows/GWAS/LMM.ipynb null_model \\\n",
    "--cwd /mnt/mfs/statgen/alzheimers-family/ADSP_2023/null_model \\\n",
    "--bfile /mnt/mfs/statgen/alzheimers-family/ADSP_2023/geno/adsp_geno_qced.$i.fam \\\n",
    "--phenoFile /mnt/mfs/statgen/alzheimers-family/ADSP_2023/PCA_QC/$i.pca.projected_outlier_removed.txt \\\n",
    "--grmFile /mnt/mfs/statgen/alzheimers-family/ADSP_2023/geno/kinship/$i.sXX.txt \\\n",
    "--phenoCol AD \\\n",
    "--container_lmm /mnt/vast/hpc/csg/containers/lmm.sif \\\n",
    "--covarCol Sex \\\n",
    "--qCovarCol Age PC1 PC2 PC3 \\\n",
    "--model_name noAPOE4\n",
    "done"
   ]
  },
  {
   "cell_type": "code",
   "execution_count": null,
   "id": "4aac510c-a0e9-4c07-a679-ac83973dc27e",
   "metadata": {
    "kernel": "Bash"
   },
   "outputs": [],
   "source": [
    "#MODEL two\n",
    "for i in African European Hispanic; do\n",
    "module load Singularity\n",
    "sos run ~/project2022/bioworkflows/GWAS/LMM.ipynb null_model \\\n",
    "--cwd /mnt/mfs/statgen/alzheimers-family/ADSP_2023/null_model \\\n",
    "--bfile /mnt/mfs/statgen/alzheimers-family/ADSP_2023/geno/adsp_geno_qced.$i.fam \\\n",
    "--phenoFile /mnt/mfs/statgen/alzheimers-family/ADSP_2023/PCA_QC/$i.pca.projected_outlier_removed.txt \\\n",
    "--grmFile /mnt/mfs/statgen/alzheimers-family/ADSP_2023/geno/kinship/$i.sXX.txt \\\n",
    "--phenoCol AD \\\n",
    "--container_lmm /mnt/vast/hpc/csg/containers/lmm.sif \\\n",
    "--covarCol Sex APOE \\\n",
    "--qCovarCol Age PC1 PC2 PC3 \\\n",
    "--model_name APOE4\n",
    "done"
   ]
  },
  {
   "cell_type": "markdown",
   "id": "e8a39c5f-b325-41a6-829e-80213f60190f",
   "metadata": {
    "kernel": "R"
   },
   "source": [
    "## Analyses"
   ]
  },
  {
   "cell_type": "markdown",
   "id": "5492378c-0b4b-4b8a-869c-d64d954f16eb",
   "metadata": {
    "kernel": "SoS"
   },
   "source": [
    "## model 1 : age, sex and 3 PCs as covariate"
   ]
  },
  {
   "cell_type": "code",
   "execution_count": null,
   "id": "6181d43b-0fa7-4241-b20c-85f90b8440fc",
   "metadata": {
    "kernel": "SoS"
   },
   "outputs": [],
   "source": [
    "#!/bin/sh\n",
    "#$ -l h_rt=2:00:00\n",
    "#$ -l h_vmem=40G\n",
    "#$ -N gmmat_adsp_noAPOE4\n",
    "#$ -o /mnt/mfs/statgen/alzheimers-family/ADSP_2023/gmmat/noAPOE-$JOB_ID.out\n",
    "#$ -e /mnt/mfs/statgen/alzheimers-family/ADSP_2023/gmmat/noAPOE-$JOB_ID.err  \n",
    "#$ -j y\n",
    "#$ -S /bin/bash\n",
    "\n",
    "export PATH=$HOME/miniconda3/bin:$PATH\n",
    "\n",
    "module load PLINK \n",
    "\n",
    "module load Singularity/3.5.3\n",
    "\n",
    "for i in African White Hispanic; do\n",
    "sos run ~/project2022/bioworkflows/GWAS/LMM.ipynb GMMAT \\\n",
    "--cwd /mnt/mfs/statgen/alzheimers-family/ADSP_2023/gmmat/noapoe/ \\\n",
    "--bfile /mnt/mfs/statgen/alzheimers-family/ADSP_2023/geno/adsp_geno_qced.$i.bed \\\n",
    "--null_model /mnt/mfs/statgen/alzheimers-family/ADSP_2023/null_model/adsp_geno_qced.$i.ADSP.$i.noAPOE.rds \\\n",
    "--phenoFile /mnt/mfs/statgen/alzheimers-family/ADSP_2023/PCA_QC/$i.pca.projected_outlier_removed.txt \\\n",
    "--formatFile ~/project2022/bioworkflows/GWAS/data/gmmat_template.yml \\\n",
    "--label_annotate SNP \\\n",
    "--phenoCol AD \\\n",
    "--covarMaxLevels 10 \\\n",
    "--numThreads 20 \\\n",
    "--bgenMinMAF 0.01 \\\n",
    "--container_lmm /mnt/vast/hpc/csg/containers/lmm.sif \\\n",
    "--container_marp /mnt/vast/hpc/csg/containers/marp.sif \\\n",
    "--geno_filter 0.01 \\\n",
    "--nperbatch 100\n",
    "done"
   ]
  },
  {
   "cell_type": "markdown",
   "id": "e8d1b46b-837f-43e1-873e-a6446ebe4eae",
   "metadata": {
    "kernel": "SoS"
   },
   "source": [
    "## model 2 : age, sex, APOE4 and 3 PCs as covariate"
   ]
  },
  {
   "cell_type": "code",
   "execution_count": null,
   "id": "1f51d2d2-3369-4e2a-8476-2f1a0fb4272f",
   "metadata": {
    "kernel": "SoS"
   },
   "outputs": [],
   "source": [
    "#!/bin/sh\n",
    "#$ -l h_rt=2:00:00\n",
    "#$ -l h_vmem=40G\n",
    "#$ -N gmmat_adsp_noAPOE4\n",
    "#$ -o /mnt/mfs/statgen/alzheimers-family/ADSP_2023/gmmat/APOE-$JOB_ID.out\n",
    "#$ -e /mnt/mfs/statgen/alzheimers-family/ADSP_2023/gmmat/APOE-$JOB_ID.err  \n",
    "#$ -j y\n",
    "#$ -S /bin/bash\n",
    "\n",
    "export PATH=$HOME/miniconda3/bin:$PATH\n",
    "\n",
    "module load PLINK \n",
    "\n",
    "module load Singularity/3.5.3\n",
    "\n",
    "for i in African White Hispanic; do\n",
    "sos run ~/project2022/bioworkflows/GWAS/LMM.ipynb GMMAT \\\n",
    "--cwd /mnt/mfs/statgen/alzheimers-family/ADSP_2023/gmmat/apoe/ \\\n",
    "--bfile /mnt/mfs/statgen/alzheimers-family/ADSP_2023/geno/adsp_geno_qced.$i.bed \\\n",
    "--null_model /mnt/mfs/statgen/alzheimers-family/ADSP_2023/null_model/adsp_geno_qced.$i.ADSP.$i.APOE.rds \\\n",
    "--phenoFile /mnt/mfs/statgen/alzheimers-family/ADSP_2023/PCA_QC/$i.pca.projected_outlier_removed.txt \\\n",
    "--formatFile ~/project2022/bioworkflows/GWAS/data/gmmat_template.yml \\\n",
    "--label_annotate SNP \\\n",
    "--phenoCol AD \\\n",
    "--covarMaxLevels 10 \\\n",
    "--numThreads 20 \\\n",
    "--bgenMinMAF 0.01 \\\n",
    "--container_lmm /mnt/vast/hpc/csg/containers/lmm.sif \\\n",
    "--container_marp /mnt/vast/hpc/csg/containers/marp.sif \\\n",
    "--geno_filter 0.01 \\\n",
    "--nperbatch 100\n",
    "done"
   ]
  },
  {
   "cell_type": "markdown",
   "id": "220dc43d-442a-46bf-aadb-c5a1d76ed4e9",
   "metadata": {
    "kernel": "SoS"
   },
   "source": [
    "### Meta-analyes"
   ]
  },
  {
   "cell_type": "markdown",
   "id": "86bebe28-c04f-4bc9-8aec-c7cba5030ac6",
   "metadata": {
    "kernel": "SoS"
   },
   "source": [
    "#### model 1 : no APOE4"
   ]
  },
  {
   "cell_type": "code",
   "execution_count": null,
   "id": "fd54bf03-abc7-4322-a384-790031fa831e",
   "metadata": {
    "kernel": "SoS"
   },
   "outputs": [],
   "source": [
    "SCHEME STDERR\n",
    "MARKER   SNP\n",
    "WEIGHT   N\n",
    "ALLELE   A2 A1\n",
    "EFFECT   BHAT\n",
    "STDERR   SBHAT\n",
    "PVAL     PVAL\n",
    "FREQLABEL AF\n",
    "GENOMICCONTROL ON\n",
    "AVERAGEFREQ ON\n",
    "MINMAXFREQ ON\n",
    "\n",
    "PROCESS /mnt/mfs/statgen/alzheimers-family/ADSP_2023/gmmat/noapoe/adsp_geno_qced.European.European.pca.projected_outlier_removed.gmmat.score.txt.gz\n",
    "PROCESS /mnt/mfs/statgen/alzheimers-family/ADSP_2023/gmmat/noapoe/adsp_geno_qced.Hispanic.Hispanic.pca.projected_outlier_removed.gmmat.score.txt.gz\n",
    "PROCESS /mnt/mfs/statgen/alzheimers-family/ADSP_2023/gmmat/noapoe/adsp_geno_qced.African.African.pca.projected_outlier_removed.gmmat.score.txt.gz\n",
    "\n",
    "\n",
    "OUTFILE /mnt/mfs/statgen/alzheimers-family/ADSP_2023/gmmat/noapoe/ADSP.GMMAT_noAPOE4_META .TXT\n",
    "ANALYZE\n",
    "ANALYZE HETEROGENEITY"
   ]
  },
  {
   "cell_type": "code",
   "execution_count": 1,
   "id": "a5a54cf0-6b46-49e4-80e3-05e6f4f0e5ad",
   "metadata": {
    "kernel": "R",
    "tags": []
   },
   "outputs": [
    {
     "name": "stderr",
     "output_type": "stream",
     "text": [
      "\n",
      "Attaching package: ‘dplyr’\n",
      "\n",
      "\n",
      "The following objects are masked from ‘package:data.table’:\n",
      "\n",
      "    between, first, last\n",
      "\n",
      "\n",
      "The following objects are masked from ‘package:stats’:\n",
      "\n",
      "    filter, lag\n",
      "\n",
      "\n",
      "The following objects are masked from ‘package:base’:\n",
      "\n",
      "    intersect, setdiff, setequal, union\n",
      "\n",
      "\n"
     ]
    }
   ],
   "source": [
    "library(stringr) # to replace strings\n",
    "library(tidyr) # to get  separate function separate the marker name \n",
    "library(data.table)\n",
    "library(dplyr)"
   ]
  },
  {
   "cell_type": "code",
   "execution_count": 2,
   "id": "1fc6489f-0f0f-438c-a310-008e96fb13c4",
   "metadata": {
    "kernel": "R",
    "tags": []
   },
   "outputs": [],
   "source": [
    "meta_noAPOE <- read.table('/mnt/mfs/statgen/alzheimers-family/ADSP_2023/gmmat/noapoe/ADSP.GMMAT_noAPOE4_META2.TXT', header = T, sep = '\\t')\n",
    "meta_noAPOE <- meta_noAPOE %>% mutate (SNP = MarkerName)\n",
    "meta_noAPOE <- meta_noAPOE %>% mutate(across('MarkerName', str_replace_all, '_', ':'))\n",
    "meta_noAPOE <- meta_noAPOE %>% separate(MarkerName, c('CHR','POS','REF', 'ALT'),  sep = ':')\n",
    "meta_noAPOE <- meta_noAPOE %>% mutate(across('CHR', str_replace, 'chr', ''))\n",
    "meta_noAPOE$POS <-  as.numeric(meta_noAPOE$POS)\n",
    "meta_noAPOE$CHR <-  as.numeric(meta_noAPOE$CHR)\n",
    "write.table(meta_noAPOE,'/mnt/mfs/statgen/alzheimers-family/ADSP_2023/gmmat/noapoe/meta.gmmat_noAPOE4.txt', sep = '\\t', quote = F, col.names = T, row.names = F)\n",
    "lambda <- median(qchisq(meta_noAPOE$P.value, df=1, lower.tail=FALSE)) / qchisq(0.5, 1)"
   ]
  },
  {
   "cell_type": "code",
   "execution_count": 3,
   "id": "13f23e2f-3428-47e7-98ba-bc45f1bfc437",
   "metadata": {
    "kernel": "R"
   },
   "outputs": [
    {
     "data": {
      "text/html": [
       "0.993483723665425"
      ],
      "text/latex": [
       "0.993483723665425"
      ],
      "text/markdown": [
       "0.993483723665425"
      ],
      "text/plain": [
       "[1] 0.9934837"
      ]
     },
     "metadata": {},
     "output_type": "display_data"
    }
   ],
   "source": [
    "lambda"
   ]
  },
  {
   "cell_type": "markdown",
   "id": "8e7aef29-d545-4941-9b8e-5ac3dfbd2cbd",
   "metadata": {
    "kernel": "SoS"
   },
   "source": [
    "#### model 2 : with APOE4"
   ]
  },
  {
   "cell_type": "code",
   "execution_count": null,
   "id": "c8ddaaef-f1f7-409c-8938-3842f070373c",
   "metadata": {
    "kernel": "SoS"
   },
   "outputs": [],
   "source": [
    "SCHEME STDERR\n",
    "MARKER   SNP\n",
    "WEIGHT   N\n",
    "ALLELE   A2 A1\n",
    "EFFECT   BHAT\n",
    "STDERR   SBHAT\n",
    "PVAL     PVAL\n",
    "FREQLABEL AF\n",
    "GENOMICCONTROL ON\n",
    "AVERAGEFREQ ON\n",
    "MINMAXFREQ ON\n",
    "\n",
    "PROCESS /mnt/mfs/statgen/alzheimers-family/ADSP_2023/gmmat/apoe/adsp_geno_qced.European.European.pca.projected_outlier_removed.gmmat.score.txt.gz\n",
    "PROCESS /mnt/mfs/statgen/alzheimers-family/ADSP_2023/gmmat/apoe/adsp_geno_qced.Hispanic.Hispanic.pca.projected_outlier_removed.gmmat.score.txt.gz\n",
    "PROCESS /mnt/mfs/statgen/alzheimers-family/ADSP_2023/gmmat/apoe/adsp_geno_qced.African.African.pca.projected_outlier_removed.gmmat.score.txt.gz\n",
    "\n",
    "OUTFILE /mnt/mfs/statgen/alzheimers-family/ADSP_2023/gmmat/apoe/ADSP.GMMAT_APOE4_META .TXT\n",
    "ANALYZE\n",
    "ANALYZE HETEROGENEITY"
   ]
  },
  {
   "cell_type": "code",
   "execution_count": 8,
   "id": "f81f6149-977e-4f8b-8c2a-c34c3c11253d",
   "metadata": {
    "kernel": "R",
    "tags": []
   },
   "outputs": [],
   "source": [
    "meta_APOE <- read.table('/mnt/mfs/statgen/alzheimers-family/ADSP_2023/gmmat/apoe/ADSP.GMMAT_APOE4_META2.TXT', header = T, sep = '\\t')\n",
    "meta_APOE <- meta_APOE %>% mutate (SNP = MarkerName)\n",
    "meta_APOE <- meta_APOE %>% mutate(across('MarkerName', str_replace_all, '_', ':'))\n",
    "meta_APOE <- meta_APOE %>% separate(MarkerName, c('CHR','POS','REF', 'ALT'),  sep = ':')\n",
    "meta_APOE <- meta_APOE %>% mutate(across('CHR', str_replace, 'chr', ''))\n",
    "meta_APOE$POS <-  as.numeric(meta_APOE$POS)\n",
    "meta_APOE$CHR <-  as.numeric(meta_APOE$CHR)\n",
    "write.table(meta_APOE,'/mnt/mfs/statgen/alzheimers-family/ADSP_2023/gmmat/apoe/meta.gmmat_APOE4.txt', sep = '\\t', quote = F, col.names = T, row.names = F)\n",
    "lambda <- median(qchisq(meta_APOE$P.value, df=1, lower.tail=FALSE)) / qchisq(0.5, 1)"
   ]
  },
  {
   "cell_type": "code",
   "execution_count": 9,
   "id": "ad36d28c-0cd8-4523-b210-570ccc5bf94d",
   "metadata": {
    "kernel": "SoS"
   },
   "outputs": [
    {
     "data": {
      "text/html": [
       "0.996737991945094"
      ],
      "text/latex": [
       "0.996737991945094"
      ],
      "text/markdown": [
       "0.996737991945094"
      ],
      "text/plain": [
       "[1] 0.996738"
      ]
     },
     "metadata": {},
     "output_type": "display_data"
    }
   ],
   "source": [
    "lambda"
   ]
  },
  {
   "cell_type": "markdown",
   "id": "8a3e7a8e-72e3-4614-a4cf-d00b8afe11b8",
   "metadata": {
    "kernel": "Bash"
   },
   "source": [
    "# Rare Variants"
   ]
  },
  {
   "cell_type": "markdown",
   "id": "3a426bfc-18ef-48f3-8775-f9eb67f76479",
   "metadata": {
    "kernel": "Bash"
   },
   "source": [
    "## Annotation"
   ]
  },
  {
   "cell_type": "code",
   "execution_count": null,
   "id": "236bd8e5-8d29-42c0-87a6-8395b79e4e93",
   "metadata": {
    "kernel": "SoS",
    "tags": []
   },
   "outputs": [],
   "source": [
    "#Annotation\n",
    "[submit_chrs]\n",
    "import glob\n",
    "bim_files = glob.glob(\"/mnt/mfs/statgen/alzheimers-family/ADSP/geno/*.filtered.bim\")\n",
    "input: bim_files,group_by = 1\n",
    "bash:expand = TRUE\n",
    "sos run ~/bioworkflows/variant-annotation/annovar.ipynb annovar \\\n",
    "    --cwd /mnt/mfs/statgen/alzheimers-family/ADSP/smmat/annotation \\\n",
    "    --bim_name ${_input} \\\n",
    "    --humandb /mnt/mfs/statgen/isabelle/REF/humandb \\\n",
    "    --xref_path /mnt/mfs/statgen/isabelle/REF/humandb \\\n",
    "    --numThreads 1 \\\n",
    "    --name_prefix all \\\n",
    "    --container_annovar /mnt/mfs/statgen/containers/gatk4-annovar.sif \\\n",
    "    -c bioworkflows/admin/csg.yml -q csg -s force &> annovar.log"
   ]
  },
  {
   "cell_type": "code",
   "execution_count": 22,
   "id": "9b1e0dee-a521-41b7-8654-0fd837685c50",
   "metadata": {
    "kernel": "Bash",
    "tags": []
   },
   "outputs": [],
   "source": [
    "#Annotation\n",
    "for i in {1..22};do \n",
    "  sos run ~/project2022/bioworkflows/variant-annotation/annovar.ipynb annovar \\\n",
    "    --cwd /mnt/mfs/statgen/alzheimers-family/ADSP_2023/annotation \\\n",
    "    --bim_name /mnt/mfs/statgen/alzheimers-family/ADSP/geno/gcad.qc.r2.wes.chr$i.20504.GATK.2020.06.26.biallelic.genotypes.ALL.leftnorm.filtered.bim \\\n",
    "    --humandb /mnt/mfs/statgen/isabelle/REF/humandb \\\n",
    "    --xref_path /mnt/mfs/statgen/isabelle/REF/humandb \\\n",
    "    --numThreads 1 \\\n",
    "    --name_prefix all \\\n",
    "    --container_annovar /mnt/mfs/statgen/containers/gatk4-annovar.sif \\\n",
    "    -c ~/project2022/bioworkflows/admin/csg.yml -s force &> /mnt/mfs/statgen/alzheimers-family/ADSP_2023/annotation/annovar.log\n",
    "done"
   ]
  },
  {
   "cell_type": "code",
   "execution_count": 66,
   "id": "4593c2ff-92fa-49f8-95ab-2f229ac9fcf2",
   "metadata": {
    "kernel": "SoS",
    "tags": []
   },
   "outputs": [],
   "source": [
    "#Generate group files for SMMAT\n",
    "[group]\n",
    "import glob\n",
    "csv_files = glob.glob(\"/mnt/mfs/statgen/alzheimers-family/ADSP_2023/annotation/*.csv\")\n",
    "input: csv_files,group_by = 1\n",
    "output: f'{_input:nnn}'\n",
    "task: trunk_workers = 1, trunk_size = 1, walltime = '10h', mem = '32G', cores = 1, tags = f'{step_name}_{_output:bn}'\n",
    "R:  container= '/mnt/mfs/statgen/containers/lmm.sif',expand = \"${ }\"\n",
    "    library('dplyr')\n",
    "    data = read.csv('${_input}')\n",
    "    data$Gene.refGene = sub(\"\\\\;.*\", \"\", data$Gene.refGene)\n",
    "    df = data[, c('Gene.refGene', 'Chr','Start','Alt','Ref','ExonicFunc.refGene','Func.refGene','AF_afr','AF_nfe','AF_amr','AF_afr.1','AF_nfe.1','AF_amr.1','REVEL_score')]\n",
    "    df[,15]=1\n",
    "    df$REVEL_score = as.numeric(as.character(df$REVEL_score))\n",
    "    df$AF_afr = as.numeric(as.character(df$AF_afr))\n",
    "    df$AF_nfe = as.numeric(as.character(df$AF_nfe))\n",
    "    df$AF_amr = as.numeric(as.character(df$AF_amr))\n",
    "    model1=df%>%filter((ExonicFunc.refGene %in% c('startloss','stopgain')) | (Func.refGene %in% c('splicing', 'exonic;splicing', 'ncRNA_exonic;splicing', 'ncRNA_splicing')))\n",
    "    model2=df%>%filter((ExonicFunc.refGene %in% c('startloss','stopgain')) | (Func.refGene %in% c('splicing', 'exonic;splicing', 'ncRNA_exonic;splicing', 'ncRNA_splicing')) | (ExonicFunc.refGene=='nonsynonymous SNV' & REVEL_score>=0.5))\n",
    "    model3=df%>%filter((ExonicFunc.refGene %in% c('nonsynonymous SNV','startloss','stopgain')) | (Func.refGene %in% c('splicing', 'exonic;splicing', 'ncRNA_exonic;splicing', 'ncRNA_splicing')))\n",
    "\n",
    "    #African\n",
    "    model1_a1=model1[which((model1$AF_afr<=0.01&model1$AF_afr.1<=0.01)|(model1$AF_afr>0.99&model1$AF_afr.1>0.99)|is.na(model1$AF_afr)),c(1, 2, 3, 4, 5, 15)]\n",
    "    model1_a5=model1[which((model1$AF_afr<=0.05&model1$AF_afr.1<=0.05)|is.na(model1$AF_afr)),c(1, 2, 3, 4, 5, 15)]\n",
    "    model2_a1=model2[which((model2$AF_afr<=0.01&model2$AF_afr.1<=0.01)|(model2$AF_afr>0.99&model2$AF_afr.1>0.99)|is.na(model2$AF_afr)),c(1, 2, 3, 4, 5, 15)]\n",
    "    model2_a5=model2[which((model2$AF_afr<=0.05&model2$AF_afr.1<=0.05)|is.na(model2$AF_afr)),c(1, 2, 3, 4, 5, 15)]\n",
    "    model3_a1=model3[which((model3$AF_afr<=0.01&model3$AF_afr.1<=0.01)|(model3$AF_afr>0.99&model3$AF_afr.1>0.99)|is.na(model3$AF_afr)),c(1, 2, 3, 4, 5, 15)]\n",
    "    model3_a5=model3[which((model3$AF_afr<=0.05&model3$AF_afr.1<=0.05)|is.na(model3$AF_afr)),c(1, 2, 3, 4, 5, 15)]\n",
    "\n",
    "    write.table(model1_a1, '${_output}.African.model1.af1.group.file', col.names = F, row.names = F, quote = F, sep = '\\t')\n",
    "    write.table(model1_a5, '${_output}.African.model1.af5.group.file', col.names = F, row.names = F, quote = F, sep = '\\t')\n",
    "    write.table(model2_a1, '${_output}.African.model2.af1.group.file', col.names = F, row.names = F, quote = F, sep = '\\t')\n",
    "    write.table(model2_a5, '${_output}.African.model2.af5.group.file', col.names = F, row.names = F, quote = F, sep = '\\t')\n",
    "    write.table(model3_a1, '${_output}.African.model3.af1.group.file', col.names = F, row.names = F, quote = F, sep = '\\t')\n",
    "    write.table(model3_a5, '${_output}.African.model3.af5.group.file', col.names = F, row.names = F, quote = F, sep = '\\t')\n",
    "\n",
    "    #European\n",
    "    model1_e1=model1[which((model1$AF_afr<=0.01&model1$AF_nfe.1<=0.01)|(model1$AF_nfe>0.99&model1$AF_nfe.1>0.99)|is.na(model1$AF_nfe)),c(1, 2, 3, 4, 5, 15)]\n",
    "    model1_e5=model1[which((model1$AF_nfe<=0.05&model1$AF_nfe.1<=0.05)|is.na(model1$AF_nfe)),c(1, 2, 3, 4, 5, 15)]\n",
    "    model2_e1=model2[which((model2$AF_nfe<=0.01&model2$AF_nfe.1<=0.01)|(model1$AF_nfe>0.99&model2$AF_nfe.2>0.99)|is.na(model2$AF_nfe)),c(1, 2, 3, 4, 5, 15)]\n",
    "    model2_e5=model2[which((model2$AF_nfe<=0.05&model2$AF_nfe.1<=0.05)|is.na(model2$AF_nfe)),c(1, 2, 3, 4, 5, 15)]\n",
    "    model3_e1=model3[which((model3$AF_nfe<=0.01&model3$AF_nfe.1<=0.01)|(model3$AF_nfe>0.99&model3$AF_nfe.1>0.99)|is.na(model3$AF_nfe)),c(1, 2, 3, 4, 5, 15)]\n",
    "    model3_e5=model3[which((model3$AF_nfe<=0.05&model3$AF_nfe.1<=0.05)|is.na(model3$AF_nfe)),c(1, 2, 3, 4, 5, 15)]\n",
    "\n",
    "    write.table(model1_e1, '${_output}.European.model1.af1.group.file', col.names = F, row.names = F, quote = F, sep = '\\t')\n",
    "    write.table(model1_e5, '${_output}.European.model1.af5.group.file', col.names = F, row.names = F, quote = F, sep = '\\t')\n",
    "    write.table(model2_e1, '${_output}.European.model2.af1.group.file', col.names = F, row.names = F, quote = F, sep = '\\t')\n",
    "    write.table(model2_e5, '${_output}.European.model2.af5.group.file', col.names = F, row.names = F, quote = F, sep = '\\t')\n",
    "    write.table(model3_e1, '${_output}.European.model3.af1.group.file', col.names = F, row.names = F, quote = F, sep = '\\t')\n",
    "    write.table(model3_e5, '${_output}.European.model3.af5.group.file', col.names = F, row.names = F, quote = F, sep = '\\t')\n",
    "  \n",
    "    #Hispanic\n",
    "    model1_h1=model1%>%filter((AF_afr<=0.01&AF_afr.1<=0.01)|(AF_afr>0.99&AF_afr.1>0.99)|is.na(AF_afr))%>%filter((AF_nfe<=0.01&AF_nfe.1<=0.01)|(AF_nfe>0.99&AF_nfe.1>0.99)|is.na(AF_nfe))%>%filter((AF_amr<=0.01&AF_amr.1<=0.01)|(AF_amr>0.99&AF_amr.1>0.99)|is.na(AF_amr))%>%select(c(1,2, 3, 4, 5, 15))\n",
    "    model1_h5=model1%>%filter((AF_afr<=0.05&AF_afr.1<=0.05)|is.na(AF_afr))%>%filter((AF_nfe<=0.05&AF_nfe.1<=0.05)|is.na(AF_nfe))%>%filter((AF_amr<=0.05&AF_amr.1<=0.05)|is.na(AF_amr))%>%select(c(1,2, 3, 4, 5, 15))\n",
    "    model2_h1=model2%>%filter((AF_afr<=0.01&AF_afr.1<=0.01)|(AF_afr>0.99&AF_afr.1>0.99)|is.na(AF_afr))%>%filter((AF_nfe<=0.01&AF_nfe.1<=0.01)|(AF_nfe>0.99&AF_nfe.1>0.99)|is.na(AF_nfe))%>%filter((AF_amr<=0.01&AF_amr.1<=0.01)|(AF_amr>0.99&AF_amr.1>0.99)|is.na(AF_amr))%>%select(c(1,2, 3, 4, 5, 15))\n",
    "    model2_h5=model2%>%filter((AF_afr<=0.05&AF_afr.1<=0.05)|is.na(AF_afr))%>%filter((AF_nfe<=0.05&AF_nfe.1<=0.05)|is.na(AF_nfe))%>%filter((AF_amr<=0.05&AF_amr.1<=0.05)|is.na(AF_amr))%>%select(c(1,2, 3, 4, 5, 15))\n",
    "    model3_h1=model3%>%filter((AF_afr<=0.01&AF_afr.1<=0.01)|(AF_afr>0.99&AF_afr.1>0.99)|is.na(AF_afr))%>%filter((AF_nfe<=0.01&AF_nfe.1<=0.01)|(AF_nfe>0.99&AF_nfe.1>0.99)|is.na(AF_nfe))%>%filter((AF_amr<=0.01&AF_amr.1<=0.01)|(AF_amr>0.99&AF_amr.1>0.99)|is.na(AF_amr))%>%select(c(1,2, 3, 4, 5, 15))\n",
    "    model3_h5=model3%>%filter((AF_afr<=0.05&AF_afr.1<=0.05)|is.na(AF_afr))%>%filter((AF_nfe<=0.05&AF_nfe.1<=0.05)|is.na(AF_nfe))%>%filter((AF_amr<=0.05&AF_amr.1<=0.05)|is.na(AF_amr))%>%select(c(1,2, 3, 4, 5, 15))\n",
    " \n",
    "    write.table(model1_h1, '${_output}.Hispanic.model1.af1.group.file', col.names = F, row.names = F, quote = F, sep = '\\t')\n",
    "    write.table(model1_h5, '${_output}.Hispanic.model1.af5.group.file', col.names = F, row.names = F, quote = F, sep = '\\t')\n",
    "    write.table(model2_h1, '${_output}.Hispanic.model2.af1.group.file', col.names = F, row.names = F, quote = F, sep = '\\t')\n",
    "    write.table(model2_h5, '${_output}.Hispanic.model2.af5.group.file', col.names = F, row.names = F, quote = F, sep = '\\t')\n",
    "    write.table(model3_h1, '${_output}.Hispanic.model3.af1.group.file', col.names = F, row.names = F, quote = F, sep = '\\t')\n",
    "    write.table(model3_h5, '${_output}.Hispanic.model3.af5.group.file', col.names = F, row.names = F, quote = F, sep = '\\t')\n"
   ]
  },
  {
   "cell_type": "code",
   "execution_count": 82,
   "id": "daea8e23-09b7-4c9e-a58f-4e9baf08b935",
   "metadata": {
    "kernel": "Bash",
    "tags": []
   },
   "outputs": [
    {
     "name": "stdout",
     "output_type": "stream",
     "text": [
      "\u001b[95mWARNING\u001b[0m: \u001b[95mEmbedding script \"sos run ~/...\" without indentation is error-prone and will be deprecated in the future.\u001b[0m\n",
      "INFO: Running \u001b[32msubmit_chrs\u001b[0m: Annotation\n",
      "INFO: \u001b[32msubmit_chrs\u001b[0m (index=4) is \u001b[32mcompleted\u001b[0m.\n",
      "INFO: \u001b[32msubmit_chrs\u001b[0m (index=5) is \u001b[32mcompleted\u001b[0m.\n",
      "INFO: \u001b[32msubmit_chrs\u001b[0m (index=7) is \u001b[32mcompleted\u001b[0m.\n",
      "INFO: \u001b[32msubmit_chrs\u001b[0m (index=6) is \u001b[32mcompleted\u001b[0m.\n",
      "INFO: \u001b[32msubmit_chrs\u001b[0m (index=1) is \u001b[32mcompleted\u001b[0m.\n",
      "INFO: \u001b[32msubmit_chrs\u001b[0m (index=3) is \u001b[32mcompleted\u001b[0m.\n",
      "INFO: \u001b[32msubmit_chrs\u001b[0m (index=2) is \u001b[32mcompleted\u001b[0m.\n",
      "INFO: \u001b[32msubmit_chrs\u001b[0m (index=9) is \u001b[32mcompleted\u001b[0m.\n",
      "INFO: \u001b[32msubmit_chrs\u001b[0m (index=13) is \u001b[32mcompleted\u001b[0m.\n",
      "INFO: \u001b[32msubmit_chrs\u001b[0m (index=0) is \u001b[32mcompleted\u001b[0m.\n",
      "INFO: \u001b[32msubmit_chrs\u001b[0m (index=12) is \u001b[32mcompleted\u001b[0m.\n",
      "INFO: \u001b[32msubmit_chrs\u001b[0m (index=14) is \u001b[32mcompleted\u001b[0m.\n",
      "INFO: \u001b[32msubmit_chrs\u001b[0m (index=8) is \u001b[32mcompleted\u001b[0m.\n",
      "INFO: \u001b[32msubmit_chrs\u001b[0m (index=10) is \u001b[32mcompleted\u001b[0m.\n",
      "INFO: \u001b[32msubmit_chrs\u001b[0m (index=16) is \u001b[32mcompleted\u001b[0m.\n",
      "INFO: \u001b[32msubmit_chrs\u001b[0m (index=15) is \u001b[32mcompleted\u001b[0m.\n",
      "INFO: \u001b[32msubmit_chrs\u001b[0m (index=17) is \u001b[32mcompleted\u001b[0m.\n",
      "INFO: \u001b[32msubmit_chrs\u001b[0m (index=20) is \u001b[32mcompleted\u001b[0m.\n",
      "INFO: \u001b[32msubmit_chrs\u001b[0m (index=18) is \u001b[32mcompleted\u001b[0m.\n",
      "INFO: \u001b[32msubmit_chrs\u001b[0m (index=19) is \u001b[32mcompleted\u001b[0m.\n",
      "INFO: \u001b[32msubmit_chrs\u001b[0m (index=11) is \u001b[32mcompleted\u001b[0m.\n",
      "INFO: \u001b[32msubmit_chrs\u001b[0m (index=21) is \u001b[32mcompleted\u001b[0m.\n",
      "INFO: Workflow submit_chrs (ID=w0a126360cc2f968b) is executed successfully with 1 completed step and 22 completed substeps.\n"
     ]
    }
   ],
   "source": [
    "ml Singularity\n",
    "sos run ~/project_bst/notebook_Bale/ADSP/annatation_file.ipynb submit_chrs"
   ]
  },
  {
   "cell_type": "code",
   "execution_count": null,
   "id": "a124553a-3087-4097-b510-812dab633e5e",
   "metadata": {
    "kernel": "R"
   },
   "outputs": [],
   "source": [
    "#Generate group files for SMMAT\n",
    "\n",
    "    data = read.csv('/mnt/mfs/statgen/alzheimers-family/ADSP_2023/annotation/gcad.qc.r2.wes.chr11.20504.GATK.2020.06.26.biallelic.genotypes.ALL.leftnorm.filtered.hg38.hg38_multianno.csv',sep = '\\t')\n",
    "    data$Gene.refGene = sub(\"\\\\;.*\", \"\", data$Gene.refGene)\n",
    "    df = data[, c('Gene.refGene', 'Chr','Start','Alt','Ref','ExonicFunc.refGene','Func.refGene','AF_afr','AF_nfe','AF_amr','AF_afr.1','AF_nfe.1','AF_amr.1','REVEL_score')]\n",
    "    df[,15]=1\n",
    "    df$REVEL_score = as.numeric(as.character(df$REVEL_score))\n",
    "    df$AF_afr = as.numeric(as.character(df$AF_afr))\n",
    "    df$AF_nfe = as.numeric(as.character(df$AF_nfe))\n",
    "    df$AF_amr = as.numeric(as.character(df$AF_amr))\n",
    "    df$AF_afr.1 = as.numeric(as.character(df$AF_afr.1))\n",
    "    df$AF_nfe.1 = as.numeric(as.character(df$AF_nfe.1))\n",
    "    df$AF_amr.1 = as.numeric(as.character(df$AF_amr.1))\n",
    "    model1=df%>%filter((ExonicFunc.refGene %in% c('startloss','stopgain')) | (Func.refGene %in% c('splicing', 'exonic;splicing', 'ncRNA_exonic;splicing', 'ncRNA_splicing')))\n",
    "    model2=df%>%filter((ExonicFunc.refGene %in% c('startloss','stopgain')) | (Func.refGene %in% c('splicing', 'exonic;splicing', 'ncRNA_exonic;splicing', 'ncRNA_splicing')) | (ExonicFunc.refGene=='nonsynonymous SNV' & REVEL_score>=0.5))\n",
    "    model3=df%>%filter((ExonicFunc.refGene %in% c('nonsynonymous SNV','startloss','stopgain')) | (Func.refGene %in% c('splicing', 'exonic;splicing', 'ncRNA_exonic;splicing', 'ncRNA_splicing')))\n",
    "\n",
    "    #African\n",
    "    model1_a1=model1[which((model1$AF_afr<=0.01&model1$AF_afr.1<=0.01)|(model1$AF_afr>0.99&model1$AF_afr.1>0.99)|is.na(model1$AF_afr)),c(1, 2, 3, 4, 5, 15)]\n",
    "    model1_a5=model1[which((model1$AF_afr<=0.05&model1$AF_afr.1<=0.05)|is.na(model1$AF_afr)),c(1, 2, 3, 4, 5, 15)]\n",
    "    model2_a1=model2[which((model2$AF_afr<=0.01&model2$AF_afr.1<=0.01)|(model2$AF_afr>0.99&model2$AF_afr.1>0.99)|is.na(model2$AF_afr)),c(1, 2, 3, 4, 5, 15)]\n",
    "    model2_a5=model2[which((model2$AF_afr<=0.05&model2$AF_afr.1<=0.05)|is.na(model2$AF_afr)),c(1, 2, 3, 4, 5, 15)]\n",
    "    model3_a1=model3[which((model3$AF_afr<=0.01&model3$AF_afr.1<=0.01)|(model3$AF_afr>0.99&model3$AF_afr.1>0.99)|is.na(model3$AF_afr)),c(1, 2, 3, 4, 5, 15)]\n",
    "    model3_a5=model3[which((model3$AF_afr<=0.05&model3$AF_afr.1<=0.05)|is.na(model3$AF_afr)),c(1, 2, 3, 4, 5, 15)]\n",
    "\n",
    "    write.table(model1_a1, paste0('/mnt/mfs/statgen/alzheimers-family/ADSP_2023/annotation/gcad.qc.r2.wes.chr11.20504.GATK.2020.06.26.biallelic.genotypes.ALL.African.model1.af1.group.file'), col.names = F, row.names = F, quote = F, sep = '\\t')\n",
    "    write.table(model1_a5, paste0('/mnt/mfs/statgen/alzheimers-family/ADSP_2023/annotation/gcad.qc.r2.wes.chr11.20504.GATK.2020.06.26.biallelic.genotypes.ALL.African.model1.af5.group.file'), col.names = F, row.names = F, quote = F, sep = '\\t')\n",
    "    write.table(model2_a1, paste0('/mnt/mfs/statgen/alzheimers-family/ADSP_2023/annotation/gcad.qc.r2.wes.chr11.20504.GATK.2020.06.26.biallelic.genotypes.ALL.African.model2.af1.group.file'), col.names = F, row.names = F, quote = F, sep = '\\t')\n",
    "    write.table(model2_a5, paste0('/mnt/mfs/statgen/alzheimers-family/ADSP_2023/annotation/gcad.qc.r2.wes.chr11.20504.GATK.2020.06.26.biallelic.genotypes.ALL.African.model2.af5.group.file'), col.names = F, row.names = F, quote = F, sep = '\\t')\n",
    "    write.table(model3_a1, paste0('/mnt/mfs/statgen/alzheimers-family/ADSP_2023/annotation/gcad.qc.r2.wes.chr11.20504.GATK.2020.06.26.biallelic.genotypes.ALL.African.model3.af1.group.file'), col.names = F, row.names = F, quote = F, sep = '\\t')\n",
    "    write.table(model3_a5, paste0('/mnt/mfs/statgen/alzheimers-family/ADSP_2023/annotation/gcad.qc.r2.wes.chr11.20504.GATK.2020.06.26.biallelic.genotypes.ALL.African.model3.af5.group.file'), col.names = F, row.names = F, quote = F, sep = '\\t')\n",
    "\n",
    "    #European\n",
    "    model1_e1=model1[which((model1$AF_nfe<=0.01&model1$AF_nfe.1<=0.01)|(model1$AF_nfe>0.99&model1$AF_nfe.1>0.99)|is.na(model1$AF_nfe)),c(1, 2, 3, 4, 5, 15)]\n",
    "    model1_e5=model1[which((model1$AF_nfe<=0.05&model1$AF_nfe.1<=0.05)|is.na(model1$AF_nfe)),c(1, 2, 3, 4, 5, 15)]\n",
    "    model2_e1=model2[which((model2$AF_nfe<=0.01&model2$AF_nfe.1<=0.01)|(model1$AF_nfe>0.99&model2$AF_nfe.2>0.99)|is.na(model2$AF_nfe)),c(1, 2, 3, 4, 5, 15)]\n",
    "    model2_e5=model2[which((model2$AF_nfe<=0.05&model2$AF_nfe.1<=0.05)|is.na(model2$AF_nfe)),c(1, 2, 3, 4, 5, 15)]\n",
    "    model3_e1=model3[which((model3$AF_nfe<=0.01&model3$AF_nfe.1<=0.01)|(model3$AF_nfe>0.99&model3$AF_nfe.1>0.99)|is.na(model3$AF_nfe)),c(1, 2, 3, 4, 5, 15)]\n",
    "    model3_e5=model3[which((model3$AF_nfe<=0.05&model3$AF_nfe.1<=0.05)|is.na(model3$AF_nfe)),c(1, 2, 3, 4, 5, 15)]\n",
    "\n",
    "    write.table(model1_e1, paste0('/mnt/mfs/statgen/alzheimers-family/ADSP_2023/annotation/gcad.qc.r2.wes.chr11.20504.GATK.2020.06.26.biallelic.genotypes.ALL.European.model1.af1.group.file'), col.names = F, row.names = F, quote = F, sep = '\\t')\n",
    "    write.table(model1_e5, paste0('/mnt/mfs/statgen/alzheimers-family/ADSP_2023/annotation/gcad.qc.r2.wes.chr11.20504.GATK.2020.06.26.biallelic.genotypes.ALL.European.model1.af5.group.file'), col.names = F, row.names = F, quote = F, sep = '\\t')\n",
    "    write.table(model2_e1, paste0('/mnt/mfs/statgen/alzheimers-family/ADSP_2023/annotation/gcad.qc.r2.wes.chr11.20504.GATK.2020.06.26.biallelic.genotypes.ALL.European.model2.af1.group.file'), col.names = F, row.names = F, quote = F, sep = '\\t')\n",
    "    write.table(model2_e5, paste0('/mnt/mfs/statgen/alzheimers-family/ADSP_2023/annotation/gcad.qc.r2.wes.chr11.20504.GATK.2020.06.26.biallelic.genotypes.ALL.European.model2.af5.group.file'), col.names = F, row.names = F, quote = F, sep = '\\t')\n",
    "    write.table(model3_e1, paste0('/mnt/mfs/statgen/alzheimers-family/ADSP_2023/annotation/gcad.qc.r2.wes.chr11.20504.GATK.2020.06.26.biallelic.genotypes.ALL.European.model3.af1.group.file'), col.names = F, row.names = F, quote = F, sep = '\\t')\n",
    "    write.table(model3_e5, paste0('/mnt/mfs/statgen/alzheimers-family/ADSP_2023/annotation/gcad.qc.r2.wes.chr11.20504.GATK.2020.06.26.biallelic.genotypes.ALL.European.model3.af5.group.file'), col.names = F, row.names = F, quote = F, sep = '\\t')\n",
    "\n",
    "    #Hispanic\n",
    "    model1_h1=model1%>%filter((AF_afr<=0.01&AF_afr.1<=0.01)|(AF_afr>0.99&AF_afr.1>0.99)|is.na(AF_afr))%>%filter((AF_nfe<=0.01&AF_nfe.1<=0.01)|(AF_nfe>0.99&AF_nfe.1>0.99)|is.na(AF_nfe))%>%filter((AF_amr<=0.01&AF_amr.1<=0.01)|(AF_amr>0.99&AF_amr.1>0.99)|is.na(AF_amr))%>%select(c(1,2, 3, 4, 5, 15))\n",
    "    model1_h5=model1%>%filter((AF_afr<=0.05&AF_afr.1<=0.05)|is.na(AF_afr))%>%filter((AF_nfe<=0.05&AF_nfe.1<=0.05)|is.na(AF_nfe))%>%filter((AF_amr<=0.05&AF_amr.1<=0.05)|is.na(AF_amr))%>%select(c(1,2, 3, 4, 5, 15))\n",
    "    model2_h1=model2%>%filter((AF_afr<=0.01&AF_afr.1<=0.01)|(AF_afr>0.99&AF_afr.1>0.99)|is.na(AF_afr))%>%filter((AF_nfe<=0.01&AF_nfe.1<=0.01)|(AF_nfe>0.99&AF_nfe.1>0.99)|is.na(AF_nfe))%>%filter((AF_amr<=0.01&AF_amr.1<=0.01)|(AF_amr>0.99&AF_amr.1>0.99)|is.na(AF_amr))%>%select(c(1,2, 3, 4, 5, 15))\n",
    "    model2_h5=model2%>%filter((AF_afr<=0.05&AF_afr.1<=0.05)|is.na(AF_afr))%>%filter((AF_nfe<=0.05&AF_nfe.1<=0.05)|is.na(AF_nfe))%>%filter((AF_amr<=0.05&AF_amr.1<=0.05)|is.na(AF_amr))%>%select(c(1,2, 3, 4, 5, 15))\n",
    "    model3_h1=model3%>%filter((AF_afr<=0.01&AF_afr.1<=0.01)|(AF_afr>0.99&AF_afr.1>0.99)|is.na(AF_afr))%>%filter((AF_nfe<=0.01&AF_nfe.1<=0.01)|(AF_nfe>0.99&AF_nfe.1>0.99)|is.na(AF_nfe))%>%filter((AF_amr<=0.01&AF_amr.1<=0.01)|(AF_amr>0.99&AF_amr.1>0.99)|is.na(AF_amr))%>%select(c(1,2, 3, 4, 5, 15))\n",
    "    model3_h5=model3%>%filter((AF_afr<=0.05&AF_afr.1<=0.05)|is.na(AF_afr))%>%filter((AF_nfe<=0.05&AF_nfe.1<=0.05)|is.na(AF_nfe))%>%filter((AF_amr<=0.05&AF_amr.1<=0.05)|is.na(AF_amr))%>%select(c(1,2, 3, 4, 5, 15))\n",
    " \n",
    "    write.table(model1_h1, paste0('/mnt/mfs/statgen/alzheimers-family/ADSP_2023/annotation/gcad.qc.r2.wes.chr11.20504.GATK.2020.06.26.biallelic.genotypes.ALL.Hispanic.model1.af1.group.file'), col.names = F, row.names = F, quote = F, sep = '\\t')\n",
    "    write.table(model1_h5, paste0('/mnt/mfs/statgen/alzheimers-family/ADSP_2023/annotation/gcad.qc.r2.wes.chr11.20504.GATK.2020.06.26.biallelic.genotypes.ALL.Hispanic.model1.af5.group.file'), col.names = F, row.names = F, quote = F, sep = '\\t')\n",
    "    write.table(model2_h1, paste0('/mnt/mfs/statgen/alzheimers-family/ADSP_2023/annotation/gcad.qc.r2.wes.chr11.20504.GATK.2020.06.26.biallelic.genotypes.ALL.Hispanic.model2.af1.group.file'), col.names = F, row.names = F, quote = F, sep = '\\t')\n",
    "    write.table(model2_h5, paste0('/mnt/mfs/statgen/alzheimers-family/ADSP_2023/annotation/gcad.qc.r2.wes.chr11.20504.GATK.2020.06.26.biallelic.genotypes.ALL.Hispanic.model2.af5.group.file'), col.names = F, row.names = F, quote = F, sep = '\\t')\n",
    "    write.table(model3_h1, paste0('/mnt/mfs/statgen/alzheimers-family/ADSP_2023/annotation/gcad.qc.r2.wes.chr11.20504.GATK.2020.06.26.biallelic.genotypes.ALL.Hispanic.model3.af1.group.file'), col.names = F, row.names = F, quote = F, sep = '\\t')\n",
    "    write.table(model3_h5, paste0('/mnt/mfs/statgen/alzheimers-family/ADSP_2023/annotation/gcad.qc.r2.wes.chr11.20504.GATK.2020.06.26.biallelic.genotypes.ALL.Hispanic.model3.af5.group.file'), col.names = F, row.names = F, quote = F, sep = '\\t')"
   ]
  },
  {
   "cell_type": "code",
   "execution_count": null,
   "id": "6c07e23b-e6d2-46ec-8ed9-d1c365b85e53",
   "metadata": {
    "kernel": "R"
   },
   "outputs": [],
   "source": [
    "data = read.csv('/mnt/mfs/statgen/alzheimers-family/ADSP_2023/annotation/gcad.qc.r2.wes.chr11.20504.GATK.2020.06.26.biallelic.genotypes.ALL.leftnorm.filtered.hg38.hg38_multianno.csv')\n",
    "    data$Gene.refGene = sub(\"\\\\;.*\", \"\", data$Gene.refGene)\n",
    "    df = data[, c('Gene.refGene', 'Chr','Start','Alt','Ref','ExonicFunc.refGene','Func.refGene','AF_afr','AF_nfe','AF_amr','AF_afr.1','AF_nfe.1','AF_amr.1','REVEL_score')]\n",
    "    df[,15]=1"
   ]
  },
  {
   "cell_type": "markdown",
   "id": "201d681d-4ba6-4b37-9c23-40ef5ae278cb",
   "metadata": {
    "kernel": "Bash"
   },
   "source": [
    "## Generate QCed geno data"
   ]
  },
  {
   "cell_type": "code",
   "execution_count": null,
   "id": "d7cbf8ba-d9ea-4cae-9b96-e562e6a63019",
   "metadata": {
    "kernel": "Bash"
   },
   "outputs": [],
   "source": [
    "# modify outlier.file to make it have enough tokens\n",
    "for i in African European Hispanic; do \n",
    "awk -F' ' '{print $7\" \"$7}' /mnt/mfs/statgen/alzheimers-family/ADSP_2023/PCA_QC/$i.pca.projected_outlier_removed.txt > /mnt/mfs/statgen/alzheimers-family/ADSP_2023/PCA_QC/$i.pca.projected_outlier_removed.id\n",
    "done"
   ]
  },
  {
   "cell_type": "code",
   "execution_count": null,
   "id": "bc39e58f-442f-4e3e-840e-1dc8eb51040a",
   "metadata": {
    "kernel": "Bash"
   },
   "outputs": [],
   "source": [
    "# split the geno file per pop and qc\n",
    "ml PLINK/2.0\n",
    "for i in African European Hispanic; do   \n",
    " plink2 --bfile /mnt/mfs/statgen/alzheimers-family/ADSP/merge_adsp \\\n",
    "        --geno 0.1 \\\n",
    "        --hwe 5e-08 \\\n",
    "        --keep /mnt/mfs/statgen/alzheimers-family/ADSP_pheno_updated_20221129/$i.id \\\n",
    "        --maf 0.0 \\\n",
    "        --make-bed \\ \n",
    "        --memory 14400.0 \\\n",
    "        --mind 0.1 \\\n",
    "        --out /mnt/mfs/statgen/alzheimers-family/ADSP_2023/smmat/geno/$i_rare --threads 20\n",
    "done"
   ]
  },
  {
   "cell_type": "code",
   "execution_count": null,
   "id": "79d4f57f-fcd4-4c03-99ce-174091a77c40",
   "metadata": {
    "kernel": "Bash"
   },
   "outputs": [],
   "source": [
    "for i in African European Hispanic; do \n",
    "plink2 --bfile /mnt/mfs/statgen/alzheimers-family/ADSP/merge_adsp --geno 0.1 --hwe 5e-08  --keep /mnt/mfs/statgen/alzheimers-family/ADSP_2023/PCA_QC/$i.pca.projected_outlier_removed.id --maf 0.0 --make-bed --memory 14400.0 --mind 0.1 --out /mnt/mfs/statgen/alzheimers-family/ADSP_2023/smmat/geno/$i --threads 20\n",
    "done"
   ]
  },
  {
   "cell_type": "code",
   "execution_count": null,
   "id": "9d118a7e-c1cd-4291-b91a-f77b5dcb7497",
   "metadata": {
    "kernel": "Bash"
   },
   "outputs": [],
   "source": [
    "plink --bfile /mnt/mfs/statgen/alzheimers-family/ADSP/merge_adsp --geno 0.1 --hwe 5e-08  --keep /mnt/mfs/statgen/alzheimers-family/ADSP_2023/PCA_QC/African.pca.projected_outlier_removed.id --maf 0.000001 --make-bed --memory 14400.0 --mind 0.1 --out /mnt/mfs/statgen/alzheimers-family/ADSP_2023/smmat/geno/African --threads 20"
   ]
  },
  {
   "cell_type": "code",
   "execution_count": null,
   "id": "0d560687-9bb1-4cca-a46e-ace2c50008f5",
   "metadata": {
    "kernel": "Bash"
   },
   "outputs": [],
   "source": [
    "# generate chromosome specific genoFile\n",
    "\n",
    "for chr in {1..22}; do\n",
    "    plink2 --bfile /mnt/mfs/statgen/alzheimers-family/ADSP_2023/smmat/geno/African_rare \\\n",
    "          --chr $chr --make-bed \\\n",
    "          --out /mnt/mfs/statgen/alzheimers-family/ADSP_2023/smmat/geno/African_rare_$chr\n",
    "done"
   ]
  },
  {
   "cell_type": "code",
   "execution_count": null,
   "id": "e53d4684-6cdb-4385-a2e9-ee20b1c5d856",
   "metadata": {
    "kernel": "Bash"
   },
   "outputs": [],
   "source": [
    "for chr in {1..22}; do\n",
    "    plink2 --bfile /mnt/mfs/statgen/alzheimers-family/ADSP_2023/geno_file/European \\\n",
    "          --chr $chr --make-bed \\\n",
    "          --out /mnt/mfs/statgen/alzheimers-family/ADSP_2023/geno_file/European_$chr\n",
    "    done"
   ]
  },
  {
   "cell_type": "code",
   "execution_count": null,
   "id": "d51bfa91-6798-4bc7-9672-e45266e4df32",
   "metadata": {
    "kernel": "Bash"
   },
   "outputs": [],
   "source": [
    "for chr in {1..22}; do\n",
    "    plink2 --bfile /mnt/mfs/statgen/alzheimers-family/ADSP_2023/smmat/geno/Hispanic_rare \\\n",
    "          --chr $chr --make-bed \\\n",
    "          --out /mnt/mfs/statgen/alzheimers-family/ADSP_2023/smmat/geno/Hispanic_rare_$chr\n",
    "done"
   ]
  },
  {
   "cell_type": "markdown",
   "id": "64d11d0d-9a64-42f1-93cf-bbd1bae41641",
   "metadata": {
    "kernel": "Bash"
   },
   "source": [
    "# Association tests"
   ]
  },
  {
   "cell_type": "markdown",
   "id": "466ff005-d5d9-41e2-bc1b-312c0841a011",
   "metadata": {
    "kernel": "Bash"
   },
   "source": [
    "## Non-Hispanic Whites"
   ]
  },
  {
   "cell_type": "markdown",
   "id": "82e43e25-b1c8-4ce6-98c9-b6cf0e4a9bf8",
   "metadata": {
    "kernel": "Bash",
    "tags": []
   },
   "source": [
    "### Model1"
   ]
  },
  {
   "cell_type": "code",
   "execution_count": null,
   "id": "a69a408b-e814-4784-a6fe-1089b4b772ab",
   "metadata": {
    "kernel": "Bash"
   },
   "outputs": [],
   "source": [
    "#!/bin/sh\n",
    "#$ -l h_rt=6:00:00\n",
    "#$ -l h_vmem=30G\n",
    "#$ -N smmat_ADSP\n",
    "#$ -o /mnt/mfs/statgen/alzheimers-family/ADSP_2023/smmat/WES/noapoe/af0.01/model1_skat/af0.01_model1_European-$JOB_ID.out\n",
    "#$ -e /mnt/mfs/statgen/alzheimers-family/ADSP_2023/smmat/WES/noapoe/af0.01/model1_skat/af0.01_model1_European-$JOB_ID.err  \n",
    "#$ -j y\n",
    "#$ -S /bin/bash\n",
    "\n",
    "export PATH=$HOME/miniconda3/bin:$PATH\n",
    "\n",
    "module load Singularity/3.5.3\n",
    "\n",
    "## Run the SMMAT\n",
    "# with no APOE4 adjustment\n",
    "\n",
    "sos run ~/project2022/bioworkflows/GWAS/LMM2.ipynb SMMAT \\\n",
    "--cwd  /mnt/mfs/statgen/alzheimers-family/ADSP_2023/smmat/WES/noapoe/af0.01/model1_skat/ \\\n",
    "--groupFile /mnt/mfs/statgen/alzheimers-family/ADSP/smmat/annotation/gcad.qc.r2.wes.chr{1..22}.20504.GATK.2020.06.26.biallelic.genotypes.ALL.leftnorm.filtered.European.model1.af1.group.file \\\n",
    "--posFile /mnt/mfs/statgen/alzheimers-family/ADSP/smmat/annotation/gcad.qc.r2.wes.chr{1..22}.20504.GATK.2020.06.26.biallelic.genotypes.ALL.leftnorm.filtered.hg38.hg38_multianno.csv  \\\n",
    "--bfile /mnt/mfs/statgen/alzheimers-family/ADSP_2023/geno_file/European_{1..22}.bed \\\n",
    "--null_model /mnt/mfs/statgen/alzheimers-family/ADSP_2023/null_model/adsp_geno_qced.European.European.pca.projected_outlier_removed.noAPOE4.rds \\\n",
    "--grmFile /mnt/mfs/statgen/alzheimers-family/ADSP_2023/geno/kinship/European.sXX.txt \\\n",
    "--phenoFile /mnt/mfs/statgen/alzheimers-family/ADSP_2023/PCA_QC/European.pca.projected_outlier_removed.txt \\\n",
    "--formatFile   ~/project2022/bioworkflows/GWAS/data/smmat_template_2.yml \\\n",
    "--phenoCol AD \\\n",
    "--label_annotate SNP \\\n",
    "--maf_max_filter 1 \\\n",
    "--covarMaxLevels 10 \\\n",
    "--numThreads 1 \\\n",
    "--bgenMinMAF 0.0 \\\n",
    "--container_lmm /mnt/vast/hpc/csg/containers/lmm.sif \\\n",
    "--container_marp /mnt/vast/hpc/csg/containers/marp.sif \\\n",
    "--geno_filter 0.01 \\\n",
    "--nperbatch 100 \\\n",
    "-c ~/project2022/bioworkflows/admin/csg.yml -s force &> /mnt/mfs/statgen/alzheimers-family/ADSP_2023/smmat/WES/noapoe/af0.01/model1_skat/af0.01_model1_European.log\n",
    "\n",
    "\n",
    "# with APOE4 adjustment\n",
    "\n",
    "\n",
    "sos run ~/project2022/bioworkflows/GWAS/LMM2.ipynb SMMAT \\\n",
    "--cwd  /mnt/mfs/statgen/alzheimers-family/ADSP_2023/smmat/WES/apoe/af0.01/model1_skat/ \\\n",
    "--groupFile /mnt/mfs/statgen/alzheimers-family/ADSP/smmat/annotation/gcad.qc.r2.wes.chr{1..22}.20504.GATK.2020.06.26.biallelic.genotypes.ALL.leftnorm.filtered.European.model1.af1.group.file \\\n",
    "--posFile /mnt/mfs/statgen/alzheimers-family/ADSP/smmat/annotation/gcad.qc.r2.wes.chr{1..22}.20504.GATK.2020.06.26.biallelic.genotypes.ALL.leftnorm.filtered.hg38.hg38_multianno.csv  \\\n",
    "--bfile /mnt/mfs/statgen/alzheimers-family/ADSP_2023/geno_file/European_{1..22}.bed \\\n",
    "--null_model /mnt/mfs/statgen/alzheimers-family/ADSP_2023/null_model/adsp_geno_qced.European.European.pca.projected_outlier_removed.APOE4.rds \\\n",
    "--grmFile /mnt/mfs/statgen/alzheimers-family/ADSP_2023/geno/kinship/European.sXX.txt \\\n",
    "--phenoFile /mnt/mfs/statgen/alzheimers-family/ADSP_2023/PCA_QC/European.pca.projected_outlier_removed.txt \\\n",
    "--formatFile   ~/project2022/bioworkflows/GWAS/data/smmat_template_2.yml \\\n",
    "--phenoCol AD \\\n",
    "--label_annotate SNP \\\n",
    "--maf_max_filter 1 \\\n",
    "--covarMaxLevels 10 \\\n",
    "--numThreads 1 \\\n",
    "--bgenMinMAF 0.0 \\\n",
    "--container_lmm /mnt/vast/hpc/csg/containers/lmm.sif \\\n",
    "--container_marp /mnt/vast/hpc/csg/containers/marp.sif \\\n",
    "--geno_filter 0.01 \\\n",
    "--nperbatch 100 \\\n",
    "-c ~/project2022/bioworkflows/admin/csg.yml -s force &> /mnt/mfs/statgen/alzheimers-family/ADSP_2023/smmat/WES/apoe/af0.01/model1_skat/af0.01_model1_European.log\n"
   ]
  },
  {
   "cell_type": "markdown",
   "id": "ef65493c-08d1-4442-888d-807aca504f7b",
   "metadata": {
    "kernel": "Bash"
   },
   "source": [
    "### Model2"
   ]
  },
  {
   "cell_type": "code",
   "execution_count": null,
   "id": "b552803c-5b18-47bc-93e9-f9cd26e121ff",
   "metadata": {
    "kernel": "Bash"
   },
   "outputs": [],
   "source": [
    "#!/bin/sh\n",
    "#$ -l h_rt=8:00:00\n",
    "#$ -l h_vmem=40G\n",
    "#$ -N smmat_ADSP\n",
    "#$ -o /mnt/mfs/statgen/alzheimers-family/ADSP_2023/smmat/WES/noapoe/af0.01/model2_skat/af0.01_model2_European-$JOB_ID.out\n",
    "#$ -e /mnt/mfs/statgen/alzheimers-family/ADSP_2023/smmat/WES/noapoe/af0.01/model2_skat/af0.01_model2_European-$JOB_ID.err  \n",
    "#$ -j y\n",
    "#$ -S /bin/bash\n",
    "\n",
    "export PATH=$HOME/miniconda3/bin:$PATH\n",
    "\n",
    "module load Singularity/3.5.3\n",
    "\n",
    "## Run the SMMAT\n",
    "# with no APOE4 adjustment\n",
    "\n",
    "sos run ~/project2022/bioworkflows/GWAS/LMM2.ipynb SMMAT \\\n",
    "--cwd  /mnt/mfs/statgen/alzheimers-family/ADSP_2023/smmat/WES/noapoe/af0.01/model2_skat/ \\\n",
    "--groupFile /mnt/mfs/statgen/alzheimers-family/ADSP/smmat/annotation/gcad.qc.r2.wes.chr{1..22}.20504.GATK.2020.06.26.biallelic.genotypes.ALL.leftnorm.filtered.European.model2.af1.group.file \\\n",
    "--posFile /mnt/mfs/statgen/alzheimers-family/ADSP/smmat/annotation/gcad.qc.r2.wes.chr{1..22}.20504.GATK.2020.06.26.biallelic.genotypes.ALL.leftnorm.filtered.hg38.hg38_multianno.csv  \\\n",
    "--bfile /mnt/mfs/statgen/alzheimers-family/ADSP_2023/geno_file/European_{1..22}.bed \\\n",
    "--null_model /mnt/mfs/statgen/alzheimers-family/ADSP_2023/null_model/adsp_geno_qced.European.European.pca.projected_outlier_removed.noAPOE4.rds \\\n",
    "--grmFile /mnt/mfs/statgen/alzheimers-family/ADSP_2023/geno/kinship/European.sXX.txt \\\n",
    "--phenoFile /mnt/mfs/statgen/alzheimers-family/ADSP_2023/PCA_QC/European.pca.projected_outlier_removed.txt \\\n",
    "--formatFile   ~/project2022/bioworkflows/GWAS/data/smmat_template_2.yml \\\n",
    "--phenoCol AD \\\n",
    "--label_annotate SNP \\\n",
    "--maf_max_filter 1 \\\n",
    "--covarMaxLevels 10 \\\n",
    "--numThreads 1 \\\n",
    "--bgenMinMAF 0.0 \\\n",
    "--container_lmm /mnt/vast/hpc/csg/containers/lmm.sif \\\n",
    "--container_marp /mnt/vast/hpc/csg/containers/marp.sif \\\n",
    "--geno_filter 0.01 \\\n",
    "--nperbatch 100 \\\n",
    "-c ~/project2022/bioworkflows/admin/csg.yml -s force &> /mnt/mfs/statgen/alzheimers-family/ADSP_2023/smmat/WES/noapoe/af0.01/model2_skat/smmat_European_noapoe.log\n",
    "\n",
    "\n",
    "# with APOE4 adjustment\n",
    "\n",
    "\n",
    "sos run ~/project2022/bioworkflows/GWAS/LMM2.ipynb SMMAT \\\n",
    "--cwd  /mnt/mfs/statgen/alzheimers-family/ADSP_2023/smmat/WES/apoe/af0.01/model2_skat/ \\\n",
    "--groupFile /mnt/mfs/statgen/alzheimers-family/ADSP/smmat/annotation/gcad.qc.r2.wes.chr{1..22}.20504.GATK.2020.06.26.biallelic.genotypes.ALL.leftnorm.filtered.European.model2.af1.group.file \\\n",
    "--posFile /mnt/mfs/statgen/alzheimers-family/ADSP/smmat/annotation/gcad.qc.r2.wes.chr{1..22}.20504.GATK.2020.06.26.biallelic.genotypes.ALL.leftnorm.filtered.hg38.hg38_multianno.csv  \\\n",
    "--bfile /mnt/mfs/statgen/alzheimers-family/ADSP_2023/geno_file/European_{1..22}.bed \\\n",
    "--null_model /mnt/mfs/statgen/alzheimers-family/ADSP_2023/null_model/adsp_geno_qced.European.European.pca.projected_outlier_removed.APOE4.rds \\\n",
    "--grmFile /mnt/mfs/statgen/alzheimers-family/ADSP_2023/geno/kinship/European.sXX.txt \\\n",
    "--phenoFile /mnt/mfs/statgen/alzheimers-family/ADSP_2023/PCA_QC/European.pca.projected_outlier_removed.txt \\\n",
    "--formatFile   ~/project2022/bioworkflows/GWAS/data/smmat_template_2.yml \\\n",
    "--phenoCol AD \\\n",
    "--label_annotate SNP \\\n",
    "--maf_max_filter 1 \\\n",
    "--covarMaxLevels 10 \\\n",
    "--numThreads 1 \\\n",
    "--bgenMinMAF 0.0 \\\n",
    "--container_lmm /mnt/vast/hpc/csg/containers/lmm.sif \\\n",
    "--container_marp /mnt/vast/hpc/csg/containers/marp.sif \\\n",
    "--geno_filter 0.01 \\\n",
    "--nperbatch 100 \\\n",
    "-c ~/project2022/bioworkflows/admin/csg.yml -s force &> /mnt/mfs/statgen/alzheimers-family/ADSP_2023/smmat/WES/apoe/af0.01/model2_skat/smmat_European_apoe.log"
   ]
  },
  {
   "cell_type": "markdown",
   "id": "309bbad9-2372-465e-9157-4d9b3710f333",
   "metadata": {
    "kernel": "Bash"
   },
   "source": [
    "## Carribean Hispanics"
   ]
  },
  {
   "cell_type": "markdown",
   "id": "b4ed0dc3-b48d-43a6-a7c0-1fcc2c0fd82e",
   "metadata": {
    "kernel": "Bash"
   },
   "source": [
    "### Model1"
   ]
  },
  {
   "cell_type": "code",
   "execution_count": null,
   "id": "2b94162a-b88d-4908-8e06-7c4194f8a7a4",
   "metadata": {
    "kernel": "Bash"
   },
   "outputs": [],
   "source": [
    "#!/bin/sh\n",
    "#$ -l h_rt=2:00:00\n",
    "#$ -l h_vmem=20G\n",
    "#$ -N smmat_ADSP\n",
    "#$ -o /mnt/mfs/statgen/alzheimers-family/ADSP_2023/smmat/WES/noapoe/af0.01/model1_skat/af0.01_model1_Hispanic-$JOB_ID.out\n",
    "#$ -e /mnt/mfs/statgen/alzheimers-family/ADSP_2023/smmat/WES/noapoe/af0.01/model1_skat/af0.01_model1_Hispanic-$JOB_ID.err  \n",
    "#$ -j y\n",
    "#$ -S /bin/bash\n",
    "\n",
    "export PATH=$HOME/miniconda3/bin:$PATH\n",
    "\n",
    "module load Singularity/3.5.3\n",
    "\n",
    "## Run the SMMAT\n",
    "# with no APOE4 adjustment\n",
    "\n",
    "sos run ~/project2022/bioworkflows/GWAS/LMM2.ipynb SMMAT \\\n",
    "--cwd  /mnt/mfs/statgen/alzheimers-family/ADSP_2023/smmat/WES/noapoe/af0.01/model1_skat/ \\\n",
    "--groupFile /mnt/mfs/statgen/alzheimers-family/ADSP/smmat/annotation/gcad.qc.r2.wes.chr{1..22}.20504.GATK.2020.06.26.biallelic.genotypes.ALL.leftnorm.filtered.Hispanic.model1.af1.group.file \\\n",
    "--posFile /mnt/mfs/statgen/alzheimers-family/ADSP/smmat/annotation/gcad.qc.r2.wes.chr{1..22}.20504.GATK.2020.06.26.biallelic.genotypes.ALL.leftnorm.filtered.hg38.hg38_multianno.csv  \\\n",
    "--bfile /mnt/mfs/statgen/alzheimers-family/ADSP_2023/geno_file/Hispanic_{1..22}.bed \\\n",
    "--null_model /mnt/mfs/statgen/alzheimers-family/ADSP_2023/null_model/adsp_geno_qced.Hispanic.Hispanic.pca.projected_outlier_removed.noAPOE4.rds \\\n",
    "--grmFile /mnt/mfs/statgen/alzheimers-family/ADSP_2023/geno/kinship/Hispanic.sXX.txt \\\n",
    "--phenoFile /mnt/mfs/statgen/alzheimers-family/ADSP_2023/PCA_QC/Hispanic.pca.projected_outlier_removed.txt \\\n",
    "--formatFile   ~/project2022/bioworkflows/GWAS/data/smmat_template_2.yml \\\n",
    "--phenoCol AD \\\n",
    "--label_annotate SNP \\\n",
    "--maf_max_filter 1 \\\n",
    "--covarMaxLevels 10 \\\n",
    "--numThreads 1 \\\n",
    "--bgenMinMAF 0.0 \\\n",
    "--container_lmm /mnt/vast/hpc/csg/containers/lmm.sif \\\n",
    "--container_marp /mnt/vast/hpc/csg/containers/marp.sif \\\n",
    "--geno_filter 0.01 \\\n",
    "--nperbatch 100 \\\n",
    "-c ~/project2022/bioworkflows/admin/csg.yml -s force &> /mnt/mfs/statgen/alzheimers-family/ADSP_2023/smmat/WES/noapoe/af0.01/model1_skat/af0.01_model1_Hispanic.log\n",
    "\n",
    "\n",
    "# with APOE4 adjustment\n",
    "\n",
    "\n",
    "sos run ~/project2022/bioworkflows/GWAS/LMM2.ipynb SMMAT \\\n",
    "--cwd  /mnt/mfs/statgen/alzheimers-family/ADSP_2023/smmat/WES/apoe/af0.01/model1_skat/ \\\n",
    "--groupFile /mnt/mfs/statgen/alzheimers-family/ADSP/smmat/annotation/gcad.qc.r2.wes.chr{1..22}.20504.GATK.2020.06.26.biallelic.genotypes.ALL.leftnorm.filtered.Hispanic.model1.af1.group.file \\\n",
    "--posFile /mnt/mfs/statgen/alzheimers-family/ADSP/smmat/annotation/gcad.qc.r2.wes.chr{1..22}.20504.GATK.2020.06.26.biallelic.genotypes.ALL.leftnorm.filtered.hg38.hg38_multianno.csv  \\\n",
    "--bfile /mnt/mfs/statgen/alzheimers-family/ADSP_2023/geno_file/Hispanic_{1..22}.bed \\\n",
    "--null_model /mnt/mfs/statgen/alzheimers-family/ADSP_2023/null_model/adsp_geno_qced.Hispanic.Hispanic.pca.projected_outlier_removed.APOE4.rds \\\n",
    "--grmFile /mnt/mfs/statgen/alzheimers-family/ADSP_2023/geno/kinship/Hispanic.sXX.txt \\\n",
    "--phenoFile /mnt/mfs/statgen/alzheimers-family/ADSP_2023/PCA_QC/Hispanic.pca.projected_outlier_removed.txt \\\n",
    "--formatFile   ~/project2022/bioworkflows/GWAS/data/smmat_template_2.yml \\\n",
    "--phenoCol AD \\\n",
    "--label_annotate SNP \\\n",
    "--maf_max_filter 1 \\\n",
    "--covarMaxLevels 10 \\\n",
    "--numThreads 1 \\\n",
    "--bgenMinMAF 0.0 \\\n",
    "--container_lmm /mnt/vast/hpc/csg/containers/lmm.sif \\\n",
    "--container_marp /mnt/vast/hpc/csg/containers/marp.sif \\\n",
    "--geno_filter 0.01 \\\n",
    "--nperbatch 100 \\\n",
    "-c ~/project2022/bioworkflows/admin/csg.yml -s force &> /mnt/mfs/statgen/alzheimers-family/ADSP_2023/smmat/WES/apoe/af0.01/model1_skat/af0.01_model1_Hispanic.log"
   ]
  },
  {
   "cell_type": "markdown",
   "id": "decdf95e-7108-488b-a536-b07ca4f2d2e5",
   "metadata": {
    "kernel": "Bash"
   },
   "source": [
    "### Model2"
   ]
  },
  {
   "cell_type": "code",
   "execution_count": null,
   "id": "45a6379b-5c9e-47fd-98ee-dd647dfeabb5",
   "metadata": {
    "kernel": "Bash"
   },
   "outputs": [],
   "source": [
    "#!/bin/sh\n",
    "#$ -l h_rt=6:00:00\n",
    "#$ -l h_vmem=20G\n",
    "#$ -N smmat_ADSP\n",
    "#$ -o /mnt/mfs/statgen/alzheimers-family/ADSP_2023/smmat/WES/noapoe/af0.01/model2_skat/af0.01_model2_Hispanic-$JOB_ID.out\n",
    "#$ -e /mnt/mfs/statgen/alzheimers-family/ADSP_2023/smmat/WES/noapoe/af0.01/model2_skat/af0.01_model2_Hispanic-$JOB_ID.err  \n",
    "#$ -j y\n",
    "#$ -S /bin/bash\n",
    "\n",
    "export PATH=$HOME/miniconda3/bin:$PATH\n",
    "\n",
    "module load Singularity/3.5.3\n",
    "\n",
    "## Run the SMMAT\n",
    "# with no APOE4 adjustment\n",
    "\n",
    "sos run ~/project2022/bioworkflows/GWAS/LMM2.ipynb SMMAT \\\n",
    "--cwd  /mnt/mfs/statgen/alzheimers-family/ADSP_2023/smmat/WES/noapoe/af0.01/model2_skat/ \\\n",
    "--groupFile /mnt/mfs/statgen/alzheimers-family/ADSP/smmat/annotation/gcad.qc.r2.wes.chr{1..22}.20504.GATK.2020.06.26.biallelic.genotypes.ALL.leftnorm.filtered.Hispanic.model2.af1.group.file \\\n",
    "--posFile /mnt/mfs/statgen/alzheimers-family/ADSP/smmat/annotation/gcad.qc.r2.wes.chr{1..22}.20504.GATK.2020.06.26.biallelic.genotypes.ALL.leftnorm.filtered.hg38.hg38_multianno.csv  \\\n",
    "--bfile /mnt/mfs/statgen/alzheimers-family/ADSP_2023/geno_file/Hispanic_{1..22}.bed \\\n",
    "--null_model /mnt/mfs/statgen/alzheimers-family/ADSP_2023/null_model/adsp_geno_qced.Hispanic.Hispanic.pca.projected_outlier_removed.noAPOE4.rds \\\n",
    "--grmFile /mnt/mfs/statgen/alzheimers-family/ADSP_2023/geno/kinship/Hispanic.sXX.txt \\\n",
    "--phenoFile /mnt/mfs/statgen/alzheimers-family/ADSP_2023/PCA_QC/Hispanic.pca.projected_outlier_removed.txt \\\n",
    "--formatFile   ~/project2022/bioworkflows/GWAS/data/smmat_template_2.yml \\\n",
    "--phenoCol AD \\\n",
    "--label_annotate SNP \\\n",
    "--maf_max_filter 1 \\\n",
    "--covarMaxLevels 10 \\\n",
    "--numThreads 1 \\\n",
    "--bgenMinMAF 0.0 \\\n",
    "--container_lmm /mnt/vast/hpc/csg/containers/lmm.sif \\\n",
    "--container_marp /mnt/vast/hpc/csg/containers/marp.sif \\\n",
    "--geno_filter 0.01 \\\n",
    "--nperbatch 100 \\\n",
    "-c ~/project2022/bioworkflows/admin/csg.yml -s force &> /mnt/mfs/statgen/alzheimers-family/ADSP_2023/smmat/WES/noapoe/af0.01/model2_skat/smmat_Hispanic_noapoe.log\n",
    "\n",
    "\n",
    "# with APOE4 adjustment\n",
    "\n",
    "\n",
    "sos run ~/project2022/bioworkflows/GWAS/LMM2.ipynb SMMAT \\\n",
    "--cwd  /mnt/mfs/statgen/alzheimers-family/ADSP_2023/smmat/WES/apoe/af0.01/model2_skat/ \\\n",
    "--groupFile /mnt/mfs/statgen/alzheimers-family/ADSP/smmat/annotation/gcad.qc.r2.wes.chr{1..22}.20504.GATK.2020.06.26.biallelic.genotypes.ALL.leftnorm.filtered.Hispanic.model2.af1.group.file \\\n",
    "--posFile /mnt/mfs/statgen/alzheimers-family/ADSP/smmat/annotation/gcad.qc.r2.wes.chr{1..22}.20504.GATK.2020.06.26.biallelic.genotypes.ALL.leftnorm.filtered.hg38.hg38_multianno.csv  \\\n",
    "--bfile /mnt/mfs/statgen/alzheimers-family/ADSP_2023/geno_file/Hispanic_{1..22}.bed \\\n",
    "--null_model /mnt/mfs/statgen/alzheimers-family/ADSP_2023/null_model/adsp_geno_qced.Hispanic.Hispanic.pca.projected_outlier_removed.APOE4.rds \\\n",
    "--grmFile /mnt/mfs/statgen/alzheimers-family/ADSP_2023/geno/kinship/Hispanic.sXX.txt \\\n",
    "--phenoFile /mnt/mfs/statgen/alzheimers-family/ADSP_2023/PCA_QC/Hispanic.pca.projected_outlier_removed.txt \\\n",
    "--formatFile   ~/project2022/bioworkflows/GWAS/data/smmat_template_2.yml \\\n",
    "--phenoCol AD \\\n",
    "--label_annotate SNP \\\n",
    "--maf_max_filter 1 \\\n",
    "--covarMaxLevels 10 \\\n",
    "--numThreads 1 \\\n",
    "--bgenMinMAF 0.0 \\\n",
    "--container_lmm /mnt/vast/hpc/csg/containers/lmm.sif \\\n",
    "--container_marp /mnt/vast/hpc/csg/containers/marp.sif \\\n",
    "--geno_filter 0.01 \\\n",
    "--nperbatch 100 \\\n",
    "-c ~/project2022/bioworkflows/admin/csg.yml -s force &> /mnt/mfs/statgen/alzheimers-family/ADSP_2023/smmat/WES/apoe/af0.01/model2_skat/smmat_Hispanic_apoe.log"
   ]
  },
  {
   "cell_type": "markdown",
   "id": "b705dd8c-c0ac-4152-adc0-8aa910b9047e",
   "metadata": {
    "kernel": "Bash"
   },
   "source": [
    "## African-Americans"
   ]
  },
  {
   "cell_type": "markdown",
   "id": "dc436d24-3d23-4660-815b-0895f4db845a",
   "metadata": {
    "kernel": "Bash"
   },
   "source": [
    "### Model1"
   ]
  },
  {
   "cell_type": "code",
   "execution_count": null,
   "id": "b97b9122-f210-412f-bfdc-d54b703bbf42",
   "metadata": {
    "kernel": "Bash"
   },
   "outputs": [],
   "source": [
    "#!/bin/sh\n",
    "#$ -l h_rt=3:00:00\n",
    "#$ -l h_vmem=20G\n",
    "#$ -N smmat_ADSP\n",
    "#$ -o /mnt/mfs/statgen/alzheimers-family/ADSP_2023/smmat/WES/noapoe/af0.01/model1_skat/af0.01_model1_African-$JOB_ID.out\n",
    "#$ -e /mnt/mfs/statgen/alzheimers-family/ADSP_2023/smmat/WES/noapoe/af0.01/model1_skat/af0.01_model1_African-$JOB_ID.err  \n",
    "#$ -j y\n",
    "#$ -S /bin/bash\n",
    "\n",
    "export PATH=$HOME/miniconda3/bin:$PATH\n",
    "\n",
    "module load Singularity/3.5.3\n",
    "\n",
    "## Run the SMMAT\n",
    "# with no APOE4 adjustment\n",
    "sos run ~/project2022/bioworkflows/GWAS/LMM2.ipynb SMMAT \\\n",
    "--cwd  /mnt/mfs/statgen/alzheimers-family/ADSP_2023/smmat/WES/noapoe/af0.01/model1_skat/ \\\n",
    "--groupFile /mnt/mfs/statgen/alzheimers-family/ADSP/smmat/annotation/gcad.qc.r2.wes.chr{1..22}.20504.GATK.2020.06.26.biallelic.genotypes.ALL.leftnorm.filtered.African.model1.af1.group.file \\\n",
    "--posFile /mnt/mfs/statgen/alzheimers-family/ADSP/smmat/annotation/gcad.qc.r2.wes.chr{1..22}.20504.GATK.2020.06.26.biallelic.genotypes.ALL.leftnorm.filtered.hg38.hg38_multianno.csv  \\\n",
    "--bfile /mnt/mfs/statgen/alzheimers-family/ADSP_2023/geno_file/African_{1..22}.bed \\\n",
    "--null_model /mnt/mfs/statgen/alzheimers-family/ADSP_2023/null_model/adsp_geno_qced.African.African.pca.projected_outlier_removed.noAPOE4.rds \\\n",
    "--grmFile /mnt/mfs/statgen/alzheimers-family/ADSP_2023/geno/kinship/African.sXX.txt \\\n",
    "--phenoFile /mnt/mfs/statgen/alzheimers-family/ADSP_2023/PCA_QC/African.pca.projected_outlier_removed.txt \\\n",
    "--formatFile   ~/project2022/bioworkflows/GWAS/data/smmat_template_2.yml \\\n",
    "--phenoCol AD \\\n",
    "--label_annotate SNP \\\n",
    "--maf_max_filter 1 \\\n",
    "--covarMaxLevels 10 \\\n",
    "--numThreads 1 \\\n",
    "--bgenMinMAF 0.0 \\\n",
    "--container_lmm /mnt/vast/hpc/csg/containers/lmm.sif \\\n",
    "--container_marp /mnt/vast/hpc/csg/containers/marp.sif \\\n",
    "--geno_filter 0.01 \\\n",
    "--nperbatch 100 \\\n",
    "-c ~/project2022/bioworkflows/admin/csg.yml -s force &> /mnt/mfs/statgen/alzheimers-family/ADSP_2023/smmat/WES/noapoe/af0.01/model1_skat/af0.01_model1_African.log\n",
    "\n",
    "\n",
    "# with APOE4 adjustment\n",
    "\n",
    "sos run ~/project2022/bioworkflows/GWAS/LMM2.ipynb SMMAT \\\n",
    "--cwd  /mnt/mfs/statgen/alzheimers-family/ADSP_2023/smmat/WES/apoe/af0.01/model1_skat/ \\\n",
    "--groupFile /mnt/mfs/statgen/alzheimers-family/ADSP/smmat/annotation/gcad.qc.r2.wes.chr{1..22}.20504.GATK.2020.06.26.biallelic.genotypes.ALL.leftnorm.filtered.African.model1.af1.group.file \\\n",
    "--posFile /mnt/mfs/statgen/alzheimers-family/ADSP/smmat/annotation/gcad.qc.r2.wes.chr{1..22}.20504.GATK.2020.06.26.biallelic.genotypes.ALL.leftnorm.filtered.hg38.hg38_multianno.csv  \\\n",
    "--bfile /mnt/mfs/statgen/alzheimers-family/ADSP_2023/geno_file/African_{1..22}.bed \\\n",
    "--null_model /mnt/mfs/statgen/alzheimers-family/ADSP_2023/null_model/adsp_geno_qced.African.African.pca.projected_outlier_removed.APOE4.rds \\\n",
    "--grmFile /mnt/mfs/statgen/alzheimers-family/ADSP_2023/geno/kinship/African.sXX.txt \\\n",
    "--phenoFile /mnt/mfs/statgen/alzheimers-family/ADSP_2023/PCA_QC/African.pca.projected_outlier_removed.txt \\\n",
    "--formatFile   ~/project2022/bioworkflows/GWAS/data/smmat_template_2.yml \\\n",
    "--phenoCol AD \\\n",
    "--label_annotate SNP \\\n",
    "--maf_max_filter 1 \\\n",
    "--covarMaxLevels 10 \\\n",
    "--numThreads 1 \\\n",
    "--bgenMinMAF 0.0 \\\n",
    "--container_lmm /mnt/vast/hpc/csg/containers/lmm.sif \\\n",
    "--container_marp /mnt/vast/hpc/csg/containers/marp.sif \\\n",
    "--geno_filter 0.01 \\\n",
    "--nperbatch 100 \\\n",
    "-c ~/project2022/bioworkflows/admin/csg.yml -s force &> /mnt/mfs/statgen/alzheimers-family/ADSP_2023/smmat/WES/apoe/af0.01/model1_skat/af0.01_model1_African.log"
   ]
  },
  {
   "cell_type": "markdown",
   "id": "ef17d3ea-9a7f-4236-847b-d91ca648f018",
   "metadata": {
    "kernel": "Bash"
   },
   "source": [
    "### Model2"
   ]
  },
  {
   "cell_type": "code",
   "execution_count": null,
   "id": "e195a410-a291-4c8f-a93b-31b4df68b0b1",
   "metadata": {
    "kernel": "Bash"
   },
   "outputs": [],
   "source": [
    "#!/bin/sh\n",
    "#$ -l h_rt=6:00:00\n",
    "#$ -l h_vmem=20G\n",
    "#$ -N smmat_ADSP\n",
    "#$ -o /mnt/mfs/statgen/alzheimers-family/ADSP_2023/smmat/WES/apoe/af0.01/model2_skat/af0.01_model2_African-$JOB_ID.out\n",
    "#$ -e /mnt/mfs/statgen/alzheimers-family/ADSP_2023/smmat/WES/apoe/af0.01/model2_skat/af0.01_model2_African-$JOB_ID.err  \n",
    "#$ -j y\n",
    "#$ -S /bin/bash\n",
    "\n",
    "export PATH=$HOME/miniconda3/bin:$PATH\n",
    "\n",
    "module load Singularity/3.5.3\n",
    "\n",
    "## Run the SMMAT\n",
    "# with no APOE4 adjustment\n",
    "  \n",
    "sos run ~/project2022/bioworkflows/GWAS/LMM2.ipynb SMMAT \\\n",
    "--cwd  /mnt/mfs/statgen/alzheimers-family/ADSP_2023/smmat/WES/noapoe/af0.01/model2_skat/ \\\n",
    "--groupFile /mnt/mfs/statgen/alzheimers-family/ADSP/smmat/annotation/gcad.qc.r2.wes.chr{1..22}.20504.GATK.2020.06.26.biallelic.genotypes.ALL.leftnorm.filtered.African.model2.af1.group.file \\\n",
    "--posFile /mnt/mfs/statgen/alzheimers-family/ADSP/smmat/annotation/gcad.qc.r2.wes.chr{1..22}.20504.GATK.2020.06.26.biallelic.genotypes.ALL.leftnorm.filtered.hg38.hg38_multianno.csv  \\\n",
    "--bfile /mnt/mfs/statgen/alzheimers-family/ADSP_2023/geno_file/African_{1..22}.bed \\\n",
    "--null_model /mnt/mfs/statgen/alzheimers-family/ADSP_2023/null_model/adsp_geno_qced.African.African.pca.projected_outlier_removed.noAPOE4.rds \\\n",
    "--grmFile /mnt/mfs/statgen/alzheimers-family/ADSP_2023/geno/kinship/African.sXX.txt \\\n",
    "--phenoFile /mnt/mfs/statgen/alzheimers-family/ADSP_2023/PCA_QC/African.pca.projected_outlier_removed.txt \\\n",
    "--formatFile   ~/project2022/bioworkflows/GWAS/data/smmat_template_2.yml \\\n",
    "--phenoCol AD \\\n",
    "--label_annotate SNP \\\n",
    "--maf_max_filter 1 \\\n",
    "--covarMaxLevels 10 \\\n",
    "--numThreads 1 \\\n",
    "--bgenMinMAF 0.0 \\\n",
    "--container_lmm /mnt/vast/hpc/csg/containers/lmm.sif \\\n",
    "--container_marp /mnt/vast/hpc/csg/containers/marp.sif \\\n",
    "--geno_filter 0.01 \\\n",
    "--nperbatch 100 \\\n",
    "-c ~/project2022/bioworkflows/admin/csg.yml -s force &> /mnt/mfs/statgen/alzheimers-family/ADSP_2023/smmat/WES/noapoe/af0.01/model2_skat/smmat_African_noapoe.log\n",
    "\n",
    "\n",
    "# with APOE4 adjustment\n",
    "\n",
    "  \n",
    "sos run ~/project2022/bioworkflows/GWAS/LMM2.ipynb SMMAT \\\n",
    "--cwd  /mnt/mfs/statgen/alzheimers-family/ADSP_2023/smmat/WES/apoe/af0.01/model2_skat \\\n",
    "--groupFile /mnt/mfs/statgen/alzheimers-family/ADSP/smmat/annotation/gcad.qc.r2.wes.chr{1..22}.20504.GATK.2020.06.26.biallelic.genotypes.ALL.leftnorm.filtered.African.model2.af1.group.file \\\n",
    "--posFile /mnt/mfs/statgen/alzheimers-family/ADSP/smmat/annotation/gcad.qc.r2.wes.chr{1..22}.20504.GATK.2020.06.26.biallelic.genotypes.ALL.leftnorm.filtered.hg38.hg38_multianno.csv  \\\n",
    "--bfile /mnt/mfs/statgen/alzheimers-family/ADSP_2023/geno_file/African_{1..22}.bed \\\n",
    "--null_model /mnt/mfs/statgen/alzheimers-family/ADSP_2023/null_model/adsp_geno_qced.African.African.pca.projected_outlier_removed.APOE4.rds \\\n",
    "--grmFile /mnt/mfs/statgen/alzheimers-family/ADSP_2023/geno/kinship/African.sXX.txt \\\n",
    "--phenoFile /mnt/mfs/statgen/alzheimers-family/ADSP_2023/PCA_QC/African.pca.projected_outlier_removed.txt \\\n",
    "--formatFile   ~/project2022/bioworkflows/GWAS/data/smmat_template_2.yml \\\n",
    "--phenoCol AD \\\n",
    "--label_annotate SNP \\\n",
    "--maf_max_filter 1 \\\n",
    "--covarMaxLevels 10 \\\n",
    "--numThreads 1 \\\n",
    "--bgenMinMAF 0.0 \\\n",
    "--container_lmm /mnt/vast/hpc/csg/containers/lmm.sif \\\n",
    "--container_marp /mnt/vast/hpc/csg/containers/marp.sif \\\n",
    "--geno_filter 0.01 \\\n",
    "--nperbatch 100 \\\n",
    "-c ~/project2022/bioworkflows/admin/csg.yml -s force &> /mnt/mfs/statgen/alzheimers-family/ADSP_2023/smmat/WES/apoe/af0.01/model2_skat/smmat_African_apoe.log"
   ]
  },
  {
   "cell_type": "markdown",
   "id": "ebe81617-2ad7-47d9-8229-c7df56567aec",
   "metadata": {
    "kernel": "SoS"
   },
   "source": [
    "## Meta-analyses"
   ]
  },
  {
   "cell_type": "markdown",
   "id": "4bf39327-b503-41df-9b6e-a9fe27d314be",
   "metadata": {
    "kernel": "SoS"
   },
   "source": [
    "### Model 1 without adjusting for APOE4"
   ]
  },
  {
   "cell_type": "code",
   "execution_count": null,
   "id": "3f5a29cf-9c13-4146-a6ba-36b62663f6f4",
   "metadata": {
    "kernel": "Bash"
   },
   "outputs": [],
   "source": [
    "SCHEME SAMPLESIZE\n",
    "MARKER  SNP\n",
    "WEIGHT  N\n",
    "EFFECT  BETA\n",
    "PVAL    P\n",
    "\n",
    "\n",
    "PROCESS /mnt/mfs/statgen/alzheimers-family/ADSP_2023/smmat/WES/noapoe/af0.01/model1_skat/African.pca.projected_outlier_removed_AD.SMMAT.snp_stats.gz\n",
    "PROCESS /mnt/mfs/statgen/alzheimers-family/ADSP_2023/smmat/WES/noapoe/af0.01/model1_skat/European.pca.projected_outlier_removed_AD.SMMAT.snp_stats.gz\n",
    "PROCESS /mnt/mfs/statgen/alzheimers-family/ADSP_2023/smmat/WES/noapoe/af0.01/model1_skat/Hispanic.pca.projected_outlier_removed_AD.SMMAT.snp_stats.gz\n",
    "\n",
    "OUTFILE /mnt/mfs/statgen/alzheimers-family/ADSP_2023/smmat/WES/noapoe/af0.01/model1_skat/ADSP.SMMAT_noAPOE4_META .TXT\n",
    "ANALYZE\n",
    "ANALYZE HETEROGENEITY"
   ]
  },
  {
   "cell_type": "code",
   "execution_count": 10,
   "id": "a643f872-4f05-4af6-a4b9-964ad1233ba8",
   "metadata": {
    "kernel": "R",
    "tags": []
   },
   "outputs": [],
   "source": [
    "# Reformat metal results to map chromosome and position\n",
    "library(stringr) # to replace strings\n",
    "library(tidyr) # to get  separate function separate the marker name\n",
    "library(data.table)\n",
    "library(dplyr)"
   ]
  },
  {
   "cell_type": "code",
   "execution_count": 3,
   "id": "218d70c1-7a99-49cd-ad1f-13bf4f70ca91",
   "metadata": {
    "kernel": "R",
    "tags": []
   },
   "outputs": [],
   "source": [
    "data = read.table('/mnt/mfs/statgen/alzheimers-family/ADSP_2023/smmat/WES/noapoe/af0.01/model1_skat/ADSP.SMMAT_noAPOE4_META2.TXT', header = T, sep = '\\t')\n",
    "his = read.table('/mnt/mfs/statgen/alzheimers-family/ADSP_2023/smmat/WES/noapoe/af0.01/model1_skat/Hispanic.pca.projected_outlier_removed_AD.SMMAT.snp_stats.gz', header = T, sep ='\\t')[, c(1, 2, 3)]\n",
    "eur = read.table('/mnt/mfs/statgen/alzheimers-family/ADSP_2023/smmat/WES/noapoe/af0.01/model1_skat/European.pca.projected_outlier_removed_AD.SMMAT.snp_stats.gz', header = T, sep ='\\t')[, c(1, 2, 3)]\n",
    "afr = read.table('/mnt/mfs/statgen/alzheimers-family/ADSP_2023/smmat/WES/noapoe/af0.01/model1_skat/African.pca.projected_outlier_removed_AD.SMMAT.snp_stats.gz', header = T, sep ='\\t')[, c(1, 2, 3)]\n",
    "pos = merge(his, eur, by = c('CHR', 'POS', 'SNP'),all = TRUE)\n",
    "POS = merge(pos, afr, by = c('CHR', 'POS', 'SNP'),all = TRUE)\n",
    "data = inner_join(data, POS, by = c('MarkerName'='SNP'))\n",
    "data$POS = as.numeric(data$POS)\n",
    "data$CHR = as.numeric(data$CHR)\n",
    "write.table(data,'/mnt/mfs/statgen/alzheimers-family/ADSP_2023/smmat/WES/noapoe/af0.01/model1_skat/meta.smmat_noAPOE4.txt', sep = '\\t', quote = F, col.names = T, row.names = F)\n",
    "lambda <- median(qchisq(1-data$P.value,1), na.rm=TRUE)/qchisq(0.5,1)"
   ]
  },
  {
   "cell_type": "markdown",
   "id": "938faa4c-02d5-4ada-9a36-9ab15fe22534",
   "metadata": {
    "kernel": "Bash"
   },
   "source": [
    "### Model 2 without adjusting for APOE4"
   ]
  },
  {
   "cell_type": "code",
   "execution_count": null,
   "id": "db4ab7e7-ac51-42e5-87d8-6058b5e45679",
   "metadata": {
    "kernel": "Bash"
   },
   "outputs": [],
   "source": [
    "SCHEME SAMPLESIZE\n",
    "MARKER  SNP\n",
    "WEIGHT  N\n",
    "EFFECT  BETA\n",
    "PVAL    P\n",
    "\n",
    "\n",
    "PROCESS /mnt/mfs/statgen/alzheimers-family/ADSP_2023/smmat/WES/noapoe/af0.01/model3_skat/African.pca.projected_outlier_removed_AD.SMMAT.snp_stats.gz\n",
    "PROCESS /mnt/mfs/statgen/alzheimers-family/ADSP_2023/smmat/WES/noapoe/af0.01/model3_skat/European.pca.projected_outlier_removed_AD.SMMAT.snp_stats.gz\n",
    "PROCESS /mnt/mfs/statgen/alzheimers-family/ADSP_2023/smmat/WES/noapoe/af0.01/model3_skat/Hispanic.pca.projected_outlier_removed_AD.SMMAT.snp_stats.gz\n",
    "\n",
    "OUTFILE /mnt/mfs/statgen/alzheimers-family/ADSP_2023/smmat/WES/noapoe/af0.01/model3_skat/ADSP.SMMAT_noAPOE4_META .TXT\n",
    "ANALYZE\n",
    "ANALYZE HETEROGENEITY"
   ]
  },
  {
   "cell_type": "code",
   "execution_count": 5,
   "id": "9be145e6-99f1-48a6-b3b7-bbe94f170457",
   "metadata": {
    "kernel": "R",
    "tags": []
   },
   "outputs": [],
   "source": [
    "data = read.table('/mnt/mfs/statgen/alzheimers-family/ADSP_2023/smmat/WES/noapoe/af0.01/model3_skat/ADSP.SMMAT_noAPOE4_META2.TXT', header = T, sep = '\\t')\n",
    "his = read.table('/mnt/mfs/statgen/alzheimers-family/ADSP_2023/smmat/WES/noapoe/af0.01/model3_skat/Hispanic.pca.projected_outlier_removed_AD.SMMAT.snp_stats.gz', header = T, sep ='\\t')[, c(1, 2, 3)]\n",
    "eur = read.table('/mnt/mfs/statgen/alzheimers-family/ADSP_2023/smmat/WES/noapoe/af0.01/model3_skat/European.pca.projected_outlier_removed_AD.SMMAT.snp_stats.gz', header = T, sep ='\\t')[, c(1, 2, 3)]\n",
    "afr = read.table('/mnt/mfs/statgen/alzheimers-family/ADSP_2023/smmat/WES/noapoe/af0.01/model3_skat/African.pca.projected_outlier_removed_AD.SMMAT.snp_stats.gz', header = T, sep ='\\t')[, c(1, 2, 3)]\n",
    "pos = merge(his, eur, by = c('CHR', 'POS', 'SNP'),all = TRUE)\n",
    "POS = merge(pos, afr, by = c('CHR', 'POS', 'SNP'),all = TRUE)\n",
    "data = inner_join(data, POS, by = c('MarkerName'='SNP'))\n",
    "data$POS = as.numeric(data$POS)\n",
    "data$CHR = as.numeric(data$CHR)\n",
    "write.table(data,'/mnt/mfs/statgen/alzheimers-family/ADSP_2023/smmat/WES/noapoe/af0.01/model3_skat/meta.smmat_noAPOE4.txt', sep = '\\t', quote = F, col.names = T, row.names = F)\n",
    "lambda <- median(qchisq(1-data$P.value,1), na.rm=TRUE)/qchisq(0.5,1)"
   ]
  },
  {
   "cell_type": "markdown",
   "id": "a70af18c-e337-4245-ba7d-e76ba1896d0b",
   "metadata": {
    "kernel": "Bash"
   },
   "source": [
    "### Model 1 with adjusting for APOE4"
   ]
  },
  {
   "cell_type": "code",
   "execution_count": null,
   "id": "38a58375-c672-42aa-972a-648849acd4f3",
   "metadata": {
    "kernel": "Bash"
   },
   "outputs": [],
   "source": [
    "SCHEME SAMPLESIZE\n",
    "MARKER  SNP\n",
    "WEIGHT  N\n",
    "EFFECT  BETA\n",
    "PVAL    P\n",
    "\n",
    "\n",
    "PROCESS /mnt/mfs/statgen/alzheimers-family/ADSP_2023/smmat/WES/apoe/af0.01/model1_skat/African.pca.projected_outlier_removed_AD.SMMAT.snp_stats.gz\n",
    "PROCESS /mnt/mfs/statgen/alzheimers-family/ADSP_2023/smmat/WES/apoe/af0.01/model1_skat/European.pca.projected_outlier_removed_AD.SMMAT.snp_stats.gz\n",
    "PROCESS /mnt/mfs/statgen/alzheimers-family/ADSP_2023/smmat/WES/apoe/af0.01/model1_skat/Hispanic.pca.projected_outlier_removed_AD.SMMAT.snp_stats.gz\n",
    "\n",
    "OUTFILE /mnt/mfs/statgen/alzheimers-family/ADSP_2023/smmat/WES/apoe/af0.01/model1_skat/ADSP.SMMAT_APOE4_META .TXT\n",
    "ANALYZE\n",
    "ANALYZE HETEROGENEITY"
   ]
  },
  {
   "cell_type": "code",
   "execution_count": 8,
   "id": "529681fc-9835-43df-bcff-9eb97caca123",
   "metadata": {
    "kernel": "R",
    "tags": []
   },
   "outputs": [],
   "source": [
    "data = read.table('/mnt/mfs/statgen/alzheimers-family/ADSP_2023/smmat/WES/apoe/af0.01/model1_skat/ADSP.SMMAT_APOE4_META2.TXT', header = T, sep = '\\t')\n",
    "his = read.table('/mnt/mfs/statgen/alzheimers-family/ADSP_2023/smmat/WES/apoe/af0.01/model1_skat/Hispanic.pca.projected_outlier_removed_AD.SMMAT.snp_stats.gz', header = T, sep ='\\t')[, c(1, 2, 3)]\n",
    "eur = read.table('/mnt/mfs/statgen/alzheimers-family/ADSP_2023/smmat/WES/apoe/af0.01/model1_skat/European.pca.projected_outlier_removed_AD.SMMAT.snp_stats.gz', header = T, sep ='\\t')[, c(1, 2, 3)]\n",
    "afr = read.table('/mnt/mfs/statgen/alzheimers-family/ADSP_2023/smmat/WES/apoe/af0.01/model1_skat/African.pca.projected_outlier_removed_AD.SMMAT.snp_stats.gz', header = T, sep ='\\t')[, c(1, 2, 3)]\n",
    "pos = merge(his, eur, by = c('CHR', 'POS', 'SNP'),all = TRUE)\n",
    "POS = merge(pos, afr, by = c('CHR', 'POS', 'SNP'),all = TRUE)\n",
    "data = inner_join(data, POS, by = c('MarkerName'='SNP'))\n",
    "data$POS = as.numeric(data$POS)\n",
    "data$CHR = as.numeric(data$CHR)\n",
    "write.table(data,'/mnt/mfs/statgen/alzheimers-family/ADSP_2023/smmat/WES/apoe/af0.01/model1_skat/meta.smmat_APOE4.txt', sep = '\\t', quote = F, col.names = T, row.names = F)\n",
    "lambda <- median(qchisq(1-data$P.value,1), na.rm=TRUE)/qchisq(0.5,1)"
   ]
  },
  {
   "cell_type": "markdown",
   "id": "1fcaab83-9526-4e86-83d7-48e6b6c0a0f7",
   "metadata": {
    "kernel": "Bash"
   },
   "source": [
    "### Model 2 with adjusting for APOE4"
   ]
  },
  {
   "cell_type": "code",
   "execution_count": null,
   "id": "1358bed6-97c6-4bb3-9f4c-44ffccc37c17",
   "metadata": {
    "kernel": "Bash"
   },
   "outputs": [],
   "source": [
    "SCHEME SAMPLESIZE\n",
    "MARKER  SNP\n",
    "WEIGHT  N\n",
    "EFFECT  BETA\n",
    "PVAL    P\n",
    "\n",
    "\n",
    "PROCESS /mnt/mfs/statgen/alzheimers-family/ADSP_2023/smmat/WES/apoe/af0.01/model3_skat/African.pca.projected_outlier_removed_AD.SMMAT.snp_stats.gz\n",
    "PROCESS /mnt/mfs/statgen/alzheimers-family/ADSP_2023/smmat/WES/apoe/af0.01/model3_skat/European.pca.projected_outlier_removed_AD.SMMAT.snp_stats.gz\n",
    "PROCESS /mnt/mfs/statgen/alzheimers-family/ADSP_2023/smmat/WES/apoe/af0.01/model3_skat/Hispanic.pca.projected_outlier_removed_AD.SMMAT.snp_stats.gz\n",
    "\n",
    "OUTFILE /mnt/mfs/statgen/alzheimers-family/ADSP_2023/smmat/WES/apoe/af0.01/model3_skat/ADSP.SMMAT_APOE4_META .TXT\n",
    "ANALYZE\n",
    "ANALYZE HETEROGENEITY"
   ]
  },
  {
   "cell_type": "code",
   "execution_count": 9,
   "id": "d845ddcc-545b-4ac8-88c7-992fcd56984c",
   "metadata": {
    "kernel": "R",
    "tags": []
   },
   "outputs": [],
   "source": [
    "data = read.table('/mnt/mfs/statgen/alzheimers-family/ADSP_2023/smmat/WES/apoe/af0.01/model3_skat/ADSP.SMMAT_APOE4_META2.TXT', header = T, sep = '\\t')\n",
    "his = read.table('/mnt/mfs/statgen/alzheimers-family/ADSP_2023/smmat/WES/apoe/af0.01/model3_skat/Hispanic.pca.projected_outlier_removed_AD.SMMAT.snp_stats.gz', header = T, sep ='\\t')[, c(1, 2, 3)]\n",
    "eur = read.table('/mnt/mfs/statgen/alzheimers-family/ADSP_2023/smmat/WES/apoe/af0.01/model3_skat/European.pca.projected_outlier_removed_AD.SMMAT.snp_stats.gz', header = T, sep ='\\t')[, c(1, 2, 3)]\n",
    "afr = read.table('/mnt/mfs/statgen/alzheimers-family/ADSP_2023/smmat/WES/apoe/af0.01/model3_skat/African.pca.projected_outlier_removed_AD.SMMAT.snp_stats.gz', header = T, sep ='\\t')[, c(1, 2, 3)]\n",
    "pos = merge(his, eur, by = c('CHR', 'POS', 'SNP'),all = TRUE)\n",
    "POS = merge(pos, afr, by = c('CHR', 'POS', 'SNP'),all = TRUE)\n",
    "data = inner_join(data, POS, by = c('MarkerName'='SNP'))\n",
    "data$POS = as.numeric(data$POS)\n",
    "data$CHR = as.numeric(data$CHR)\n",
    "write.table(data,'/mnt/mfs/statgen/alzheimers-family/ADSP_2023/smmat/WES/apoe/af0.01/model3_skat/meta.smmat_APOE4.txt', sep = '\\t', quote = F, col.names = T, row.names = F)\n",
    "lambda <- median(qchisq(1-data$P.value,1), na.rm=TRUE)/qchisq(0.5,1)"
   ]
  }
 ],
 "metadata": {
  "kernelspec": {
   "display_name": "SoS",
   "language": "sos",
   "name": "sos"
  },
  "language_info": {
   "codemirror_mode": "sos",
   "file_extension": ".sos",
   "mimetype": "text/x-sos",
   "name": "sos",
   "nbconvert_exporter": "sos_notebook.converter.SoS_Exporter",
   "pygments_lexer": "sos"
  },
  "sos": {
   "kernels": [
    [
     "Bash",
     "calysto_bash",
     "Bash",
     "#E6EEFF",
     "shell"
    ],
    [
     "R",
     "ir",
     "R",
     "#DCDCDA",
     "r"
    ],
    [
     "SoS",
     "sos",
     "",
     "",
     "sos"
    ]
   ],
   "version": "0.24.3"
  },
  "toc-autonumbering": true
 },
 "nbformat": 4,
 "nbformat_minor": 5
}
