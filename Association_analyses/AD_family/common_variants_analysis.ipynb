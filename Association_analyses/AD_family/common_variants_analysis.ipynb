{
 "cells": [
  {
   "cell_type": "markdown",
   "id": "korean-combining",
   "metadata": {
    "kernel": "Markdown",
    "tags": []
   },
   "source": [
    "# GMMAT Analyses for common variants on the updated AD Data\n",
    "This notebook documents the population specific GMMAT analyses using the updated AD pheno (https://github.com/gaow/alzheimers-family/blob/master/notebook/20221121_AD_pheno_update.ipynb).\n",
    "\n",
    "Major updates for the pheno data\n",
    "\n",
    "* Most of missing data for age has been completed\n",
    "* missing info for APOE4 updated based on the sequence data\n",
    "* controls under 60 years of age excluded\n",
    "* For the European samples (n = 15) age values coded as like 999, 8027 were replaced by the correct age\n",
    "* unaffected singletons removed \n",
    "* PCs recalculated based on the updated pheno \n",
    "\n",
    "Pheno data\n",
    " > /mnt/mfs/statgen/alzheimers-family/pheno/pheno_updated_20221121/\n",
    " \n",
    "Geno data: WGS data with jointly called EFIGA and NIALOAD data is available here\n",
    " > /mnt/mfs/statgen/alzheimers-family/normalized_bed/normalized_merged_autosome.*  \n",
    " \n",
    " QCed genetic data used for the analyses for African, European and Hispanic\n",
    " \n",
    " > /mnt/mfs/statgen/alzheimers-family/AD_common_variants/geno_qced/geno_qced.$i.*\n",
    "\n",
    "We used GMMAT software included in [our workflow](https://github.com/cumc/bioworkflows/blob/master/GWAS/LMM.ipynb) for the analyses. The docker image that contains all the necessary software installations to run this notebook and workflow can be retrieved by the following command: docker pull statisticalgenetics/lmm:3.0"
   ]
  },
  {
   "cell_type": "markdown",
   "id": "a7e384e3-582f-4240-911d-5982a71723be",
   "metadata": {
    "kernel": "SoS",
    "tags": []
   },
   "source": [
    "# Common Variants analyses"
   ]
  },
  {
   "cell_type": "markdown",
   "id": "37d04a3e-46ea-4f2a-abbf-bafdbfd2c462",
   "metadata": {
    "kernel": "SoS"
   },
   "source": [
    "## Calculate Kin Matrix"
   ]
  },
  {
   "cell_type": "markdown",
   "id": "27546dcc-47a0-48a3-bed6-87fd262b47a8",
   "metadata": {
    "kernel": "SoS"
   },
   "source": [
    "### Generate genoFile with LD pruning as a temporary file to compute GRM"
   ]
  },
  {
   "cell_type": "code",
   "execution_count": null,
   "id": "b12244a5-ec3f-4976-b1fc-0fc6cb85598e",
   "metadata": {
    "kernel": "Bash",
    "tags": []
   },
   "outputs": [],
   "source": [
    "ml Singularity\n",
    "for i in African European Hispanic; do\n",
    "# unrelated individuals\n",
    "sos run ~/project2022/notebook/AD/xqtl-pipeline/pipeline/GWAS_QC.ipynb qc \\\n",
    "    --cwd mnt/mfs/statgen/alzheimers-family/AD_common_variants/gmmat/kinship \\\n",
    "    --genoFile /mnt/mfs/statgen/alzheimers-family/AD_common_variants/PCA/normalized_merged_autosome.$i.filtered.bed \\\n",
    "    --remove_samples /mnt/mfs/statgen/alzheimers-family/AD_common_variants/PCA/King/normalized_merged_autosome.$i.filtered.related_id \\\n",
    "    --maf_filter 0.01 \\\n",
    "    --geno_filter 0.1 \\\n",
    "    --mind_filter 0.1 \\\n",
    "    --hwe_filter 5e-08 \\\n",
    "    --name unrelated \\\n",
    "    --container /mnt/mfs/statgen/containers/lmm.sif\n",
    "# related individuals same set of variants\n",
    "sos run ~/project2022/notebook/AD/xqtl-pipeline/pipeline/GWAS_QC.ipynb qc:1 \\\n",
    "    --cwd /mnt/mfs/statgen/alzheimers-family/AD_common_variants/gmmat/kinship \\\n",
    "    --genoFile /mnt/mfs/statgen/alzheimers-family/AD_common_variants/PCA/normalized_merged_autosome.$i.filtered.bed \\\n",
    "    --keep_samples /mnt/mfs/statgen/alzheimers-family/AD_common_variants/PCA/King/normalized_merged_autosome.$i.filtered.related_id \\\n",
    "    --keep_variants /mnt/mfs/statgen/alzheimers-family/AD_common_variants/geno_qced/normalized_merged_autosome.$i.filtered.unrelated.filtered.bim \\\n",
    "    --maf_filter 0 \\\n",
    "    --geno_filter 0.1 \\\n",
    "    --mind_filter 0.1 \\\n",
    "    --hwe_filter 0 \\\n",
    "    --name related \\\n",
    "    --container /mnt/mfs/statgen/containers/lmm.sif \n",
    "done"
   ]
  },
  {
   "cell_type": "code",
   "execution_count": null,
   "id": "8076625e-e653-418d-953b-541ed8c9d7a0",
   "metadata": {
    "kernel": "SoS"
   },
   "outputs": [],
   "source": [
    "# merge two data-sets\n",
    "for i in African European Hispanic; do\n",
    "    plink --bfile /mnt/vast/hpc/csg/bst2126/notebook_Bale/AD_family/mnt/mfs/statgen/alzheimers-family/AD_common_variants/gmmat/kinship/normalized_merged_autosome.$i.filtered.related.filtered.extracted \\\n",
    "         --bmerge /mnt/vast/hpc/csg/bst2126/notebook_Bale/AD_family/mnt/mfs/statgen/alzheimers-family/AD_common_variants/gmmat/kinship/normalized_merged_autosome.$i.filtered.unrelated.filtered.prune.bed \\\n",
    "                  /mnt/vast/hpc/csg/bst2126/notebook_Bale/AD_family/mnt/mfs/statgen/alzheimers-family/AD_common_variants/gmmat/kinship/normalized_merged_autosome.$i.filtered.unrelated.filtered.prune.bim \\\n",
    "                  /mnt/vast/hpc/csg/bst2126/notebook_Bale/AD_family/mnt/mfs/statgen/alzheimers-family/AD_common_variants/gmmat/kinship/normalized_merged_autosome.$i.filtered.unrelated.filtered.prune.fam \\\n",
    "        --make-bed --keep-allele-order --out /mnt/mfs/statgen/alzheimers-family/AD_common_variants/gmmat/kinship/geno_pruned.$i\n",
    "done"
   ]
  },
  {
   "cell_type": "code",
   "execution_count": null,
   "id": "94916db3-08d5-4a77-b10b-0110f31fc4e7",
   "metadata": {
    "kernel": "R"
   },
   "outputs": [],
   "source": [
    "##in order to run gemma, pheno column in fam file can not be missing, so make modification on fam file.\n",
    "data=read.table('/mnt/mfs/statgen/alzheimers-family/AD_common_variants/gmmat/kinship/geno_pruned.African.fam',header=F)\n",
    "data[,6]=5\n",
    "write.table(data,'/mnt/mfs/statgen/alzheimers-family/AD_common_variants/gmmat/kinship/geno_pruned.African.fam',col.names=F,row.names=F,quote=F)\n",
    "\n",
    "data1=read.table('/mnt/mfs/statgen/alzheimers-family/AD_common_variants/gmmat/kinship/geno_pruned.European.fam',header=F)\n",
    "data1[,6]=5\n",
    "write.table(data1,'/mnt/mfs/statgen/alzheimers-family/AD_common_variants/gmmat/kinship/geno_pruned.European.fam',col.names=F,row.names=F,quote=F)\n",
    "\n",
    "data2=read.table('/mnt/mfs/statgen/alzheimers-family/AD_common_variants/gmmat/kinship/geno_pruned.Hispanic.fam',header=F)\n",
    "data2[,6]=5\n",
    "write.table(data2,'/mnt/mfs/statgen/alzheimers-family/AD_common_variants/gmmat/kinship/geno_pruned.Hispanic.fam',col.names=F,row.names=F,quote=F)"
   ]
  },
  {
   "cell_type": "markdown",
   "id": "e281c021-da56-430c-9a41-ba358983b8be",
   "metadata": {
    "kernel": "SoS"
   },
   "source": [
    "### Compute GRM"
   ]
  },
  {
   "cell_type": "code",
   "execution_count": null,
   "id": "0d910c9a-8da6-4553-8e32-fb9b24658dc9",
   "metadata": {
    "kernel": "Bash",
    "tags": []
   },
   "outputs": [],
   "source": [
    "ml GEMMA\n",
    "for i in African European Hispanic; do\n",
    "gemma \\\n",
    "  -bfile /mnt/mfs/statgen/alzheimers-family/AD_common_variants/gmmat/kinship/geno_pruned.$i \\\n",
    "  -gk 2 \\\n",
    "  -o geno_pruned_$i \\\n",
    "  -outdir /mnt/mfs/statgen/alzheimers-family/AD_common_variants/gmmat/kinship\n",
    "done"
   ]
  },
  {
   "cell_type": "markdown",
   "id": "1c8efdc1-3851-4f4e-abe9-73ce100a9b68",
   "metadata": {
    "kernel": "SoS"
   },
   "source": [
    "### Null Models"
   ]
  },
  {
   "cell_type": "code",
   "execution_count": null,
   "id": "d70c7a2c-04cb-4a14-ba91-e04538fa6b4e",
   "metadata": {
    "kernel": "Bash",
    "tags": []
   },
   "outputs": [],
   "source": [
    "#MODEL ONE with out APOE4\n",
    "for i in African European Hispanic; do\n",
    "module load Singularity\n",
    "sos run ~/project2022/bioworkflows/GWAS/LMM.ipynb null_model \\\n",
    "--cwd /mnt/mfs/statgen/alzheimers-family/AD_common_variants/gmmat/null2 \\\n",
    "--bfile /mnt/mfs/statgen/alzheimers-family/AD_common_variants/geno_qced/geno_qced.$i.fam \\\n",
    "--phenoFile /mnt/mfs/statgen/alzheimers-family/AD_common_variants/PCA/plots/$i.pca.projected.txt \\\n",
    "--grmFile /mnt/mfs/statgen/alzheimers-family/AD_common_variants/gmmat/kinship/geno_pruned_$i.sXX.txt \\\n",
    "--phenoCol AD \\\n",
    "--container_lmm /mnt/vast/hpc/csg/containers/lmm.sif \\\n",
    "--covarCol SEX \\\n",
    "--qCovarCol AGE PC1 PC2 PC3 \\\n",
    "--model_name noAPOE\n",
    "done"
   ]
  },
  {
   "cell_type": "code",
   "execution_count": null,
   "id": "e0b8f38a-2dac-43f7-910c-2fa2ffcb5e6e",
   "metadata": {
    "kernel": "Bash"
   },
   "outputs": [],
   "source": [
    "#MODEL ONE with APOE4\n",
    "for i in African European Hispanic; do\n",
    "module load Singularity\n",
    "sos run ~/project2022/bioworkflows/GWAS/LMM.ipynb null_model \\\n",
    "--cwd /mnt/mfs/statgen/alzheimers-family/AD_common_variants/gmmat/null2 \\\n",
    "--bfile /mnt/mfs/statgen/alzheimers-family/AD_common_variants/geno_qced/geno_qced.$i.fam \\\n",
    "--phenoFile /mnt/mfs/statgen/alzheimers-family/AD_common_variants/PCA/plots/$i.pca.projected.txt \\\n",
    "--grmFile /mnt/mfs/statgen/alzheimers-family/AD_common_variants/gmmat/kinship/geno_pruned_$i.sXX.txt \\\n",
    "--phenoCol AD \\\n",
    "--container_lmm /mnt/vast/hpc/csg/containers/lmm.sif \\\n",
    "--covarCol SEX APOE \\\n",
    "--qCovarCol AGE PC1 PC2 PC3 \\\n",
    "--model_name APOE\n",
    "done"
   ]
  },
  {
   "cell_type": "markdown",
   "id": "1e406c0c-96b7-4bb1-ab95-a4df381608f9",
   "metadata": {
    "kernel": "SoS"
   },
   "source": [
    "# Population specific association tests using GMMAT"
   ]
  },
  {
   "cell_type": "markdown",
   "id": "vietnamese-determination",
   "metadata": {
    "kernel": "SoS"
   },
   "source": [
    "## Analyses with SEX and AGE as covariates"
   ]
  },
  {
   "cell_type": "code",
   "execution_count": null,
   "id": "committed-rotation",
   "metadata": {
    "kernel": "SoS"
   },
   "outputs": [],
   "source": [
    "#!/bin/sh\n",
    "#$ -l h_rt=4:00:00\n",
    "#$ -l h_vmem=40G\n",
    "#$ -N gmmat_update_noAPOE4\n",
    "#$ -o /mnt/mfs/statgen/alzheimers-family/AD_common_variants/gmmat/results2/noAPOE4-$JOB_ID.out\n",
    "#$ -e /mnt/mfs/statgen/alzheimers-family/AD_common_variants/gmmat/results2/noAPOE4-$JOB_ID.err  \n",
    "#$ -j y\n",
    "#$ -S /bin/bash\n",
    "\n",
    "export PATH=$HOME/miniconda3/bin:$PATH\n",
    "\n",
    "module load Singularity/3.5.3\n",
    "\n",
    "for i in African European Hispanic; do\n",
    "sos run ~/project2022/bioworkflows/GWAS/LMM.ipynb GMMAT \\\n",
    "--cwd /mnt/mfs/statgen/alzheimers-family/AD_common_variants/gmmat/results2/noAPOE4/$i \\\n",
    "--bfile /mnt/mfs/statgen/alzheimers-family/AD_common_variants/geno_qced/geno_qced.$i.bed \\\n",
    "--null_model /mnt/mfs/statgen/alzheimers-family/AD_common_variants/gmmat/null2/geno_qced.$i.$i.pca.projected.noAPOE.rds \\\n",
    "--phenoFile /mnt/mfs/statgen/alzheimers-family/AD_common_variants/PCA/plots/$i.pca.projected.txt \\\n",
    "--formatFile ~/project2022/bioworkflows/GWAS/data/gmmat_template.yml \\\n",
    "--label_annotate SNP \\\n",
    "--phenoCol AD \\\n",
    "--covarMaxLevels 10 \\\n",
    "--numThreads 20 \\\n",
    "--bgenMinMAF 0.01 \\\n",
    "--container_lmm /mnt/vast/hpc/csg/containers/lmm.sif \\\n",
    "--container_marp /mnt/vast/hpc/csg/containers/marp.sif \\\n",
    "--geno_filter 0.01 \\\n",
    "--nperbatch 100\n",
    "done"
   ]
  },
  {
   "cell_type": "markdown",
   "id": "46441dd1-3413-4ae9-8fc5-59b37cc92bec",
   "metadata": {
    "kernel": "SoS"
   },
   "source": [
    "## Analyses with APOE4 and SEX, AGE as covariate"
   ]
  },
  {
   "cell_type": "code",
   "execution_count": null,
   "id": "82707727-e651-406d-9f78-6a79a3e70668",
   "metadata": {
    "kernel": "SoS",
    "tags": []
   },
   "outputs": [],
   "source": [
    "#!/bin/sh\n",
    "#$ -l h_rt=23:00:00\n",
    "#$ -l h_vmem=1000G\n",
    "#$ -N gmmat_update_APOE4\n",
    "#$ -o /mnt/mfs/statgen/alzheimers-family/AD_common_variants/gmmat/results2/APOE4-$JOB_ID.out\n",
    "#$ -e /mnt/mfs/statgen/alzheimers-family/AD_common_variants/gmmat/results2/APOE4-$JOB_ID.err  \n",
    "#$ -j y\n",
    "#$ -S /bin/bash\n",
    "\n",
    "export PATH=$HOME/miniconda3/bin:$PATH\n",
    "\n",
    "\n",
    "module load Singularity/3.5.3\n",
    "\n",
    "for i in African European Hispanic; do\n",
    "sos run ~/project2022/bioworkflows/GWAS/LMM.ipynb GMMAT \\\n",
    "--cwd /mnt/mfs/statgen/alzheimers-family/AD_common_variants/gmmat/results2/APOE4/$i \\\n",
    "--bfile /mnt/mfs/statgen/alzheimers-family/AD_common_variants/geno_qced/geno_qced.$i.bed \\\n",
    "--null_model /mnt/mfs/statgen/alzheimers-family/AD_common_variants/gmmat/null2/geno_qced.$i.$i.pca.projected.APOE.rds \\\n",
    "--phenoFile /mnt/mfs/statgen/alzheimers-family/AD_common_variants/PCA/plots/$i.pca.projected.txt \\\n",
    "--formatFile ~/project2022/bioworkflows/GWAS/data/gmmat_template.yml \\\n",
    "--label_annotate SNP \\\n",
    "--phenoCol AD \\\n",
    "--covarMaxLevels 10 \\\n",
    "--numThreads 20 \\\n",
    "--bgenMinMAF 0.01 \\\n",
    "--container_lmm /mnt/vast/hpc/csg/containers/lmm.sif \\\n",
    "--container_marp /mnt/vast/hpc/csg/containers/marp.sif \\\n",
    "--geno_filter 0.01 \\\n",
    "--nperbatch 100\n",
    "done"
   ]
  },
  {
   "cell_type": "markdown",
   "id": "d390c589-4d93-4152-b125-480cf604c556",
   "metadata": {
    "kernel": "SoS",
    "tags": []
   },
   "source": [
    "## Meta-analysis\n",
    "\n",
    "We used [METAL](https://genome.sph.umich.edu/wiki/METAL_Documentation) to meta-analyze population specific results. "
   ]
  },
  {
   "cell_type": "markdown",
   "id": "eb6e6cd4-31cb-4f08-9347-92eaae53ae31",
   "metadata": {
    "kernel": "R"
   },
   "source": [
    "### with out APOE4"
   ]
  },
  {
   "cell_type": "code",
   "execution_count": null,
   "id": "3a5b46f4-7d57-4933-b972-920b6e951a17",
   "metadata": {
    "kernel": "R"
   },
   "outputs": [],
   "source": [
    "\n",
    "SCHEME STDERR\n",
    "MARKER   SNP\n",
    "WEIGHT   N\n",
    "ALLELE   A2 A1\n",
    "EFFECT   BHAT\n",
    "STDERR   SBHAT\n",
    "PVAL     PVAL\n",
    "FREQLABEL AF\n",
    "GENOMICCONTROL ON\n",
    "AVERAGEFREQ ON\n",
    "MINMAXFREQ ON\n",
    "\n",
    "PROCESS /mnt/mfs/statgen/alzheimers-family/AD_common_variants/gmmat/results2/noAPOE4/European/geno_qced.European.European.pca.projected.gmmat.score.txt.gz\n",
    "PROCESS /mnt/mfs/statgen/alzheimers-family/AD_common_variants/gmmat/results2/noAPOE4/Hispanic/geno_qced.Hispanic.Hispanic.pca.projected.gmmat.score.txt.gz\n",
    "PROCESS /mnt/mfs/statgen/alzheimers-family/AD_common_variants/gmmat/results2/noAPOE4/African/geno_qced.African.African.pca.projected.gmmat.score.txt.gz\n",
    "\n",
    "OUTFILE /mnt/mfs/statgen/alzheimers-family/AD_common_variants/gmmat/results2/noAPOE4/metal/AD.GMMAT_noAPOE4_META .TXT\n",
    "ANALYZE\n",
    "ANALYZE HETEROGENEITY"
   ]
  },
  {
   "cell_type": "code",
   "execution_count": null,
   "id": "8704ff15-14d5-433a-a494-4025bd777475",
   "metadata": {
    "kernel": "R"
   },
   "outputs": [],
   "source": [
    "# Reformat the metal result\n",
    "\n",
    "library(stringr) # to replace strings\n",
    "library(tidyr) # to get  separate function separate the marker name \n",
    "library(data.table)\n",
    "library(dplyr)\n",
    "\n",
    "meta_noAPOE4 <- read.table('/mnt/mfs/statgen/alzheimers-family/AD_common_variants/gmmat/results2/noAPOE4/metal/AD.GMMAT_noAPOE4_META2.TXT', header = T, sep = '\\t')\n",
    "meta_noAPOE4 <- meta_noAPOE4 %>% mutate (SNP = MarkerName)\n",
    "meta_noAPOE4 <- meta_noAPOE4 %>% mutate(across('MarkerName', str_replace_all, '_', ':'))\n",
    "meta_noAPOE4 <- meta_noAPOE4 %>% separate(MarkerName, c('CHR','POS','REF', 'ALT'),  sep = ':')\n",
    "meta_noAPOE4 <- meta_noAPOE4 %>% mutate(across('CHR', str_replace, 'chr', ''))\n",
    "meta_noAPOE4$POS <-  as.numeric(meta_noAPOE4$POS)\n",
    "meta_noAPOE4$CHR <-  as.numeric(meta_noAPOE4$CHR)\n",
    "write.table(meta_noAPOE4,'/mnt/mfs/statgen/alzheimers-family/AD_common_variants/gmmat/results2/noAPOE4/metal/meta.noAPOE4.txt', sep = '\\t', quote = F, col.names = T, row.names = F)"
   ]
  },
  {
   "cell_type": "code",
   "execution_count": 5,
   "id": "16206484-df13-4643-94e7-e481f9b1385a",
   "metadata": {
    "kernel": "R"
   },
   "outputs": [],
   "source": [
    "# calculate lamda\n",
    "\n",
    "lambda <- median(qchisq(meta_noAPOE4$P.value, df=1, lower.tail=FALSE)) / qchisq(0.5, 1)"
   ]
  },
  {
   "cell_type": "code",
   "execution_count": 6,
   "id": "48a9f56c-1b84-4888-93df-9f8a1046919a",
   "metadata": {
    "kernel": "R"
   },
   "outputs": [
    {
     "data": {
      "text/html": [
       "0.988848156832699"
      ],
      "text/latex": [
       "0.988848156832699"
      ],
      "text/markdown": [
       "0.988848156832699"
      ],
      "text/plain": [
       "[1] 0.9888482"
      ]
     },
     "metadata": {},
     "output_type": "display_data"
    }
   ],
   "source": [
    "lambda"
   ]
  },
  {
   "cell_type": "markdown",
   "id": "45e8f575-ac4c-4f51-ae49-de22014b0f99",
   "metadata": {
    "kernel": "SoS",
    "tags": []
   },
   "source": [
    "### with APOE4 adjustment"
   ]
  },
  {
   "cell_type": "code",
   "execution_count": 2,
   "id": "8f77d7df-0b5e-4eeb-9654-882d74f96baa",
   "metadata": {
    "kernel": "R",
    "tags": []
   },
   "outputs": [],
   "source": [
    "library(dplyr)"
   ]
  },
  {
   "cell_type": "code",
   "execution_count": null,
   "id": "286ebca7-063b-495d-9ac4-4604798277b1",
   "metadata": {
    "kernel": "R",
    "tags": []
   },
   "outputs": [],
   "source": [
    "SCHEME STDERR\n",
    "MARKER   SNP\n",
    "WEIGHT   N\n",
    "ALLELE   A2 A1\n",
    "EFFECT   BHAT\n",
    "STDERR   SBHAT\n",
    "PVAL     PVAL\n",
    "FREQLABEL AF\n",
    "GENOMICCONTROL ON\n",
    "AVERAGEFREQ ON\n",
    "MINMAXFREQ ON\n",
    "\n",
    "PROCESS /mnt/mfs/statgen/alzheimers-family/AD_common_variants/gmmat/results2/APOE4/European/geno_qced.European.European.pca.projected.gmmat.score.txt.gz\n",
    "PROCESS /mnt/mfs/statgen/alzheimers-family/AD_common_variants/gmmat/results2/APOE4/Hispanic/geno_qced.Hispanic.Hispanic.pca.projected.gmmat.score.txt.gz\n",
    "PROCESS /mnt/mfs/statgen/alzheimers-family/AD_common_variants/gmmat/results2/APOE4/African/geno_qced.African.African.pca.projected.gmmat.score.txt.gz\n",
    "\n",
    "OUTFILE /mnt/mfs/statgen/alzheimers-family/AD_common_variants/gmmat/results2/APOE4/metal/AD.GMMAT_APOE4_META .TXT\n",
    "ANALYZE\n",
    "ANALYZE HETEROGENEITY"
   ]
  },
  {
   "cell_type": "code",
   "execution_count": 7,
   "id": "f03abcc8-c052-4891-949b-ffc16cf4a66e",
   "metadata": {
    "kernel": "R",
    "tags": []
   },
   "outputs": [],
   "source": [
    "# Reformate the metal result and generat manhattan and qq plots\n",
    "\n",
    "meta_APOE4 <- read.table('/mnt/mfs/statgen/alzheimers-family/AD_common_variants/gmmat/results2/APOE4/metal/AD.GMMAT_APOE4_META2.TXT', header = T, sep = '\\t')\n",
    "meta_APOE4 <- meta_APOE4 %>% mutate (SNP = MarkerName)\n",
    "meta_APOE4 <- meta_APOE4 %>% mutate(across('MarkerName', str_replace_all, '_', ':'))\n",
    "meta_APOE4 <- meta_APOE4 %>% separate(MarkerName, c('CHR','POS','REF', 'ALT'),  sep = ':')\n",
    "meta_APOE4 <- meta_APOE4 %>% mutate(across('CHR', str_replace, 'chr', ''))\n",
    "meta_APOE4$POS <-  as.numeric(meta_APOE4$POS)\n",
    "meta_APOE4$CHR <-  as.numeric(meta_APOE4$CHR)\n",
    "write.table(meta_APOE4,'/mnt/mfs/statgen/alzheimers-family/AD_common_variants/gmmat/results2/APOE4/metal/meta.APOE4.txt', sep = '\\t', quote = F, col.names = T, row.names = F)"
   ]
  },
  {
   "cell_type": "code",
   "execution_count": null,
   "id": "602e283a-3aed-41fd-8c2e-ac38fad5dc63",
   "metadata": {
    "kernel": "R",
    "tags": []
   },
   "outputs": [
    {
     "data": {
      "text/html": [
       "0.988848156832699"
      ],
      "text/latex": [
       "0.988848156832699"
      ],
      "text/markdown": [
       "0.988848156832699"
      ],
      "text/plain": [
       "[1] 0.9888482"
      ]
     },
     "metadata": {},
     "output_type": "display_data"
    }
   ],
   "source": [
    "lambda"
   ]
  }
 ],
 "metadata": {
  "kernelspec": {
   "display_name": "SoS",
   "language": "sos",
   "name": "sos"
  },
  "language_info": {
   "codemirror_mode": "sos",
   "file_extension": ".sos",
   "mimetype": "text/x-sos",
   "name": "sos",
   "nbconvert_exporter": "sos_notebook.converter.SoS_Exporter",
   "pygments_lexer": "sos"
  },
  "sos": {
   "kernels": [
    [
     "Bash",
     "calysto_bash",
     "Bash",
     "#E6EEFF",
     "shell"
    ],
    [
     "R",
     "ir",
     "R",
     "#DCDCDA",
     "r"
    ],
    [
     "SoS",
     "sos",
     "",
     "",
     "sos"
    ]
   ],
   "version": "0.24.3"
  },
  "toc-autonumbering": true
 },
 "nbformat": 4,
 "nbformat_minor": 5
}
