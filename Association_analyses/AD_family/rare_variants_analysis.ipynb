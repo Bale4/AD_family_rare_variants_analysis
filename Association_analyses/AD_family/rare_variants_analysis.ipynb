{
 "cells": [
  {
   "cell_type": "markdown",
   "id": "korean-combining",
   "metadata": {
    "kernel": "Markdown",
    "tags": []
   },
   "source": [
    "# SMMAT Analyses for rare variants (MAF < 0.01) on the updated AD Data\n",
    "\n",
    "***Written by Bale, 2023***\n",
    "\n",
    "This notebook documents the population specific SMMAT analyses using the updated AD pheno (https://github.com/gaow/alzheimers-family/blob/master/notebook/20221121_AD_pheno_update.ipynb).\n",
    "\n",
    "Major updates for the pheno data\n",
    "\n",
    "* Most of missing data for age has been completed\n",
    "* missing info for APOE4 updated based on the sequence data\n",
    "* controls under 60 years of age excluded\n",
    "* For the European samples (n = 15) age values coded as like 999, 8027 were replaced by the correct age\n",
    "* unaffected singletons removed \n",
    "* PCs recalculated based on the updated pheno\n",
    "\n",
    "## File paths\n",
    "Pheno data\n",
    " > /mnt/mfs/statgen/alzheimers-family/pheno/pheno_updated_20221121/\n",
    " \n",
    "Geno data: WGS data with jointly called EFIGA and NIALOAD data is available here\n",
    " > /mnt/mfs/statgen/alzheimers-family/normalized_bed/normalized_merged_autosome.*  \n",
    " \n",
    " QCed gene data used for the analyses for African, European and Hispanic\n",
    " \n",
    " > /mnt/mfs/statgen/alzheimers-family/AD_rare_variants/geno/$i.*\n",
    " \n",
    " > /mnt/mfs/statgen/alzheimers-family/AD_rare_variants/geno/$i_chr{1..22}.*\n",
    " \n",
    "Null models and GRM were taken from the common variant models : ~/project_bst/notebook_Bale/AD_family/20221209_common_variants_AD_analysis.ipynb"
   ]
  },
  {
   "cell_type": "markdown",
   "id": "0b526895-e88b-401d-a07b-62798c9d0d1e",
   "metadata": {
    "kernel": "SoS"
   },
   "source": [
    "# Rare Variants analyses"
   ]
  },
  {
   "cell_type": "markdown",
   "id": "4bd3268c-6dce-442a-9fb3-f746e4b04ed2",
   "metadata": {
    "kernel": "Bash"
   },
   "source": [
    "## Annotation"
   ]
  },
  {
   "cell_type": "code",
   "execution_count": null,
   "id": "de8e6f86-0afe-42f2-814e-83973cf14b09",
   "metadata": {
    "kernel": "SoS"
   },
   "outputs": [],
   "source": [
    "#Annotation\n",
    "[submit_chrs]\n",
    "import glob\n",
    "bim_files = glob.glob(\"/mnt/mfs/hgrcgrid/shared/Family_WGS/plink_files/*.bim\")\n",
    "input: bim_files,group_by = 1\n",
    "bash:expand = \"${ }\"\n",
    "sos run ~/bioworkflows/variant-annotation/annovar.ipynb annovar \\\n",
    "    --cwd /mnt/mfs/statgen/alzheimers-family/SMMAT/20210802/annotation_2 \\\n",
    "    --bim_name ${_input} \\\n",
    "    --humandb /mnt/mfs/statgen/isabelle/REF/humandb \\\n",
    "    --xref_path /mnt/mfs/statgen/isabelle/REF/humandb \\\n",
    "    --numThreads 1 \\\n",
    "    --name_prefix all \\\n",
    "    --container_annovar /mnt/mfs/statgen/containers/gatk4-annovar.sif \\\n",
    "    -c bioworkflows/admin/csg.yml -q csg -s force &> annovar.log"
   ]
  },
  {
   "cell_type": "markdown",
   "id": "9e5484fa-874b-4a3d-88d8-6552f8fb3e02",
   "metadata": {
    "kernel": "SoS"
   },
   "source": [
    "'Error: invalid record found in annovar outputfile: <gwasCatalog         12 56095129 56095129 G A 12:56095129:A:I_1'\n",
    "\n",
    "error annotating chromosome 12. delete this gene from African_12.bim for now"
   ]
  },
  {
   "cell_type": "markdown",
   "id": "069b8476-bdbc-4f22-a520-c7cc3e3d9269",
   "metadata": {
    "kernel": "SoS"
   },
   "source": [
    "4 different criteria to filter variants:\n",
    "loss of function\n",
    "missense: loss of function + nonsynonymous (damaging variants)\n",
    "loss of function + nonsynonymous\n",
    "all variants"
   ]
  },
  {
   "cell_type": "code",
   "execution_count": null,
   "id": "e92a679b-c7fa-4b42-93b5-7807bc891cc7",
   "metadata": {
    "kernel": "SoS",
    "tags": []
   },
   "outputs": [],
   "source": [
    "[group]\n",
    "import glob\n",
    "csv_files = glob.glob(\"/mnt/mfs/statgen/alzheimers-family/SMMAT/20210802/annotation/*.csv\")\n",
    "input: csv_files,group_by = 1\n",
    "output: f'{_input[0]:nnn}'\n",
    "task: trunk_workers = 1, trunk_size = 1, walltime = '10h', mem = '32G', cores = 1, tags = f'{step_name}_{_output[0]:bn}'\n",
    "R:  container= '/mnt/mfs/statgen/containers/lmm.sif',expand = \"${ }\"\n",
    "    library('dplyr')\n",
    "    data = read.csv('${_input}')\n",
    "    data$Gene.refGene = sub(\"\\\\;.*\", \"\", data$Gene.refGene)\n",
    "    df = data[, c('Gene.refGene', 'Chr','Start','Alt','Ref','ExonicFunc.refGene','Func.refGene','AF_afr','AF_nfe','AF_amr','AF_afr.1','AF_nfe.1','AF_amr.1','REVEL_score')]\n",
    "    df[,15]=1\n",
    "    df$REVEL_score = as.numeric(as.character(df$REVEL_score))\n",
    "    df$AF_afr = as.numeric(as.character(df$AF_afr))\n",
    "    df$AF_nfe = as.numeric(as.character(df$AF_nfe))\n",
    "    df$AF_amr = as.numeric(as.character(df$AF_amr))\n",
    "    df$AF_afr.1 = as.numeric(as.character(df$AF_afr.1))\n",
    "    df$AF_nfe.1 = as.numeric(as.character(df$AF_nfe.1))\n",
    "    df$AF_amr.1 = as.numeric(as.character(df$AF_amr.1))  \n",
    "    model1=df%>%filter((ExonicFunc.refGene %in% c('startloss','stopgain')) | (Func.refGene %in% c('splicing', 'exonic;splicing', 'ncRNA_exonic;splicing', 'ncRNA_splicing')))\n",
    "    model2=df%>%filter((ExonicFunc.refGene %in% c('startloss','stopgain')) | (Func.refGene %in% c('splicing', 'exonic;splicing', 'ncRNA_exonic;splicing', 'ncRNA_splicing')) | (ExonicFunc.refGene=='nonsynonymous SNV' & REVEL_score>=0.5))\n",
    "    model3=df%>%filter((ExonicFunc.refGene %in% c('nonsynonymous SNV','startloss','stopgain')) | (Func.refGene %in% c('splicing', 'exonic;splicing', 'ncRNA_exonic;splicing', 'ncRNA_splicing')))\n",
    "    model4=df%>%filter(!is.na(Gene.refGene))\n",
    "    #African\n",
    "    model1_a1=model1[which((model1$AF_afr<=0.01&model1$AF_afr.1<=0.01)|is.na(model1$AF_afr)),c(1, 2, 3, 4, 5, 15)]\n",
    "    model1_a5=model1[which((model1$AF_afr<=0.05&model1$AF_afr.1<=0.05)|is.na(model1$AF_afr)),c(1, 2, 3, 4, 5, 15)]\n",
    "    model2_a1=model2[which((model2$AF_afr<=0.01&model2$AF_afr.1<=0.01)|is.na(model2$AF_afr)),c(1, 2, 3, 4, 5, 15)]\n",
    "    model2_a5=model2[which((model2$AF_afr<=0.05&model2$AF_afr.1<=0.05)|is.na(model2$AF_afr)),c(1, 2, 3, 4, 5, 15)]\n",
    "    model3_a1=model3[which((model3$AF_afr<=0.01&model3$AF_afr.1<=0.01)|is.na(model3$AF_afr)),c(1, 2, 3, 4, 5, 15)]\n",
    "    model3_a5=model3[which((model3$AF_afr<=0.05&model3$AF_afr.1<=0.05)|is.na(model3$AF_afr)),c(1, 2, 3, 4, 5, 15)]\n",
    "    model4_a1=model4[which((model4$AF_afr<=0.01&model4$AF_afr.1<=0.01)|is.na(model4$AF_afr)),c(1, 2, 3, 4, 5, 15)]\n",
    "    model4_a5=model4[which((model4$AF_afr<=0.05&model4$AF_afr.1<=0.05)|is.na(model4$AF_afr)),c(1, 2, 3, 4, 5, 15)]\n",
    "    write.table(model1_a1, '${_output[0]}.African.model1.af1.group.file', col.names = F, row.names = F, quote = F, sep = '\\t')\n",
    "    write.table(model1_a5, '${_output[0]}.African.model1.af5.group.file', col.names = F, row.names = F, quote = F, sep = '\\t')\n",
    "    write.table(model2_a1, '${_output[0]}.African.model2.af1.group.file', col.names = F, row.names = F, quote = F, sep = '\\t')\n",
    "    write.table(model2_a5, '${_output[0]}.African.model2.af5.group.file', col.names = F, row.names = F, quote = F, sep = '\\t')\n",
    "    write.table(model3_a1, '${_output[0]}.African.model3.af1.group.file', col.names = F, row.names = F, quote = F, sep = '\\t')\n",
    "    write.table(model3_a5, '${_output[0]}.African.model3.af5.group.file', col.names = F, row.names = F, quote = F, sep = '\\t')\n",
    "    write.table(model4_a1, '${_output[0]}.African.model4.af1.group.file', col.names = F, row.names = F, quote = F, sep = '\\t')\n",
    "    write.table(model4_a5, '${_output[0]}.African.model4.af5.group.file', col.names = F, row.names = F, quote = F, sep = '\\t')\n",
    "    #European\n",
    "    model1_e1=model1[which((model1$AF_afr<=0.01&model1$AF_nfe.1<=0.01)|is.na(model1$AF_nfe)),c(1, 2, 3, 4, 5, 15)]\n",
    "    model1_e5=model1[which((model1$AF_nfe<=0.05&model1$AF_nfe.1<=0.05)|is.na(model1$AF_nfe)),c(1, 2, 3, 4, 5, 15)]\n",
    "    model2_e1=model2[which((model2$AF_nfe<=0.01&model2$AF_nfe.1<=0.01)|is.na(model2$AF_nfe)),c(1, 2, 3, 4, 5, 15)]\n",
    "    model2_e5=model2[which((model2$AF_nfe<=0.05&model2$AF_nfe.1<=0.05)|is.na(model2$AF_nfe)),c(1, 2, 3, 4, 5, 15)]\n",
    "    model3_e1=model3[which((model3$AF_nfe<=0.01&model3$AF_nfe.1<=0.01)|is.na(model3$AF_nfe)),c(1, 2, 3, 4, 5, 15)]\n",
    "    model3_e5=model3[which((model3$AF_nfe<=0.05&model3$AF_nfe.1<=0.05)|is.na(model3$AF_nfe)),c(1, 2, 3, 4, 5, 15)]\n",
    "    model4_e1=model4[which((model4$AF_nfe<=0.01&model4$AF_nfe.1<=0.01)|is.na(model4$AF_nfe)),c(1, 2, 3, 4, 5, 15)]\n",
    "    model4_e5=model4[which((model4$AF_nfe<=0.05&model4$AF_nfe.1<=0.05)|is.na(model4$AF_nfe)),c(1, 2, 3, 4, 5, 15)]\n",
    "    write.table(model1_e1, '${_output[0]}.European.model1.af1.group.file', col.names = F, row.names = F, quote = F, sep = '\\t')\n",
    "    write.table(model1_e5, '${_output[0]}.European.model1.af5.group.file', col.names = F, row.names = F, quote = F, sep = '\\t')\n",
    "    write.table(model2_e1, '${_output[0]}.European.model2.af1.group.file', col.names = F, row.names = F, quote = F, sep = '\\t')\n",
    "    write.table(model2_e5, '${_output[0]}.European.model2.af5.group.file', col.names = F, row.names = F, quote = F, sep = '\\t')\n",
    "    write.table(model3_e1, '${_output[0]}.European.model3.af1.group.file', col.names = F, row.names = F, quote = F, sep = '\\t')\n",
    "    write.table(model3_e5, '${_output[0]}.European.model3.af5.group.file', col.names = F, row.names = F, quote = F, sep = '\\t')\n",
    "    write.table(model4_e1, '${_output[0]}.European.model4.af1.group.file', col.names = F, row.names = F, quote = F, sep = '\\t')\n",
    "    write.table(model4_e5, '${_output[0]}.European.model4.af5.group.file', col.names = F, row.names = F, quote = F, sep = '\\t')\n",
    "    #Hispanic\n",
    "    model1_h1=model1%>%filter((AF_afr<=0.01&AF_afr.1<=0.01)|is.na(AF_afr))%>%filter((AF_afr<=0.01&AF_afr.1<=0.01)|is.na(AF_afr))%>%filter((AF_amr<=0.01&AF_amr.1<=0.01)|is.na(AF_amr))%>%select(c(1,2, 3, 4, 5, 15))\n",
    "    model1_h5=model1%>%filter((AF_afr<=0.05&AF_afr.1<=0.05)|is.na(AF_afr))%>%filter((AF_afr<=0.05&AF_afr.1<=0.05)|is.na(AF_afr))%>%filter((AF_amr<=0.05&AF_amr.1<=0.05)|is.na(AF_amr))%>%select(c(1,2, 3, 4, 5, 15))\n",
    "    model2_h1=model2%>%filter((AF_afr<=0.01&AF_afr.1<=0.01)|is.na(AF_afr))%>%filter((AF_afr<=0.01&AF_afr.1<=0.01)|is.na(AF_afr))%>%filter((AF_amr<=0.01&AF_amr.1<=0.01)|is.na(AF_amr))%>%select(c(1,2, 3, 4, 5, 15))\n",
    "    model2_h5=model2%>%filter((AF_afr<=0.05&AF_afr.1<=0.05)|is.na(AF_afr))%>%filter((AF_afr<=0.05&AF_afr.1<=0.05)|is.na(AF_afr))%>%filter((AF_amr<=0.05&AF_amr.1<=0.05)|is.na(AF_amr))%>%select(c(1,2, 3, 4, 5, 15))\n",
    "    model3_h1=model3%>%filter((AF_afr<=0.01&AF_afr.1<=0.01)|is.na(AF_afr))%>%filter((AF_afr<=0.01&AF_afr.1<=0.01)|is.na(AF_afr))%>%filter((AF_amr<=0.01&AF_amr.1<=0.01)|is.na(AF_amr))%>%select(c(1,2, 3, 4, 5, 15))\n",
    "    model3_h5=model3%>%filter((AF_afr<=0.05&AF_afr.1<=0.05)|is.na(AF_afr))%>%filter((AF_afr<=0.05&AF_afr.1<=0.05)|is.na(AF_afr))%>%filter((AF_amr<=0.05&AF_amr.1<=0.05)|is.na(AF_amr))%>%select(c(1,2, 3, 4, 5, 15))\n",
    "    model4_h1=model4%>%filter((AF_afr<=0.01&AF_afr.1<=0.01)|is.na(AF_afr))%>%filter((AF_afr<=0.01&AF_afr.1<=0.01)|is.na(AF_afr))%>%filter((AF_amr<=0.01&AF_amr.1<=0.01)|is.na(AF_amr))%>%select(c(1,2, 3, 4, 5, 15))\n",
    "    model4_h5=model4%>%filter((AF_afr<=0.05&AF_afr.1<=0.05)|is.na(AF_afr))%>%filter((AF_afr<=0.05&AF_afr.1<=0.05)|is.na(AF_afr))%>%filter((AF_amr<=0.05&AF_amr.1<=0.05)|is.na(AF_amr))%>%select(c(1,2, 3, 4, 5, 15))\n",
    "    write.table(model1_h1, '${_output[0]}.Hispanic.model1.af1.group.file', col.names = F, row.names = F, quote = F, sep = '\\t')\n",
    "    write.table(model1_h5, '${_output[0]}.Hispanic.model1.af5.group.file', col.names = F, row.names = F, quote = F, sep = '\\t')\n",
    "    write.table(model2_h1, '${_output[0]}.Hispanic.model2.af1.group.file', col.names = F, row.names = F, quote = F, sep = '\\t')\n",
    "    write.table(model2_h5, '${_output[0]}.Hispanic.model2.af5.group.file', col.names = F, row.names = F, quote = F, sep = '\\t')\n",
    "    write.table(model3_h1, '${_output[0]}.Hispanic.model3.af1.group.file', col.names = F, row.names = F, quote = F, sep = '\\t')\n",
    "    write.table(model3_h5, '${_output[0]}.Hispanic.model3.af5.group.file', col.names = F, row.names = F, quote = F, sep = '\\t')\n",
    "    write.table(model4_h1, '${_output[0]}.Hispanic.model4.af1.group.file', col.names = F, row.names = F, quote = F, sep = '\\t')\n",
    "    write.table(model4_h5, '${_output[0]}.Hispanic.model4.af5.group.file', col.names = F, row.names = F, quote = F, sep = '\\t')"
   ]
  },
  {
   "cell_type": "markdown",
   "id": "d9afe9bb-2f39-4542-b444-307a99b9e116",
   "metadata": {
    "kernel": "Bash"
   },
   "source": [
    "## Generate QCed geno data"
   ]
  },
  {
   "cell_type": "code",
   "execution_count": null,
   "id": "d4df701e-5fb7-4b6b-9184-18577760d9a3",
   "metadata": {
    "kernel": "Bash"
   },
   "outputs": [],
   "source": [
    "# split the geno file per pop and qc\n",
    "ml PLINK/2.0\n",
    "for i in African European Hispanic; do   \n",
    " plink --bfile /mnt/mfs/statgen/alzheimers-family/normalized_bed/normalized_merged_autosome --geno 0.1 --hwe 5e-08  --keep /mnt/mfs/statgen/alzheimers-family/pheno/pheno_updated_20221121/$i.id --maf 0.00000000000000000000000000000000000001 --make-bed --memory 14400.0 --mind 0.1 --out /mnt/mfs/statgen/alzheimers-family/AD_rare_variants/geno/$i --threads 20\n",
    "done\n"
   ]
  },
  {
   "cell_type": "code",
   "execution_count": null,
   "id": "f83d128e-e43b-4dc3-998a-325020985be9",
   "metadata": {
    "kernel": "Bash"
   },
   "outputs": [],
   "source": [
    "# generate chromosome specific genoFile for each ancestry\n",
    "for chr in {1..22}; do\n",
    "    plink --bfile /mnt/mfs/statgen/alzheimers-family/AD_rare_variants/geno/African \\\n",
    "          --chr $chr --make-bed \\\n",
    "          --out /mnt/mfs/statgen/alzheimers-family/AD_rare_variants/geno/African_$chr\n",
    "done"
   ]
  },
  {
   "cell_type": "markdown",
   "id": "2e29c3a0-8192-4daa-a82b-e386c87e73e7",
   "metadata": {
    "kernel": "Bash"
   },
   "source": [
    "## Population specific analyses"
   ]
  },
  {
   "cell_type": "markdown",
   "id": "405fa919-84ed-42db-a4a0-9ad3881a0446",
   "metadata": {
    "kernel": "Bash"
   },
   "source": [
    "The analyses were based \n",
    "* Model 1: gnomAD AF <= 0.01 and pLOF (start gain, stop gain, splicing) variants\n",
    "* Model 2: pLOF + missense\n",
    "\n",
    "Note: in the script model 2 is specified as model 3 (which is excatly the same)"
   ]
  },
  {
   "cell_type": "markdown",
   "id": "875748e5-f709-42fd-911f-7d88a45d1197",
   "metadata": {
    "kernel": "Bash"
   },
   "source": [
    "* column names BPVALUE is p value from burden test P is p value from SKAT-O test. FREQ is the mean of the MAF for each variants per gene\n",
    "\n",
    "CHR: Chr POS: Start position SNP: group or gene N: samplesize  P: O.pval (p value from SKAT-O test) BPVALUE: B.pval (p value from burden test)\n",
    "\n",
    "SCORE: B.score  VAR: B.var  NV: n.variants  FREQ: freq.mean (mean MAF for the variants included in the agregate test)"
   ]
  },
  {
   "cell_type": "markdown",
   "id": "282b01e0-e9fe-43f4-a5a9-c0f19327b44e",
   "metadata": {
    "kernel": "SoS"
   },
   "source": [
    "## Non-Hispanic whites"
   ]
  },
  {
   "cell_type": "markdown",
   "id": "00b83c9c-fb71-48f6-98d6-151967ab27e6",
   "metadata": {
    "kernel": "SoS"
   },
   "source": [
    "### Model 1 "
   ]
  },
  {
   "cell_type": "code",
   "execution_count": null,
   "id": "30be7393-fe62-43ca-9f6b-6a3f31dc4ae6",
   "metadata": {
    "kernel": "Bash"
   },
   "outputs": [],
   "source": [
    "#!/bin/sh\n",
    "#$ -l h_rt=23:00:00\n",
    "#$ -l h_vmem=200G\n",
    "#$ -N smmat_AD_European\n",
    "#$ -o /mnt/mfs/statgen/alzheimers-family/AD_rare_variants/SMMAT/noapoe/af0.01/model1_skatO/European-$JOB_ID.out\n",
    "#$ -e /mnt/mfs/statgen/alzheimers-family/AD_rare_variants/SMMAT/noapoe/af0.01/model1_skatO/European-$JOB_ID.err  \n",
    "#$ -j y\n",
    "#$ -S /bin/bash\n",
    "\n",
    "export PATH=$HOME/miniconda3/bin:$PATH\n",
    "\n",
    "module load Singularity/3.5.3\n",
    "\n",
    "# with no APOE4 adjustment\n",
    "\n",
    "sos run ~/project2022/bioworkflows/GWAS/LMM2.ipynb SMMAT \\\n",
    "--cwd  /mnt/mfs/statgen/alzheimers-family/AD_rare_variants/SMMAT/noapoe/af0.01/model1_skatO \\\n",
    "--groupFile /mnt/mfs/statgen/alzheimers-family/SMMAT/20210802/annotation/EFIGA_NIALOAD_chr{1..22}.European.model1.af1.group.file \\\n",
    "--posFile /mnt/mfs/statgen/alzheimers-family/SMMAT/20210802/annotation/EFIGA_NIALOAD_chr{1..22}.hg38.hg38_multianno.csv \\\n",
    "--bfile /mnt/mfs/statgen/alzheimers-family/AD_rare_variants/geno/European_{1..22}.bed \\\n",
    "--null_model /mnt/mfs/statgen/alzheimers-family/AD_common_variants/gmmat/null2/geno_qced.European.European.pca.projected.noAPOE.rds \\\n",
    "--grmFile /mnt/mfs/statgen/alzheimers-family/AD_common_variants/gmmat/kinship/geno_pruned_European.sXX.txt \\\n",
    "--phenoFile /mnt/mfs/statgen/alzheimers-family/AD_common_variants/PCA/plots/European.pca.projected.txt \\\n",
    "--formatFile   ~/project2022/bioworkflows/GWAS/data/smmat_template_2.yml \\\n",
    "--phenoCol AD \\\n",
    "--label_annotate SNP \\\n",
    "--maf_max_filter 1 \\\n",
    "--covarMaxLevels 10 \\\n",
    "--numThreads 1 \\\n",
    "--bgenMinMAF 0.0 \\\n",
    "--container_lmm /mnt/vast/hpc/csg/containers/lmm.sif \\\n",
    "--container_marp /mnt/vast/hpc/csg/containers/marp.sif \\\n",
    "--geno_filter 0.01 \\\n",
    "--nperbatch 100 \\\n",
    "-c ~/project2022/bioworkflows/admin/csg.yml -s force &> /mnt/mfs/statgen/alzheimers-family/AD_rare_variants/SMMAT/noapoe/af0.01/model1_skatO/EUR_noapoe_model1.log\n",
    "\n",
    "# with APOE4 adjustment\n",
    "\n",
    "module load Singularity/3.5.3\n",
    "\n",
    "sos run ~/project2022/bioworkflows/GWAS/LMM2.ipynb SMMAT \\\n",
    "--cwd  /mnt/mfs/statgen/alzheimers-family/AD_rare_variants/SMMAT/apoe/af0.01/model1_skatO \\\n",
    "--groupFile /mnt/mfs/statgen/alzheimers-family/SMMAT/20210802/annotation/EFIGA_NIALOAD_chr{1..22}.European.model1.af1.group.file \\\n",
    "--posFile /mnt/mfs/statgen/alzheimers-family/SMMAT/20210802/annotation/EFIGA_NIALOAD_chr{1..22}.hg38.hg38_multianno.csv \\\n",
    "--bfile /mnt/mfs/statgen/alzheimers-family/AD_rare_variants/geno/European_{1..22}.bed \\\n",
    "--null_model /mnt/mfs/statgen/alzheimers-family/AD_common_variants/gmmat/null2/geno_qced.European.European.pca.projected.APOE.rds \\\n",
    "--grmFile /mnt/mfs/statgen/alzheimers-family/AD_common_variants/gmmat/kinship/geno_pruned_European.sXX.txt \\\n",
    "--phenoFile /mnt/mfs/statgen/alzheimers-family/AD_common_variants/PCA/plots/European.pca.projected.txt \\\n",
    "--formatFile   ~/project2022/bioworkflows/GWAS/data/smmat_template_2.yml \\\n",
    "--phenoCol AD \\\n",
    "--label_annotate SNP \\\n",
    "--maf_max_filter 1 \\\n",
    "--covarMaxLevels 10 \\\n",
    "--numThreads 1 \\\n",
    "--bgenMinMAF 0.0 \\\n",
    "--container_lmm /mnt/vast/hpc/csg/containers/lmm.sif \\\n",
    "--container_marp /mnt/vast/hpc/csg/containers/marp.sif \\\n",
    "--geno_filter 0.01 \\\n",
    "--nperbatch 100 \\\n",
    "-c ~/project2022/bioworkflows/admin/csg.yml -s force &> /mnt/mfs/statgen/alzheimers-family/AD_rare_variants/SMMAT/apoe/af0.01/model1_skatO/EUR_apoe_model1.log"
   ]
  },
  {
   "cell_type": "markdown",
   "id": "869384e2-261b-4a71-866e-98d42d3b2ca9",
   "metadata": {
    "kernel": "Bash"
   },
   "source": [
    "### Model 2 "
   ]
  },
  {
   "cell_type": "code",
   "execution_count": null,
   "id": "8bc6956d-642c-47e2-b9d6-8ca19159d64d",
   "metadata": {
    "kernel": "Bash"
   },
   "outputs": [],
   "source": [
    "#!/bin/sh\n",
    "#$ -l h_rt=23:00:00\n",
    "#$ -l h_vmem=200G\n",
    "#$ -N smmat_AD_European\n",
    "#$ -o /mnt/mfs/statgen/alzheimers-family/AD_rare_variants/SMMAT/noapoe/af0.01/model3_skatO/European-$JOB_ID.out\n",
    "#$ -e /mnt/mfs/statgen/alzheimers-family/AD_rare_variants/SMMAT/noapoe/af0.01/model3_skatO/European-$JOB_ID.err  \n",
    "#$ -j y\n",
    "#$ -S /bin/bash\n",
    "\n",
    "export PATH=$HOME/miniconda3/bin:$PATH\n",
    "\n",
    "module load Singularity/3.5.3\n",
    "\n",
    "# with no APOE4 adjustment\n",
    "\n",
    "sos run ~/project2022/bioworkflows/GWAS/LMM2.ipynb SMMAT \\\n",
    "--cwd  /mnt/mfs/statgen/alzheimers-family/AD_rare_variants/SMMAT/noapoe/af0.01/model3_skatO \\\n",
    "--groupFile /mnt/mfs/statgen/alzheimers-family/SMMAT/20210802/annotation/EFIGA_NIALOAD_chr{1..22}.European.model3.af1.group.file \\\n",
    "--posFile /mnt/mfs/statgen/alzheimers-family/SMMAT/20210802/annotation/EFIGA_NIALOAD_chr{1..22}.hg38.hg38_multianno.csv \\\n",
    "--bfile /mnt/mfs/statgen/alzheimers-family/AD_rare_variants/geno/European_{1..22}.bed \\\n",
    "--null_model /mnt/mfs/statgen/alzheimers-family/AD_common_variants/gmmat/null2/geno_qced.European.European.pca.projected.noAPOE.rds \\\n",
    "--grmFile /mnt/mfs/statgen/alzheimers-family/AD_common_variants/gmmat/kinship/geno_pruned_European.sXX.txt \\\n",
    "--phenoFile /mnt/mfs/statgen/alzheimers-family/AD_common_variants/PCA/plots/European.pca.projected.txt \\\n",
    "--formatFile   ~/project2022/bioworkflows/GWAS/data/smmat_template_2.yml \\\n",
    "--phenoCol AD \\\n",
    "--label_annotate SNP \\\n",
    "--maf_max_filter 1 \\\n",
    "--covarMaxLevels 10 \\\n",
    "--numThreads 1 \\\n",
    "--bgenMinMAF 0.0 \\\n",
    "--container_lmm /mnt/vast/hpc/csg/containers/lmm.sif \\\n",
    "--container_marp /mnt/vast/hpc/csg/containers/marp.sif \\\n",
    "--geno_filter 0.01 \\\n",
    "--nperbatch 100 \\\n",
    "-c ~/project2022/bioworkflows/admin/csg.yml -s force &> /mnt/mfs/statgen/alzheimers-family/AD_rare_variants/SMMAT/noapoe/af0.01/model3_skatO/EUR_noapoe_model3.log\n",
    "\n",
    "# with APOE4 adjustment\n",
    "\n",
    "module load Singularity/3.5.3\n",
    "\n",
    "sos run ~/project2022/bioworkflows/GWAS/LMM2.ipynb SMMAT \\\n",
    "--cwd  /mnt/mfs/statgen/alzheimers-family/AD_rare_variants/SMMAT/apoe/af0.01/model3_skatO \\\n",
    "--groupFile /mnt/mfs/statgen/alzheimers-family/SMMAT/20210802/annotation/EFIGA_NIALOAD_chr{1..22}.European.model3.af1.group.file \\\n",
    "--posFile /mnt/mfs/statgen/alzheimers-family/SMMAT/20210802/annotation/EFIGA_NIALOAD_chr{1..22}.hg38.hg38_multianno.csv \\\n",
    "--bfile /mnt/mfs/statgen/alzheimers-family/AD_rare_variants/geno/European_{1..22}.bed \\\n",
    "--null_model /mnt/mfs/statgen/alzheimers-family/AD_common_variants/gmmat/null2/geno_qced.European.European.pca.projected.APOE.rds \\\n",
    "--grmFile /mnt/mfs/statgen/alzheimers-family/AD_common_variants/gmmat/kinship/geno_pruned_European.sXX.txt \\\n",
    "--phenoFile /mnt/mfs/statgen/alzheimers-family/AD_common_variants/PCA/plots/European.pca.projected.txt \\\n",
    "--formatFile   ~/project2022/bioworkflows/GWAS/data/smmat_template_2.yml \\\n",
    "--phenoCol AD \\\n",
    "--label_annotate SNP \\\n",
    "--maf_max_filter 1 \\\n",
    "--covarMaxLevels 10 \\\n",
    "--numThreads 1 \\\n",
    "--bgenMinMAF 0.0 \\\n",
    "--container_lmm /mnt/vast/hpc/csg/containers/lmm.sif \\\n",
    "--container_marp /mnt/vast/hpc/csg/containers/marp.sif \\\n",
    "--geno_filter 0.01 \\\n",
    "--nperbatch 100 \\\n",
    "-c ~/project2022/bioworkflows/admin/csg.yml -s force &> /mnt/mfs/statgen/alzheimers-family/AD_rare_variants/SMMAT/apoe/af0.01/model3_skatO/EUR_apoe_model3.log"
   ]
  },
  {
   "cell_type": "markdown",
   "id": "0d1466ff-aef5-465a-b397-bd70a8003f77",
   "metadata": {
    "kernel": "Bash"
   },
   "source": [
    "## Carribean Hispanics"
   ]
  },
  {
   "cell_type": "markdown",
   "id": "c0d25b5d-4785-4170-9add-9bfb2320959c",
   "metadata": {
    "kernel": "Bash"
   },
   "source": [
    "### Model 1"
   ]
  },
  {
   "cell_type": "code",
   "execution_count": null,
   "id": "8f023bc1-201e-46b4-b00f-8c386cee0456",
   "metadata": {
    "kernel": "Bash"
   },
   "outputs": [],
   "source": [
    "#!/bin/sh\n",
    "#$ -l h_rt=23:00:00\n",
    "#$ -l h_vmem=200G\n",
    "#$ -N smmat_AD_HIS\n",
    "#$ -o /mnt/mfs/statgen/alzheimers-family/AD_rare_variants/SMMAT/noapoe/af0.01/model1_skatO/Hispanic-$JOB_ID.out\n",
    "#$ -e /mnt/mfs/statgen/alzheimers-family/AD_rare_variants/SMMAT/noapoe/af0.01/model1_skatO/Hispanic-$JOB_ID.err  \n",
    "#$ -j y\n",
    "#$ -S /bin/bash\n",
    "\n",
    "export PATH=$HOME/miniconda3/bin:$PATH\n",
    "\n",
    "module load Singularity/3.5.3\n",
    "\n",
    "\n",
    "\n",
    "#with no APOE4 adjustment\n",
    "\n",
    "sos run ~/project2022/bioworkflows/GWAS/LMM2.ipynb SMMAT \\\n",
    "--cwd  /mnt/mfs/statgen/alzheimers-family/AD_rare_variants/SMMAT/noapoe/af0.01/model1_skatO \\\n",
    "--groupFile /mnt/mfs/statgen/alzheimers-family/SMMAT/20210802/annotation/EFIGA_NIALOAD_chr{1..22}.Hispanic.model1.af1.group.file \\\n",
    "--posFile /mnt/mfs/statgen/alzheimers-family/SMMAT/20210802/annotation/EFIGA_NIALOAD_chr{1..22}.hg38.hg38_multianno.csv \\\n",
    "--bfile /mnt/mfs/statgen/alzheimers-family/AD_rare_variants/geno/Hispanic_{1..22}.bed \\\n",
    "--null_model /mnt/mfs/statgen/alzheimers-family/AD_common_variants/gmmat/null2/geno_qced.Hispanic.Hispanic.pca.projected.noAPOE.rds \\\n",
    "--grmFile /mnt/mfs/statgen/alzheimers-family/AD_common_variants/gmmat/kinship/geno_pruned_Hispanic.sXX.txt \\\n",
    "--phenoFile /mnt/mfs/statgen/alzheimers-family/AD_common_variants/PCA/plots/Hispanic.pca.projected.txt \\\n",
    "--formatFile   ~/project2022/bioworkflows/GWAS/data/smmat_template_2.yml \\\n",
    "--phenoCol AD \\\n",
    "--label_annotate SNP \\\n",
    "--maf_max_filter 1 \\\n",
    "--covarMaxLevels 10 \\\n",
    "--numThreads 1 \\\n",
    "--bgenMinMAF 0.0 \\\n",
    "--container_lmm /mnt/vast/hpc/csg/containers/lmm.sif \\\n",
    "--container_marp /mnt/vast/hpc/csg/containers/marp.sif \\\n",
    "--geno_filter 0.01 \\\n",
    "--nperbatch 100 \\\n",
    "-c ~/project2022/bioworkflows/admin/csg.yml -s force &> /mnt/mfs/statgen/alzheimers-family/AD_rare_variants/SMMAT/noapoe/af0.01/model1_skatO/HIS_noapoe_model1.log\n",
    "\n",
    "\n",
    "# with APOE4 adjustment\n",
    "\n",
    "module load Singularity/3.5.3\n",
    "\n",
    "sos run ~/project2022/bioworkflows/GWAS/LMM2.ipynb SMMAT \\\n",
    "--cwd  /mnt/mfs/statgen/alzheimers-family/AD_rare_variants/SMMAT/apoe/af0.01/model1_skatO \\\n",
    "--groupFile /mnt/mfs/statgen/alzheimers-family/SMMAT/20210802/annotation/EFIGA_NIALOAD_chr{1..22}.Hispanic.model1.af1.group.file \\\n",
    "--posFile /mnt/mfs/statgen/alzheimers-family/SMMAT/20210802/annotation/EFIGA_NIALOAD_chr{1..22}.hg38.hg38_multianno.csv \\\n",
    "--bfile /mnt/mfs/statgen/alzheimers-family/AD_rare_variants/geno/Hispanic_{1..22}.bed \\\n",
    "--null_model /mnt/mfs/statgen/alzheimers-family/AD_common_variants/gmmat/null2/geno_qced.Hispanic.Hispanic.pca.projected.APOE.rds \\\n",
    "--grmFile /mnt/mfs/statgen/alzheimers-family/AD_common_variants/gmmat/kinship/geno_pruned_Hispanic.sXX.txt \\\n",
    "--phenoFile /mnt/mfs/statgen/alzheimers-family/AD_common_variants/PCA/plots/Hispanic.pca.projected.txt \\\n",
    "--formatFile   ~/project2022/bioworkflows/GWAS/data/smmat_template_2.yml \\\n",
    "--phenoCol AD \\\n",
    "--label_annotate SNP \\\n",
    "--maf_max_filter 1 \\\n",
    "--covarMaxLevels 10 \\\n",
    "--numThreads 1 \\\n",
    "--bgenMinMAF 0.0 \\\n",
    "--container_lmm /mnt/vast/hpc/csg/containers/lmm.sif \\\n",
    "--container_marp /mnt/vast/hpc/csg/containers/marp.sif \\\n",
    "--geno_filter 0.01 \\\n",
    "--nperbatch 100 \\\n",
    "-c ~/project2022/bioworkflows/admin/csg.yml -s force &> /mnt/mfs/statgen/alzheimers-family/AD_rare_variants/SMMAT/apoe/af0.01/model1_skatO/HIS_apoe_model1.log"
   ]
  },
  {
   "cell_type": "markdown",
   "id": "b663c9ab-aac8-4447-b7fa-e7bfe02eeca5",
   "metadata": {
    "kernel": "Bash"
   },
   "source": [
    "### Model 2"
   ]
  },
  {
   "cell_type": "code",
   "execution_count": null,
   "id": "c0d23b8b-805d-4f3a-ba64-7f9c322f4ad4",
   "metadata": {
    "kernel": "Bash"
   },
   "outputs": [],
   "source": [
    "#!/bin/sh\n",
    "#$ -l h_rt=23:00:00\n",
    "#$ -l h_vmem=200G\n",
    "#$ -N smmat_AD_HIS\n",
    "#$ -o /mnt/mfs/statgen/alzheimers-family/AD_rare_variants/SMMAT/noapoe/af0.01/model3_skatO/Hispanic-$JOB_ID.out\n",
    "#$ -e /mnt/mfs/statgen/alzheimers-family/AD_rare_variants/SMMAT/noapoe/af0.01/model3_skatO/Hispanic-$JOB_ID.err  \n",
    "#$ -j y\n",
    "#$ -S /bin/bash\n",
    "\n",
    "export PATH=$HOME/miniconda3/bin:$PATH\n",
    "\n",
    "module load Singularity/3.5.3\n",
    "\n",
    "\n",
    "\n",
    "#with no APOE4 adjustment\n",
    "\n",
    "sos run ~/project2022/bioworkflows/GWAS/LMM2.ipynb SMMAT \\\n",
    "--cwd  /mnt/mfs/statgen/alzheimers-family/AD_rare_variants/SMMAT/noapoe/af0.01/model3_skatO \\\n",
    "--groupFile /mnt/mfs/statgen/alzheimers-family/SMMAT/20210802/annotation/EFIGA_NIALOAD_chr{1..22}.Hispanic.model3.af1.group.file \\\n",
    "--posFile /mnt/mfs/statgen/alzheimers-family/SMMAT/20210802/annotation/EFIGA_NIALOAD_chr{1..22}.hg38.hg38_multianno.csv \\\n",
    "--bfile /mnt/mfs/statgen/alzheimers-family/AD_rare_variants/geno/Hispanic_{1..22}.bed \\\n",
    "--null_model /mnt/mfs/statgen/alzheimers-family/AD_common_variants/gmmat/null2/geno_qced.Hispanic.Hispanic.pca.projected.noAPOE.rds \\\n",
    "--grmFile /mnt/mfs/statgen/alzheimers-family/AD_common_variants/gmmat/kinship/geno_pruned_Hispanic.sXX.txt \\\n",
    "--phenoFile /mnt/mfs/statgen/alzheimers-family/AD_common_variants/PCA/plots/Hispanic.pca.projected.txt \\\n",
    "--formatFile   ~/project2022/bioworkflows/GWAS/data/smmat_template_2.yml \\\n",
    "--phenoCol AD \\\n",
    "--label_annotate SNP \\\n",
    "--maf_max_filter 1 \\\n",
    "--covarMaxLevels 10 \\\n",
    "--numThreads 1 \\\n",
    "--bgenMinMAF 0.0 \\\n",
    "--container_lmm /mnt/vast/hpc/csg/containers/lmm.sif \\\n",
    "--container_marp /mnt/vast/hpc/csg/containers/marp.sif \\\n",
    "--geno_filter 0.01 \\\n",
    "--nperbatch 100 \\\n",
    "-c ~/project2022/bioworkflows/admin/csg.yml -s force &> /mnt/mfs/statgen/alzheimers-family/AD_rare_variants/SMMAT/noapoe/af0.01/model3_skatO/HIS_noapoe_model3.log\n",
    "\n",
    "\n",
    "# with APOE4 adjustment\n",
    "\n",
    "module load Singularity/3.5.3\n",
    "\n",
    "sos run ~/project2022/bioworkflows/GWAS/LMM2.ipynb SMMAT \\\n",
    "--cwd  /mnt/mfs/statgen/alzheimers-family/AD_rare_variants/SMMAT/apoe/af0.01/model3_skatO \\\n",
    "--groupFile /mnt/mfs/statgen/alzheimers-family/SMMAT/20210802/annotation/EFIGA_NIALOAD_chr{1..22}.Hispanic.model3.af1.group.file \\\n",
    "--posFile /mnt/mfs/statgen/alzheimers-family/SMMAT/20210802/annotation/EFIGA_NIALOAD_chr{1..22}.hg38.hg38_multianno.csv \\\n",
    "--bfile /mnt/mfs/statgen/alzheimers-family/AD_rare_variants/geno/Hispanic_{1..22}.bed \\\n",
    "--null_model /mnt/mfs/statgen/alzheimers-family/AD_common_variants/gmmat/null2/geno_qced.Hispanic.Hispanic.pca.projected.APOE.rds \\\n",
    "--grmFile /mnt/mfs/statgen/alzheimers-family/AD_common_variants/gmmat/kinship/geno_pruned_Hispanic.sXX.txt \\\n",
    "--phenoFile /mnt/mfs/statgen/alzheimers-family/AD_common_variants/PCA/plots/Hispanic.pca.projected.txt \\\n",
    "--formatFile   ~/project2022/bioworkflows/GWAS/data/smmat_template_2.yml \\\n",
    "--phenoCol AD \\\n",
    "--label_annotate SNP \\\n",
    "--maf_max_filter 1 \\\n",
    "--covarMaxLevels 10 \\\n",
    "--numThreads 1 \\\n",
    "--bgenMinMAF 0.0 \\\n",
    "--container_lmm /mnt/vast/hpc/csg/containers/lmm.sif \\\n",
    "--container_marp /mnt/vast/hpc/csg/containers/marp.sif \\\n",
    "--geno_filter 0.01 \\\n",
    "--nperbatch 100 \\\n",
    "-c ~/project2022/bioworkflows/admin/csg.yml -s force &> /mnt/mfs/statgen/alzheimers-family/AD_rare_variants/SMMAT/apoe/af0.01/model3_skatO/HIS_apoe_model3.log"
   ]
  },
  {
   "cell_type": "markdown",
   "id": "b010037f-e1bf-47a4-84cb-d22b1c56540e",
   "metadata": {
    "kernel": "SoS"
   },
   "source": [
    "## African Americans"
   ]
  },
  {
   "cell_type": "markdown",
   "id": "f0d7fcfe-aa40-433d-907b-84369bd0f165",
   "metadata": {
    "kernel": "Bash"
   },
   "source": [
    "### Model 1"
   ]
  },
  {
   "cell_type": "code",
   "execution_count": null,
   "id": "1f38f3e9-100a-435c-ba0f-a928d7bdb5cb",
   "metadata": {
    "kernel": "Bash"
   },
   "outputs": [],
   "source": [
    "#!/bin/sh\n",
    "#$ -l h_rt=23:00:00\n",
    "#$ -l h_vmem=120G\n",
    "#$ -N smmat_AD_AA\n",
    "#$ -o /mnt/mfs/statgen/alzheimers-family/AD_rare_variants/SMMAT/noapoe/af0.01/model1_skatO/African-$JOB_ID.out\n",
    "#$ -e /mnt/mfs/statgen/alzheimers-family/AD_rare_variants/SMMAT/noapoe/af0.01/model1_skatO/African-$JOB_ID.err  \n",
    "#$ -j y\n",
    "#$ -S /bin/bash\n",
    "\n",
    "export PATH=$HOME/miniconda3/bin:$PATH\n",
    "\n",
    "module load Singularity/3.5.3\n",
    "\n",
    "# with no APOE4 adjustment\n",
    "\n",
    "sos run ~/project2022/bioworkflows/GWAS/LMM2.ipynb SMMAT \\\n",
    "--cwd  /mnt/mfs/statgen/alzheimers-family/AD_rare_variants/SMMAT/noapoe/af0.01/model1_skatO \\\n",
    "--groupFile /mnt/mfs/statgen/alzheimers-family/SMMAT/20210802/annotation/EFIGA_NIALOAD_chr{1..22}.African.model1.af1.group.file \\\n",
    "--posFile /mnt/mfs/statgen/alzheimers-family/SMMAT/20210802/annotation/EFIGA_NIALOAD_chr{1..22}.hg38.hg38_multianno.csv \\\n",
    "--bfile /mnt/mfs/statgen/alzheimers-family/AD_rare_variants/geno/African_{1..22}.bed \\\n",
    "--null_model /mnt/mfs/statgen/alzheimers-family/AD_common_variants/gmmat/null2/geno_qced.African.African.pca.projected.noAPOE.rds \\\n",
    "--grmFile /mnt/mfs/statgen/alzheimers-family/AD_common_variants/gmmat/kinship/geno_pruned_African.sXX.txt \\\n",
    "--phenoFile /mnt/mfs/statgen/alzheimers-family/AD_common_variants/PCA/plots/African.pca.projected.txt \\\n",
    "--formatFile   ~/project2022/bioworkflows/GWAS/data/smmat_template_2.yml \\\n",
    "--phenoCol AD \\\n",
    "--label_annotate SNP \\\n",
    "--maf_max_filter 1 \\\n",
    "--covarMaxLevels 10 \\\n",
    "--numThreads 1 \\\n",
    "--bgenMinMAF 0.0 \\\n",
    "--container_lmm /mnt/vast/hpc/csg/containers/lmm.sif \\\n",
    "--container_marp /mnt/vast/hpc/csg/containers/marp.sif \\\n",
    "--geno_filter 0.01 \\\n",
    "--nperbatch 100 \\\n",
    "-c ~/project2022/bioworkflows/admin/csg.yml -s force &> /mnt/mfs/statgen/alzheimers-family/AD_rare_variants/SMMAT/noapoe/af0.01/model1_skatO/smmat_AA_noapoe_model1.log\n",
    "\n",
    "# with APOE4 adjustment\n",
    "\n",
    "sos run ~/project2022/bioworkflows/GWAS/LMM2.ipynb SMMAT \\\n",
    "--cwd  /mnt/mfs/statgen/alzheimers-family/AD_rare_variants/SMMAT/apoe/af0.01/model1_skatO \\\n",
    "--groupFile /mnt/mfs/statgen/alzheimers-family/SMMAT/20210802/annotation/EFIGA_NIALOAD_chr{1..22}.African.model1.af1.group.file \\\n",
    "--posFile /mnt/mfs/statgen/alzheimers-family/SMMAT/20210802/annotation/EFIGA_NIALOAD_chr{1..22}.hg38.hg38_multianno.csv \\\n",
    "--bfile /mnt/mfs/statgen/alzheimers-family/AD_rare_variants/geno/African_{1..22}.bed \\\n",
    "--null_model /mnt/mfs/statgen/alzheimers-family/AD_common_variants/gmmat/null2/geno_qced.African.African.pca.projected.APOE.rds \\\n",
    "--grmFile /mnt/mfs/statgen/alzheimers-family/AD_common_variants/gmmat/kinship.African.sXX.txt \\\n",
    "--phenoFile /mnt/mfs/statgen/alzheimers-family/AD_common_variants/PCA/plots/African.pca.projected.txt \\\n",
    "--formatFile   ~/project2022/bioworkflows/GWAS/data/smmat_template_2.yml \\\n",
    "--phenoCol AD \\\n",
    "--label_annotate SNP \\\n",
    "--maf_max_filter 1 \\\n",
    "--covarMaxLevels 10 \\\n",
    "--numThreads 1 \\\n",
    "--bgenMinMAF 0.0 \\\n",
    "--container_lmm /mnt/vast/hpc/csg/containers/lmm.sif \\\n",
    "--container_marp /mnt/vast/hpc/csg/containers/marp.sif \\\n",
    "--geno_filter 0.01 \\\n",
    "--nperbatch 100 \\\n",
    "-c ~/project2022/bioworkflows/admin/csg.yml -s force &> /mnt/mfs/statgen/alzheimers-family/AD_rare_variants/SMMAT/apoe/af0.01/model1_skatO/AA_apoe_model1.log"
   ]
  },
  {
   "cell_type": "markdown",
   "id": "ac281c5a-b52d-44af-8241-23dc50d6d43f",
   "metadata": {
    "kernel": "Bash"
   },
   "source": [
    "### Model 2"
   ]
  },
  {
   "cell_type": "code",
   "execution_count": null,
   "id": "b7bca092-deb1-4c9f-b6e6-d2fe8abf868a",
   "metadata": {
    "kernel": "Bash"
   },
   "outputs": [],
   "source": [
    "#!/bin/sh\n",
    "#$ -l h_rt=23:00:00\n",
    "#$ -l h_vmem=200G\n",
    "#$ -N smmat_AD_AA_model3_af1\n",
    "#$ -o /mnt/mfs/statgen/alzheimers-family/AD_rare_variants/SMMAT/noapoe/af0.01/model3_skatO/African_model3_af1-$JOB_ID.out\n",
    "#$ -e /mnt/mfs/statgen/alzheimers-family/AD_rare_variants/SMMAT/noapoe/af0.01/model3_skatO/African_model3_af1-$JOB_ID.err  \n",
    "#$ -j y\n",
    "#$ -S /bin/bash\n",
    "\n",
    "export PATH=$HOME/miniconda3/bin:$PATH\n",
    "\n",
    "module load Singularity/3.5.3\n",
    "\n",
    "\n",
    "# without APOE4 adjustment\n",
    "\n",
    "sos run ~/project2022/bioworkflows/GWAS/LMM2.ipynb SMMAT \\\n",
    "--cwd  /mnt/mfs/statgen/alzheimers-family/AD_rare_variants/SMMAT/noapoe/af0.01/model3_skatO \\\n",
    "--groupFile /mnt/mfs/statgen/alzheimers-family/SMMAT/20210802/annotation/EFIGA_NIALOAD_chr{1..22}.African.model3.af1.group.file \\\n",
    "--posFile /mnt/mfs/statgen/alzheimers-family/SMMAT/20210802/annotation/EFIGA_NIALOAD_chr{1..22}.hg38.hg38_multianno.csv \\\n",
    "--bfile /mnt/mfs/statgen/alzheimers-family/AD_rare_variants/geno/African_{1..22}.bed \\\n",
    "--null_model /mnt/mfs/statgen/alzheimers-family/AD_common_variants/gmmat/null2/geno_qced.African.African.pca.projected.noAPOE.rds \\\n",
    "--grmFile /mnt/mfs/statgen/alzheimers-family/AD_common_variants/gmmat/kinship.African.sXX.txt \\\n",
    "--phenoFile /mnt/mfs/statgen/alzheimers-family/AD_common_variants/PCA/plots/African.pca.projected.txt \\\n",
    "--formatFile   ~/project2022/bioworkflows/GWAS/data/smmat_template_2.yml \\\n",
    "--phenoCol AD \\\n",
    "--label_annotate SNP \\\n",
    "--maf_max_filter 1 \\\n",
    "--covarMaxLevels 10 \\\n",
    "--numThreads 1 \\\n",
    "--bgenMinMAF 0.0 \\\n",
    "--container_lmm /mnt/vast/hpc/csg/containers/lmm.sif \\\n",
    "--container_marp /mnt/vast/hpc/csg/containers/marp.sif \\\n",
    "--geno_filter 0.01 \\\n",
    "--nperbatch 100 \\\n",
    "-c ~/project2022/bioworkflows/admin/csg.yml -s force &> /mnt/mfs/statgen/alzheimers-family/AD_rare_variants/SMMAT/noapoe/af0.01/model3_skatO/AA_noapoe_model3.log\n",
    "\n",
    "# with APOE4 adjustment\n",
    "\n",
    "sos run ~/project2022/bioworkflows/GWAS/LMM2.ipynb SMMAT \\\n",
    "--cwd  /mnt/mfs/statgen/alzheimers-family/AD_rare_variants/SMMAT/apoe/af0.01/model3_skatO \\\n",
    "--groupFile /mnt/mfs/statgen/alzheimers-family/SMMAT/20210802/annotation/EFIGA_NIALOAD_chr{1..22}.African.model3.af1.group.file \\\n",
    "--posFile /mnt/mfs/statgen/alzheimers-family/SMMAT/20210802/annotation/EFIGA_NIALOAD_chr{1..22}.hg38.hg38_multianno.csv \\\n",
    "--bfile /mnt/mfs/statgen/alzheimers-family/AD_rare_variants/geno/African_{1..22}.bed \\\n",
    "--null_model /mnt/mfs/statgen/alzheimers-family/AD_common_variants/gmmat/null2/geno_qced.African.African.pca.projected.APOE.rds \\\n",
    "--grmFile /mnt/mfs/statgen/alzheimers-family/AD_common_variants/gmmat/kinship/geno_pruned_African.sXX.txt \\\n",
    "--phenoFile /mnt/mfs/statgen/alzheimers-family/AD_common_variants/PCA/plots/African.pca.projected.txt \\\n",
    "--formatFile   ~/project2022/bioworkflows/GWAS/data/smmat_template_2.yml \\\n",
    "--phenoCol AD \\\n",
    "--label_annotate SNP \\\n",
    "--maf_max_filter 1 \\\n",
    "--covarMaxLevels 10 \\\n",
    "--numThreads 1 \\\n",
    "--bgenMinMAF 0.0 \\\n",
    "--container_lmm /mnt/vast/hpc/csg/containers/lmm.sif \\\n",
    "--container_marp /mnt/vast/hpc/csg/containers/marp.sif \\\n",
    "--geno_filter 0.01 \\\n",
    "--nperbatch 100 \\\n",
    "-c ~/project2022/bioworkflows/admin/csg.yml -s force &> /mnt/mfs/statgen/alzheimers-family/AD_rare_variants/SMMAT/apoe/af0.01/model3_skatO/AA_apoe_model3.log"
   ]
  },
  {
   "cell_type": "markdown",
   "id": "c6fa9e83-8a67-440f-ac02-9a85b7289eaa",
   "metadata": {
    "kernel": "Bash",
    "tags": []
   },
   "source": [
    "## Meta-analysis"
   ]
  },
  {
   "cell_type": "markdown",
   "id": "0c8fd857-1c47-49b5-96ba-876eaf787146",
   "metadata": {
    "kernel": "Bash"
   },
   "source": [
    "### Model 1 without APOE4 adjustment"
   ]
  },
  {
   "cell_type": "code",
   "execution_count": null,
   "id": "516bbb7a-8c98-4728-bc19-c5dc345478a0",
   "metadata": {
    "kernel": "Bash"
   },
   "outputs": [],
   "source": [
    "SCHEME SAMPLESIZE\n",
    "MARKER   SNP\n",
    "WEIGHT   N\n",
    "EFFECT   BETA\n",
    "PVAL     P\n",
    "\n",
    "\n",
    "PROCESS /mnt/mfs/statgen/alzheimers-family/AD_rare_variants/SMMAT/noapoe/af0.01/model1_skat/African.pca.projected_AD.SMMAT.snp_stats.gz\n",
    "PROCESS /mnt/mfs/statgen/alzheimers-family/AD_rare_variants/SMMAT/noapoe/af0.01/model1_skat/European.pca.projected_AD.SMMAT.snp_stats.gz\n",
    "PROCESS /mnt/mfs/statgen/alzheimers-family/AD_rare_variants/SMMAT/noapoe/af0.01/model1_skat/Hispanic.pca.projected_AD.SMMAT.snp_stats.gz\n",
    "\n",
    "OUTFILE /mnt/mfs/statgen/alzheimers-family/AD_rare_variants/SMMAT/noapoe/af0.01/model1_skat/AD.SMMAT_noAPOE4_META .TXT\n",
    "ANALYZE\n",
    "ANALYZE HETEROGENEITY"
   ]
  },
  {
   "cell_type": "code",
   "execution_count": null,
   "id": "4b150433-99b2-4de4-95e4-47df687265c2",
   "metadata": {
    "kernel": "R",
    "tags": []
   },
   "outputs": [],
   "source": [
    "# Reformat\n",
    "library(stringr) # to replace strings\n",
    "library(tidyr) # to get  separate function separate the marker name\n",
    "library(data.table)\n",
    "library(dplyr)\n",
    "data = read.table('/mnt/mfs/statgen/alzheimers-family/AD_rare_variants/SMMAT/noapoe/af0.01/model1_skat/AD.SMMAT_noAPOE4_META2.TXT', header = T, sep = '\\t')\n",
    "his = read.table('/mnt/mfs/statgen/alzheimers-family/AD_rare_variants/SMMAT/noapoe/af0.01/model1_skat/Hispanic.pca.projected_AD.SMMAT.snp_stats.gz', header = T, sep ='\\t')[, c(1, 2, 3)]\n",
    "eur = read.table('/mnt/mfs/statgen/alzheimers-family/AD_rare_variants/SMMAT/noapoe/af0.01/model1_skat/European.pca.projected_AD.SMMAT.snp_stats.gz', header = T, sep ='\\t')[, c(1, 2, 3)]\n",
    "afr = read.table('/mnt/mfs/statgen/alzheimers-family/AD_rare_variants/SMMAT/noapoe/af0.01/model1_skat/African.pca.projected_AD.SMMAT.snp_stats.gz', header = T, sep ='\\t')[, c(1, 2, 3)]\n",
    "pos = merge(his, eur, by = c('CHR', 'POS', 'SNP'),all = TRUE)\n",
    "POS = merge(pos, afr, by = c('CHR', 'POS', 'SNP'),all = TRUE)\n",
    "data = inner_join(data, POS, by = c('MarkerName'='SNP'))\n",
    "data$POS = as.numeric(data$POS)\n",
    "data$CHR = as.numeric(data$CHR)\n",
    "write.table(data,'/mnt/mfs/statgen/alzheimers-family/AD_rare_variants/SMMAT/noapoe/af0.01/model1_skat/meta.smmat_noAPOE4.txt', sep = '\\t', quote = F, col.names = T, row.names = F)\n",
    "lambda <- median(qchisq(1-data$P.value,1), na.rm=TRUE)/qchisq(0.5,1)\n"
   ]
  },
  {
   "cell_type": "code",
   "execution_count": 1,
   "id": "a28d7dc4-888d-401e-898c-27040c984bc0",
   "metadata": {
    "kernel": "R",
    "tags": []
   },
   "outputs": [
    {
     "name": "stderr",
     "output_type": "stream",
     "text": [
      "\n",
      "Attaching package: ‘dplyr’\n",
      "\n",
      "\n",
      "The following objects are masked from ‘package:data.table’:\n",
      "\n",
      "    between, first, last\n",
      "\n",
      "\n",
      "The following objects are masked from ‘package:stats’:\n",
      "\n",
      "    filter, lag\n",
      "\n",
      "\n",
      "The following objects are masked from ‘package:base’:\n",
      "\n",
      "    intersect, setdiff, setequal, union\n",
      "\n",
      "\n"
     ]
    }
   ],
   "source": [
    "library(stringr) # to replace strings\n",
    "library(tidyr) # to get  separate function separate the marker name\n",
    "library(data.table)\n",
    "library(dplyr)"
   ]
  },
  {
   "cell_type": "markdown",
   "id": "8713c8ec-6cf0-4e81-a68a-d7d8e2732870",
   "metadata": {
    "kernel": "Bash"
   },
   "source": [
    "### Model 2 without APOE4 adjustment"
   ]
  },
  {
   "cell_type": "code",
   "execution_count": null,
   "id": "c9bcd74a-313c-4060-bdcf-965b9219a8a4",
   "metadata": {
    "kernel": "Bash"
   },
   "outputs": [],
   "source": [
    "SCHEME SAMPLESIZE\n",
    "MARKER   SNP\n",
    "WEIGHT   N\n",
    "EFFECT   BETA\n",
    "PVAL     P\n",
    "\n",
    "\n",
    "PROCESS /mnt/mfs/statgen/alzheimers-family/AD_rare_variants/SMMAT/noapoe/af0.01/model3_skat/African.pca.projected_AD.SMMAT.snp_stats.gz\n",
    "PROCESS /mnt/mfs/statgen/alzheimers-family/AD_rare_variants/SMMAT/noapoe/af0.01/model3_skat/European.pca.projected_AD.SMMAT.snp_stats.gz\n",
    "PROCESS /mnt/mfs/statgen/alzheimers-family/AD_rare_variants/SMMAT/noapoe/af0.01/model3_skat/Hispanic.pca.projected_AD.SMMAT.snp_stats.gz\n",
    "\n",
    "OUTFILE /mnt/mfs/statgen/alzheimers-family/AD_rare_variants/SMMAT/noapoe/af0.01/model3_skat/AD.SMMAT_noAPOE4_META .TXT\n",
    "ANALYZE\n",
    "ANALYZE HETEROGENEITY"
   ]
  },
  {
   "cell_type": "code",
   "execution_count": null,
   "id": "65d01696-0b66-428b-a4aa-782e9958142f",
   "metadata": {
    "kernel": "Bash"
   },
   "outputs": [],
   "source": [
    "data = read.table('/mnt/mfs/statgen/alzheimers-family/AD_rare_variants/SMMAT/noapoe/af0.01/model3_skat/AD.SMMAT_noAPOE4_META2.TXT', header = T, sep = '\\t')\n",
    "his = read.table('/mnt/mfs/statgen/alzheimers-family/AD_rare_variants/SMMAT/noapoe/af0.01/model3_skat/Hispanic.pca.projected_AD.SMMAT.snp_stats.gz', header = T, sep ='\\t')[, c(1, 2, 3)]\n",
    "eur = read.table('/mnt/mfs/statgen/alzheimers-family/AD_rare_variants/SMMAT/noapoe/af0.01/model3_skat/European.pca.projected_AD.SMMAT.snp_stats.gz', header = T, sep ='\\t')[, c(1, 2, 3)]\n",
    "afr = read.table('/mnt/mfs/statgen/alzheimers-family/AD_rare_variants/SMMAT/noapoe/af0.01/model3_skat/African.pca.projected_AD.SMMAT.snp_stats.gz', header = T, sep ='\\t')[, c(1, 2, 3)]\n",
    "pos = merge(his, eur, by = c('CHR', 'POS', 'SNP'),all = TRUE)\n",
    "POS = merge(pos, afr, by = c('CHR', 'POS', 'SNP'),all = TRUE)\n",
    "data = inner_join(data, POS, by = c('MarkerName'='SNP'))\n",
    "data$POS = as.numeric(data$POS)\n",
    "data$CHR = as.numeric(data$CHR)\n",
    "write.table(data,'/mnt/mfs/statgen/alzheimers-family/AD_rare_variants/SMMAT/noapoe/af0.01/model3_skat/meta.smmat_noAPOE4.txt', sep = '\\t', quote = F, col.names = T, row.names = F)"
   ]
  },
  {
   "cell_type": "markdown",
   "id": "2cd2ffa8-5e2d-4ceb-afac-57ee73011bc4",
   "metadata": {
    "kernel": "Bash"
   },
   "source": [
    "### Model 1 with APOE4 adjustment"
   ]
  },
  {
   "cell_type": "code",
   "execution_count": null,
   "id": "2314548f-ea68-43bf-8d34-c0c411778aae",
   "metadata": {
    "kernel": "Bash"
   },
   "outputs": [],
   "source": [
    "SCHEME SAMPLESIZE\n",
    "MARKER   SNP\n",
    "WEIGHT   N\n",
    "EFFECT   BETA\n",
    "PVAL     P\n",
    "\n",
    "\n",
    "PROCESS /mnt/mfs/statgen/alzheimers-family/AD_rare_variants/SMMAT/apoe/af0.01/model1_skat/African.pca.projected_AD.SMMAT.snp_stats.gz\n",
    "PROCESS /mnt/mfs/statgen/alzheimers-family/AD_rare_variants/SMMAT/apoe/af0.01/model1_skat/European.pca.projected_AD.SMMAT.snp_stats.gz\n",
    "PROCESS /mnt/mfs/statgen/alzheimers-family/AD_rare_variants/SMMAT/apoe/af0.01/model1_skat/Hispanic.pca.projected_AD.SMMAT.snp_stats.gz\n",
    "\n",
    "OUTFILE /mnt/mfs/statgen/alzheimers-family/AD_rare_variants/SMMAT/apoe/af0.01/model1_skat/AD.SMMAT_APOE4_META .TXT\n",
    "ANALYZE\n",
    "ANALYZE HETEROGENEITY"
   ]
  },
  {
   "cell_type": "code",
   "execution_count": 2,
   "id": "8a640602-0ddd-4839-ab87-fcee2153bb53",
   "metadata": {
    "kernel": "R",
    "tags": []
   },
   "outputs": [],
   "source": [
    "data = read.table('/mnt/mfs/statgen/alzheimers-family/AD_rare_variants/SMMAT/apoe/af0.01/model1_skat/AD.SMMAT_APOE4_META2.TXT', header = T, sep = '\\t')\n",
    "his = read.table('/mnt/mfs/statgen/alzheimers-family/AD_rare_variants/SMMAT/apoe/af0.01/model1_skat/Hispanic.pca.projected_AD.SMMAT.snp_stats.gz', header = T, sep ='\\t')[, c(1, 2, 3)]\n",
    "eur = read.table('/mnt/mfs/statgen/alzheimers-family/AD_rare_variants/SMMAT/apoe/af0.01/model1_skat/European.pca.projected_AD.SMMAT.snp_stats.gz', header = T, sep ='\\t')[, c(1, 2, 3)]\n",
    "afr = read.table('/mnt/mfs/statgen/alzheimers-family/AD_rare_variants/SMMAT/apoe/af0.01/model1_skat/African.pca.projected_AD.SMMAT.snp_stats.gz', header = T, sep ='\\t')[, c(1, 2, 3)]\n",
    "pos = merge(his, eur, by = c('CHR', 'POS', 'SNP'),all = TRUE)\n",
    "POS = merge(pos, afr, by = c('CHR', 'POS', 'SNP'),all = TRUE)\n",
    "data = inner_join(data, POS, by = c('MarkerName'='SNP'))\n",
    "data$POS = as.numeric(data$POS)\n",
    "data$CHR = as.numeric(data$CHR)\n",
    "write.table(data,'/mnt/mfs/statgen/alzheimers-family/AD_rare_variants/SMMAT/apoe/af0.01/model1_skat/meta.smmat_APOE4.txt', sep = '\\t', quote = F, col.names = T, row.names = F)\n",
    "lambda <- median(qchisq(1-data$P.value,1), na.rm=TRUE)/qchisq(0.5,1)"
   ]
  },
  {
   "cell_type": "markdown",
   "id": "096ce76c-e575-4dc5-94ba-f4785b0b747f",
   "metadata": {
    "kernel": "Bash"
   },
   "source": [
    "### Model 2 with APOE4 adjustment"
   ]
  },
  {
   "cell_type": "code",
   "execution_count": null,
   "id": "a9cf37b4-f82d-413c-998c-1070526c1cf4",
   "metadata": {
    "kernel": "Bash"
   },
   "outputs": [],
   "source": [
    "SCHEME SAMPLESIZE\n",
    "MARKER   SNP\n",
    "WEIGHT   N\n",
    "EFFECT   BETA\n",
    "PVAL     P\n",
    "\n",
    "\n",
    "PROCESS /mnt/mfs/statgen/alzheimers-family/AD_rare_variants/SMMAT/apoe/af0.01/model3_skat/African.pca.projected_AD.SMMAT.snp_stats.gz\n",
    "PROCESS /mnt/mfs/statgen/alzheimers-family/AD_rare_variants/SMMAT/apoe/af0.01/model3_skat/European.pca.projected_AD.SMMAT.snp_stats.gz\n",
    "PROCESS /mnt/mfs/statgen/alzheimers-family/AD_rare_variants/SMMAT/apoe/af0.01/model3_skat/Hispanic.pca.projected_AD.SMMAT.snp_stats.gz\n",
    "\n",
    "OUTFILE /mnt/mfs/statgen/alzheimers-family/AD_rare_variants/SMMAT/apoe/af0.01/model3_skat/AD.SMMAT_APOE4_META .TXT\n",
    "ANALYZE\n",
    "ANALYZE HETEROGENEITY"
   ]
  },
  {
   "cell_type": "code",
   "execution_count": 3,
   "id": "db788265-1f7a-41a3-ba91-5705275806dd",
   "metadata": {
    "kernel": "R",
    "tags": []
   },
   "outputs": [],
   "source": [
    "data = read.table('/mnt/mfs/statgen/alzheimers-family/AD_rare_variants/SMMAT/apoe/af0.01/model3_skat/AD.SMMAT_APOE4_META2.TXT', header = T, sep = '\\t')\n",
    "his = read.table('/mnt/mfs/statgen/alzheimers-family/AD_rare_variants/SMMAT/apoe/af0.01/model3_skat/Hispanic.pca.projected_AD.SMMAT.snp_stats.gz', header = T, sep ='\\t')[, c(1, 2, 3)]\n",
    "eur = read.table('/mnt/mfs/statgen/alzheimers-family/AD_rare_variants/SMMAT/apoe/af0.01/model3_skat/European.pca.projected_AD.SMMAT.snp_stats.gz', header = T, sep ='\\t')[, c(1, 2, 3)]\n",
    "afr = read.table('/mnt/mfs/statgen/alzheimers-family/AD_rare_variants/SMMAT/apoe/af0.01/model3_skat/African.pca.projected_AD.SMMAT.snp_stats.gz', header = T, sep ='\\t')[, c(1, 2, 3)]\n",
    "pos = merge(his, eur, by = c('CHR', 'POS', 'SNP'),all = TRUE)\n",
    "POS = merge(pos, afr, by = c('CHR', 'POS', 'SNP'),all = TRUE)\n",
    "data = inner_join(data, POS, by = c('MarkerName'='SNP'))\n",
    "data$POS = as.numeric(data$POS)\n",
    "data$CHR = as.numeric(data$CHR)\n",
    "write.table(data,'/mnt/mfs/statgen/alzheimers-family/AD_rare_variants/SMMAT/apoe/af0.01/model3_skat/meta.smmat_APOE4.txt', sep = '\\t', quote = F, col.names = T, row.names = F)\n",
    "lambda <- median(qchisq(1-data$P.value,1), na.rm=TRUE)/qchisq(0.5,1)"
   ]
  },
  {
   "cell_type": "code",
   "execution_count": null,
   "id": "e69a8990-ec64-4fb0-bdea-e711cc3de0e0",
   "metadata": {
    "kernel": "R"
   },
   "outputs": [],
   "source": []
  },
  {
   "cell_type": "code",
   "execution_count": null,
   "id": "9ff16335-cf5f-4083-af17-cdbacbb07ae0",
   "metadata": {
    "kernel": "Bash"
   },
   "outputs": [],
   "source": []
  }
 ],
 "metadata": {
  "kernelspec": {
   "display_name": "SoS",
   "language": "sos",
   "name": "sos"
  },
  "language_info": {
   "codemirror_mode": "sos",
   "file_extension": ".sos",
   "mimetype": "text/x-sos",
   "name": "sos",
   "nbconvert_exporter": "sos_notebook.converter.SoS_Exporter",
   "pygments_lexer": "sos"
  },
  "sos": {
   "kernels": [
    [
     "Bash",
     "calysto_bash",
     "Bash",
     "#E6EEFF",
     "shell"
    ],
    [
     "R",
     "ir",
     "R",
     "#DCDCDA",
     "r"
    ],
    [
     "SoS",
     "sos",
     "",
     "",
     "sos"
    ]
   ],
   "version": "0.24.3"
  },
  "toc-autonumbering": true
 },
 "nbformat": 4,
 "nbformat_minor": 5
}
