{
 "cells": [
  {
   "cell_type": "markdown",
   "id": "korean-combining",
   "metadata": {
    "kernel": "Markdown",
    "tags": []
   },
   "source": [
    "# Calculating the PCA for the GMMAT and SMMAT Analyses \n",
    "This notebook documents recalculation of PCs for the population specific GMMAT and SMMAT analyses  \n",
    "\n",
    "Pheno data\n",
    " > /mnt/mfs/statgen/alzheimers-family/pheno/pheno_updated_20221121/\n",
    " \n",
    "Geno data: jointly called WGS data from EFIGA and NIALOAD\n",
    " > /mnt/mfs/statgen/alzheimers-family/normalized_bed/normalized_merged_autosome.*  \n"
   ]
  },
  {
   "cell_type": "markdown",
   "id": "a7e384e3-582f-4240-911d-5982a71723be",
   "metadata": {
    "kernel": "SoS",
    "tags": []
   },
   "source": [
    "# Common Variants analyses: PCA"
   ]
  },
  {
   "cell_type": "code",
   "execution_count": 1,
   "id": "96b7fe19-a14a-4c96-b6ec-241d7fed18d7",
   "metadata": {},
   "outputs": [
    {
     "name": "stdout",
     "output_type": "stream",
     "text": [
      "INFO: Running \u001b[32mbasic QC filters\u001b[0m: Filter SNPs and select individuals\n",
      "INFO: \u001b[32mbasic QC filters\u001b[0m is \u001b[32mcompleted\u001b[0m.\n",
      "INFO: \u001b[32mbasic QC filters\u001b[0m output:   \u001b[32m/mnt/mfs/statgen/alzheimers-family/AD_common_variants/PCA/normalized_merged_autosome.African.filtered.bed\u001b[0m\n",
      "INFO: Workflow qc (ID=w40505755e477e8fe) is executed successfully with 1 completed step.\n",
      "INFO: Running \u001b[32mbasic QC filters\u001b[0m: Filter SNPs and select individuals\n",
      "INFO: \u001b[32mbasic QC filters\u001b[0m is \u001b[32mcompleted\u001b[0m.\n",
      "INFO: \u001b[32mbasic QC filters\u001b[0m output:   \u001b[32m/mnt/mfs/statgen/alzheimers-family/AD_common_variants/PCA/normalized_merged_autosome.European.filtered.bed\u001b[0m\n",
      "INFO: Workflow qc (ID=w806094c862aae420) is executed successfully with 1 completed step.\n",
      "INFO: Running \u001b[32mbasic QC filters\u001b[0m: Filter SNPs and select individuals\n",
      "INFO: \u001b[32mbasic QC filters\u001b[0m is \u001b[32mcompleted\u001b[0m.\n",
      "INFO: \u001b[32mbasic QC filters\u001b[0m output:   \u001b[32m/mnt/mfs/statgen/alzheimers-family/AD_common_variants/PCA/normalized_merged_autosome.Hispanic.filtered.bed\u001b[0m\n",
      "INFO: Workflow qc (ID=wd71adae04de24e26) is executed successfully with 1 completed step.\n"
     ]
    }
   ],
   "source": [
    "# split the geno file per pop. \n",
    "ml Singularity\n",
    "for i in African European Hispanic; do\n",
    "sos run ~/project2022/notebook/AD/xqtl-pipeline/pipeline/GWAS_QC.ipynb qc:1 \\\n",
    "  --cwd /mnt/mfs/statgen/alzheimers-family/AD_common_variants/PCA \\\n",
    "  --genoFile /mnt/mfs/statgen/alzheimers-family/normalized_bed/normalized_merged_autosome.bed \\\n",
    "  --keep_samples /mnt/mfs/statgen/alzheimers-family/pheno/pheno_updated_20221121/$i.id \\\n",
    "  --name $i \\\n",
    "  --container /mnt/vast/hpc/csg/containers/lmm.sif\n",
    "done"
   ]
  },
  {
   "cell_type": "code",
   "execution_count": 2,
   "id": "b203a19e-3913-4f5f-b8f0-29d2faf40eea",
   "metadata": {},
   "outputs": [
    {
     "name": "stdout",
     "output_type": "stream",
     "text": [
      "INFO: Running \u001b[32mking_1\u001b[0m: Inference of relationships in the sample to identify closely related individuals\n",
      "INFO: \u001b[32mking_1\u001b[0m is \u001b[32mcompleted\u001b[0m.\n",
      "INFO: \u001b[32mking_1\u001b[0m output:   \u001b[32m/mnt/mfs/statgen/alzheimers-family/AD_common_variants/PCA/King/normalized_merged_autosome.African.filtered.kin0\u001b[0m\n",
      "INFO: Running \u001b[32mking_2\u001b[0m: Select a list of unrelated individual with an attempt to maximize the unrelated individuals selected from the data\n",
      "INFO: \u001b[32mking_2\u001b[0m is \u001b[32mcompleted\u001b[0m.\n",
      "INFO: \u001b[32mking_2\u001b[0m output:   \u001b[32m/mnt/mfs/statgen/alzheimers-family/AD_common_variants/PCA/King/normalized_merged_autosome.African.filtered.related_id\u001b[0m\n",
      "INFO: Running \u001b[32mking_3\u001b[0m: Split genotype data into related and unrelated samples, if related individuals are detected\n",
      "INFO: \u001b[32mking_3\u001b[0m is \u001b[32mcompleted\u001b[0m.\n",
      "INFO: \u001b[32mking_3\u001b[0m output:   \u001b[32m/mnt/mfs/statgen/alzheimers-family/AD_common_variants/PCA/King/normalized_merged_autosome.African.filtered.unrelated.bed /mnt/mfs/statgen/alzheimers-family/AD_common_variants/PCA/King/normalized_merged_autosome.African.filtered.related.bed\u001b[0m\n",
      "INFO: Workflow king (ID=w1a6b6a452f139217) is executed successfully with 3 completed steps.\n",
      "INFO: Running \u001b[32mking_1\u001b[0m: Inference of relationships in the sample to identify closely related individuals\n",
      "INFO: \u001b[32mking_1\u001b[0m is \u001b[32mcompleted\u001b[0m.\n",
      "INFO: \u001b[32mking_1\u001b[0m output:   \u001b[32m/mnt/mfs/statgen/alzheimers-family/AD_common_variants/PCA/King/normalized_merged_autosome.European.filtered.kin0\u001b[0m\n",
      "INFO: Running \u001b[32mking_2\u001b[0m: Select a list of unrelated individual with an attempt to maximize the unrelated individuals selected from the data\n",
      "INFO: \u001b[32mking_2\u001b[0m is \u001b[32mcompleted\u001b[0m.\n",
      "INFO: \u001b[32mking_2\u001b[0m output:   \u001b[32m/mnt/mfs/statgen/alzheimers-family/AD_common_variants/PCA/King/normalized_merged_autosome.European.filtered.related_id\u001b[0m\n",
      "INFO: Running \u001b[32mking_3\u001b[0m: Split genotype data into related and unrelated samples, if related individuals are detected\n",
      "INFO: \u001b[32mking_3\u001b[0m is \u001b[32mcompleted\u001b[0m.\n",
      "INFO: \u001b[32mking_3\u001b[0m output:   \u001b[32m/mnt/mfs/statgen/alzheimers-family/AD_common_variants/PCA/King/normalized_merged_autosome.European.filtered.unrelated.bed /mnt/mfs/statgen/alzheimers-family/AD_common_variants/PCA/King/normalized_merged_autosome.European.filtered.related.bed\u001b[0m\n",
      "INFO: Workflow king (ID=w5b1c276a1ed1c76c) is executed successfully with 3 completed steps.\n",
      "INFO: Running \u001b[32mking_1\u001b[0m: Inference of relationships in the sample to identify closely related individuals\n",
      "INFO: \u001b[32mking_1\u001b[0m is \u001b[32mcompleted\u001b[0m.\n",
      "INFO: \u001b[32mking_1\u001b[0m output:   \u001b[32m/mnt/mfs/statgen/alzheimers-family/AD_common_variants/PCA/King/normalized_merged_autosome.Hispanic.filtered.kin0\u001b[0m\n",
      "INFO: Running \u001b[32mking_2\u001b[0m: Select a list of unrelated individual with an attempt to maximize the unrelated individuals selected from the data\n",
      "INFO: \u001b[32mking_2\u001b[0m is \u001b[32mcompleted\u001b[0m.\n",
      "INFO: \u001b[32mking_2\u001b[0m output:   \u001b[32m/mnt/mfs/statgen/alzheimers-family/AD_common_variants/PCA/King/normalized_merged_autosome.Hispanic.filtered.related_id\u001b[0m\n",
      "INFO: Running \u001b[32mking_3\u001b[0m: Split genotype data into related and unrelated samples, if related individuals are detected\n",
      "INFO: \u001b[32mking_3\u001b[0m is \u001b[32mcompleted\u001b[0m.\n",
      "INFO: \u001b[32mking_3\u001b[0m output:   \u001b[32m/mnt/mfs/statgen/alzheimers-family/AD_common_variants/PCA/King/normalized_merged_autosome.Hispanic.filtered.unrelated.bed /mnt/mfs/statgen/alzheimers-family/AD_common_variants/PCA/King/normalized_merged_autosome.Hispanic.filtered.related.bed\u001b[0m\n",
      "INFO: Workflow king (ID=w75cbbe0dacdab2c3) is executed successfully with 3 completed steps.\n"
     ]
    }
   ],
   "source": [
    "for i in African European Hispanic; do\n",
    "sos run ~/project2022/notebook/AD/xqtl-pipeline/pipeline/GWAS_QC.ipynb king \\\n",
    "  --cwd /mnt/mfs/statgen/alzheimers-family/AD_common_variants/PCA/King \\\n",
    "  --container /mnt/vast/hpc/csg/containers/lmm.sif \\\n",
    "  --genoFile /mnt/mfs/statgen/alzheimers-family/AD_common_variants/PCA/normalized_merged_autosome.$i.filtered.bed\n",
    "done"
   ]
  },
  {
   "cell_type": "code",
   "execution_count": 9,
   "id": "9a42531b-4ae9-4c93-b324-ff9e9b2ed64a",
   "metadata": {},
   "outputs": [
    {
     "name": "stdout",
     "output_type": "stream",
     "text": [
      "INFO: Running \u001b[32mbasic QC filters\u001b[0m: Filter SNPs and select individuals\n",
      "INFO: \u001b[32mqc_1\u001b[0m (index=0) is \u001b[32mignored\u001b[0m due to saved signature\n",
      "INFO: \u001b[32mbasic QC filters\u001b[0m output:   \u001b[32m/mnt/mfs/statgen/alzheimers-family/AD_common_variants/PCA/normalized_merged_autosome.African.filtered.unrelated.filtered.bed\u001b[0m\n",
      "INFO: Running \u001b[32mLD pruning\u001b[0m: LD prunning and remove related individuals (both ind of a pair)\n",
      "INFO: \u001b[32mLD pruning\u001b[0m is \u001b[32mcompleted\u001b[0m.\n",
      "INFO: \u001b[32mLD pruning\u001b[0m output:   \u001b[32m/mnt/mfs/statgen/alzheimers-family/AD_common_variants/PCA/normalized_merged_autosome.African.filtered.unrelated.filtered.prune.bed /mnt/mfs/statgen/alzheimers-family/AD_common_variants/PCA/normalized_merged_autosome.African.filtered.unrelated.filtered.prune.in\u001b[0m\n",
      "INFO: Workflow qc (ID=wb8444235f09d5938) is executed successfully with 1 completed step and 1 ignored step.\n",
      "INFO: Running \u001b[32mbasic QC filters\u001b[0m: Filter SNPs and select individuals\n",
      "INFO: \u001b[32mqc_1\u001b[0m (index=0) is \u001b[32mignored\u001b[0m due to saved signature\n",
      "INFO: \u001b[32mbasic QC filters\u001b[0m output:   \u001b[32m/mnt/mfs/statgen/alzheimers-family/AD_common_variants/PCA/normalized_merged_autosome.European.filtered.unrelated.filtered.bed\u001b[0m\n",
      "INFO: Running \u001b[32mLD pruning\u001b[0m: LD prunning and remove related individuals (both ind of a pair)\n",
      "INFO: \u001b[32mLD pruning\u001b[0m is \u001b[32mcompleted\u001b[0m.\n",
      "INFO: \u001b[32mLD pruning\u001b[0m output:   \u001b[32m/mnt/mfs/statgen/alzheimers-family/AD_common_variants/PCA/normalized_merged_autosome.European.filtered.unrelated.filtered.prune.bed /mnt/mfs/statgen/alzheimers-family/AD_common_variants/PCA/normalized_merged_autosome.European.filtered.unrelated.filtered.prune.in\u001b[0m\n",
      "INFO: Workflow qc (ID=w64756199a0a8e48e) is executed successfully with 1 completed step and 1 ignored step.\n",
      "INFO: Running \u001b[32mbasic QC filters\u001b[0m: Filter SNPs and select individuals\n",
      "INFO: \u001b[32mqc_1\u001b[0m (index=0) is \u001b[32mignored\u001b[0m due to saved signature\n",
      "INFO: \u001b[32mbasic QC filters\u001b[0m output:   \u001b[32m/mnt/mfs/statgen/alzheimers-family/AD_common_variants/PCA/normalized_merged_autosome.Hispanic.filtered.unrelated.filtered.bed\u001b[0m\n",
      "INFO: Running \u001b[32mLD pruning\u001b[0m: LD prunning and remove related individuals (both ind of a pair)\n",
      "INFO: \u001b[32mLD pruning\u001b[0m is \u001b[32mcompleted\u001b[0m.\n",
      "INFO: \u001b[32mLD pruning\u001b[0m output:   \u001b[32m/mnt/mfs/statgen/alzheimers-family/AD_common_variants/PCA/normalized_merged_autosome.Hispanic.filtered.unrelated.filtered.prune.bed /mnt/mfs/statgen/alzheimers-family/AD_common_variants/PCA/normalized_merged_autosome.Hispanic.filtered.unrelated.filtered.prune.in\u001b[0m\n",
      "INFO: Workflow qc (ID=w3db58a7c742b4daa) is executed successfully with 1 completed step and 1 ignored step.\n"
     ]
    }
   ],
   "source": [
    "for i in African European Hispanic; do\n",
    "# unrelated individuals\n",
    "ml Singularity\n",
    "sos run ~/project2022/notebook/AD/xqtl-pipeline/pipeline/GWAS_QC.ipynb qc \\\n",
    "    --cwd /mnt/mfs/statgen/alzheimers-family/AD_common_variants/PCA \\\n",
    "    --genoFile /mnt/mfs/statgen/alzheimers-family/AD_common_variants/PCA/normalized_merged_autosome.$i.filtered.bed \\\n",
    "    --remove_samples /mnt/mfs/statgen/alzheimers-family/AD_common_variants/PCA/King/normalized_merged_autosome.$i.filtered.related_id \\\n",
    "    --maf_filter 0.01 \\\n",
    "    --geno_filter 0.1 \\\n",
    "    --mind_filter 0.1 \\\n",
    "    --hwe_filter 5e-08 \\\n",
    "    --name unrelated \\\n",
    "    --window 50 \\\n",
    "    --shift 10 \\\n",
    "    --r2 0.2 \\\n",
    "    --container /mnt/mfs/statgen/containers/lmm.sif\n",
    "done"
   ]
  },
  {
   "cell_type": "code",
   "execution_count": 10,
   "id": "39c0cdbd-9619-4e0e-890e-e040b1427d47",
   "metadata": {},
   "outputs": [
    {
     "name": "stdout",
     "output_type": "stream",
     "text": [
      "3799108\n",
      "16137551\n"
     ]
    }
   ],
   "source": [
    "cat /mnt/mfs/statgen/alzheimers-family/AD_common_variants/PCA/normalized_merged_autosome.African.filtered.unrelated.filtered.prune.in | wc -l\n",
    "cat /mnt/mfs/statgen/alzheimers-family/AD_common_variants/PCA/normalized_merged_autosome.African.filtered.unrelated.filtered.prune.out | wc -l"
   ]
  },
  {
   "cell_type": "code",
   "execution_count": 11,
   "id": "47f73cb8-d95f-4f2e-9a87-8ad2493d8439",
   "metadata": {},
   "outputs": [
    {
     "name": "stdout",
     "output_type": "stream",
     "text": [
      "45 samples (0 females, 0 males, 45 ambiguous; 45 founders) loaded from\n",
      "--extract: 3812519 variants remaining.\n",
      "3812519 variants remaining after main filters.\n"
     ]
    }
   ],
   "source": [
    "cat /mnt/mfs/statgen/alzheimers-family/AD_common_variants/PCA/normalized_merged_autosome.African.filtered.unrelated.filtered.log | grep 'samples ('\n",
    "cat /mnt/mfs/statgen/alzheimers-family/AD_common_variants/PCA/normalized_merged_autosome.African.filtered.unrelated.filtered.prune.log | grep 'remain'"
   ]
  },
  {
   "cell_type": "code",
   "execution_count": 12,
   "id": "ff4d4237-e58c-4a9f-a5c0-0b585d3c42a7",
   "metadata": {},
   "outputs": [
    {
     "name": "stdout",
     "output_type": "stream",
     "text": [
      "3812519 /mnt/mfs/statgen/alzheimers-family/AD_common_variants/PCA/normalized_merged_autosome.African.filtered.unrelated.filtered.prune.bim\n"
     ]
    }
   ],
   "source": [
    "wc -l /mnt/mfs/statgen/alzheimers-family/AD_common_variants/PCA/normalized_merged_autosome.African.filtered.unrelated.filtered.prune.bim"
   ]
  },
  {
   "cell_type": "code",
   "execution_count": 15,
   "id": "3ea9d505-3cb7-45ba-9616-39bad338d4e9",
   "metadata": {},
   "outputs": [
    {
     "name": "stdout",
     "output_type": "stream",
     "text": [
      "INFO: Running \u001b[32mbasic QC filters\u001b[0m: Filter SNPs and select individuals\n",
      "INFO: \u001b[32mbasic QC filters\u001b[0m is \u001b[32mcompleted\u001b[0m.\n",
      "INFO: \u001b[32mbasic QC filters\u001b[0m output:   \u001b[32m/mnt/mfs/statgen/alzheimers-family/AD_common_variants/PCA/normalized_merged_autosome.African.filtered.related.filtered.extracted.bed\u001b[0m\n",
      "INFO: Workflow qc (ID=w91cfa771347598a6) is executed successfully with 1 completed step.\n",
      "INFO: Running \u001b[32mbasic QC filters\u001b[0m: Filter SNPs and select individuals\n",
      "INFO: \u001b[32mbasic QC filters\u001b[0m is \u001b[32mcompleted\u001b[0m.\n",
      "INFO: \u001b[32mbasic QC filters\u001b[0m output:   \u001b[32m/mnt/mfs/statgen/alzheimers-family/AD_common_variants/PCA/normalized_merged_autosome.European.filtered.related.filtered.extracted.bed\u001b[0m\n",
      "INFO: Workflow qc (ID=w83ef60972346f2b2) is executed successfully with 1 completed step.\n",
      "INFO: Running \u001b[32mbasic QC filters\u001b[0m: Filter SNPs and select individuals\n",
      "INFO: \u001b[32mbasic QC filters\u001b[0m is \u001b[32mcompleted\u001b[0m.\n",
      "INFO: \u001b[32mbasic QC filters\u001b[0m output:   \u001b[32m/mnt/mfs/statgen/alzheimers-family/AD_common_variants/PCA/normalized_merged_autosome.Hispanic.filtered.related.filtered.extracted.bed\u001b[0m\n",
      "INFO: Workflow qc (ID=wb8d79a29cf7131a7) is executed successfully with 1 completed step.\n"
     ]
    }
   ],
   "source": [
    "for i in African European Hispanic; do\n",
    "# related individuals same set of variants\n",
    "sos run ~/project2022/notebook/AD/xqtl-pipeline/pipeline/GWAS_QC.ipynb qc:1 \\\n",
    "    --cwd /mnt/mfs/statgen/alzheimers-family/AD_common_variants/PCA \\\n",
    "    --genoFile /mnt/mfs/statgen/alzheimers-family/AD_common_variants/PCA/normalized_merged_autosome.$i.filtered.bed \\\n",
    "    --keep_samples /mnt/mfs/statgen/alzheimers-family/AD_common_variants/PCA/King/normalized_merged_autosome.$i.filtered.related_id\\\n",
    "    --keep_variants /mnt/mfs/statgen/alzheimers-family/AD_common_variants/PCA/normalized_merged_autosome.$i.filtered.unrelated.filtered.prune.in \\\n",
    "    --maf_filter 0 \\\n",
    "    --geno_filter 1 \\\n",
    "    --mind_filter 0.1 \\\n",
    "    --hwe_filter 0 \\\n",
    "    --name related \\\n",
    "    --container /mnt/mfs/statgen/containers/lmm.sif\n",
    "done"
   ]
  },
  {
   "cell_type": "code",
   "execution_count": 16,
   "id": "d3c17668-6b91-4f7e-918d-c4d1976d02a5",
   "metadata": {},
   "outputs": [
    {
     "name": "stdout",
     "output_type": "stream",
     "text": [
      "--extract: 3812887 variants remaining.\n",
      "--keep: 68 samples remaining.\n",
      "68 samples (0 females, 0 males, 68 ambiguous; 68 founders) remaining after main\n",
      "3812887 variants remaining after main filters.\n",
      "45 samples (0 females, 0 males, 45 ambiguous; 45 founders) loaded from\n"
     ]
    }
   ],
   "source": [
    "cat /mnt/mfs/statgen/alzheimers-family/AD_common_variants/PCA/normalized_merged_autosome.African.filtered.related.filtered.extracted.log | grep 'remain'\n",
    "cat /mnt/mfs/statgen/alzheimers-family/AD_common_variants/PCA/normalized_merged_autosome.African.filtered.unrelated.filtered.log | grep 'samples ('"
   ]
  },
  {
   "cell_type": "code",
   "execution_count": 17,
   "id": "ffa66ac1-01fe-4146-be4a-428cfe395b9c",
   "metadata": {},
   "outputs": [
    {
     "name": "stdout",
     "output_type": "stream",
     "text": [
      "INFO: Running \u001b[32mflashpca_1\u001b[0m: Run PCA analysis using flashpca\n",
      "INFO: \u001b[32mflashpca_1\u001b[0m is \u001b[32mcompleted\u001b[0m.\n",
      "INFO: \u001b[32mflashpca_1\u001b[0m output:   \u001b[32m/mnt/mfs/statgen/alzheimers-family/AD_common_variants/PCA/plots/African.pca.rds\u001b[0m\n",
      "INFO: Running \u001b[32mflashpca_2\u001b[0m: \n",
      "INFO: \u001b[32mflashpca_2\u001b[0m is \u001b[32mcompleted\u001b[0m (pending nested workflow).\n",
      "INFO: Running \u001b[32mdetect_outliers\u001b[0m: Calculate Mahalanobis distance per population and report outliers\n",
      "INFO: \u001b[32mdetect_outliers\u001b[0m is \u001b[32mcompleted\u001b[0m.\n",
      "INFO: \u001b[32mdetect_outliers\u001b[0m output:   \u001b[32m/mnt/mfs/statgen/alzheimers-family/AD_common_variants/PCA/plots/African.pca.mahalanobis.rds /mnt/mfs/statgen/alzheimers-family/AD_common_variants/PCA/plots/African.pca.outliers... (5 items)\u001b[0m\n",
      "INFO: \u001b[32mflashpca_2\u001b[0m output:   \u001b[32m/mnt/mfs/statgen/alzheimers-family/AD_common_variants/PCA/plots/African.pca.mahalanobis.rds /mnt/mfs/statgen/alzheimers-family/AD_common_variants/PCA/plots/African.pca.outliers... (5 items)\u001b[0m\n",
      "INFO: Running \u001b[32mflashpca_3\u001b[0m: \n",
      "INFO: \u001b[32mflashpca_3\u001b[0m is \u001b[32mcompleted\u001b[0m (pending nested workflow).\n",
      "INFO: Running \u001b[32mplot_pca\u001b[0m: Plot PCA results. Can be used independently as \"plot_pca\" or combined with other workflow as eg \"flashpca+plot_pca\"\n",
      "INFO: \u001b[32mplot_pca\u001b[0m is \u001b[32mcompleted\u001b[0m.\n",
      "INFO: \u001b[32mplot_pca\u001b[0m output:   \u001b[32m/mnt/mfs/statgen/alzheimers-family/AD_common_variants/PCA/plots/African.pca.pc.png /mnt/mfs/statgen/alzheimers-family/AD_common_variants/PCA/plots/African.pca.scree.png... (3 items)\u001b[0m\n",
      "INFO: \u001b[32mflashpca_3\u001b[0m output:   \u001b[32m/mnt/mfs/statgen/alzheimers-family/AD_common_variants/PCA/plots/African.pca.pc.png /mnt/mfs/statgen/alzheimers-family/AD_common_variants/PCA/plots/African.pca.scree.png\u001b[0m\n",
      "INFO: Workflow flashpca (ID=w5f963b0a1d385be4) is executed successfully with 5 completed steps.\n",
      "INFO: Running \u001b[32mflashpca_1\u001b[0m: Run PCA analysis using flashpca\n",
      "INFO: \u001b[32mflashpca_1\u001b[0m is \u001b[32mcompleted\u001b[0m.\n",
      "INFO: \u001b[32mflashpca_1\u001b[0m output:   \u001b[32m/mnt/mfs/statgen/alzheimers-family/AD_common_variants/PCA/plots/European.pca.rds\u001b[0m\n",
      "INFO: Running \u001b[32mflashpca_2\u001b[0m: \n",
      "INFO: \u001b[32mflashpca_2\u001b[0m is \u001b[32mcompleted\u001b[0m (pending nested workflow).\n",
      "INFO: Running \u001b[32mdetect_outliers\u001b[0m: Calculate Mahalanobis distance per population and report outliers\n",
      "INFO: \u001b[32mdetect_outliers\u001b[0m is \u001b[32mcompleted\u001b[0m.\n",
      "INFO: \u001b[32mdetect_outliers\u001b[0m output:   \u001b[32m/mnt/mfs/statgen/alzheimers-family/AD_common_variants/PCA/plots/European.pca.mahalanobis.rds /mnt/mfs/statgen/alzheimers-family/AD_common_variants/PCA/plots/European.pca.outliers... (5 items)\u001b[0m\n",
      "INFO: \u001b[32mflashpca_2\u001b[0m output:   \u001b[32m/mnt/mfs/statgen/alzheimers-family/AD_common_variants/PCA/plots/European.pca.mahalanobis.rds /mnt/mfs/statgen/alzheimers-family/AD_common_variants/PCA/plots/European.pca.outliers... (5 items)\u001b[0m\n",
      "INFO: Running \u001b[32mflashpca_3\u001b[0m: \n",
      "INFO: \u001b[32mflashpca_3\u001b[0m is \u001b[32mcompleted\u001b[0m (pending nested workflow).\n",
      "INFO: Running \u001b[32mplot_pca\u001b[0m: Plot PCA results. Can be used independently as \"plot_pca\" or combined with other workflow as eg \"flashpca+plot_pca\"\n",
      "INFO: \u001b[32mplot_pca\u001b[0m is \u001b[32mcompleted\u001b[0m.\n",
      "INFO: \u001b[32mplot_pca\u001b[0m output:   \u001b[32m/mnt/mfs/statgen/alzheimers-family/AD_common_variants/PCA/plots/European.pca.pc.png /mnt/mfs/statgen/alzheimers-family/AD_common_variants/PCA/plots/European.pca.scree.png... (3 items)\u001b[0m\n",
      "INFO: \u001b[32mflashpca_3\u001b[0m output:   \u001b[32m/mnt/mfs/statgen/alzheimers-family/AD_common_variants/PCA/plots/European.pca.pc.png /mnt/mfs/statgen/alzheimers-family/AD_common_variants/PCA/plots/European.pca.scree.png\u001b[0m\n",
      "INFO: Workflow flashpca (ID=w717a978d7bdbf210) is executed successfully with 5 completed steps.\n",
      "INFO: Running \u001b[32mflashpca_1\u001b[0m: Run PCA analysis using flashpca\n",
      "INFO: \u001b[32mflashpca_1\u001b[0m is \u001b[32mcompleted\u001b[0m.\n",
      "INFO: \u001b[32mflashpca_1\u001b[0m output:   \u001b[32m/mnt/mfs/statgen/alzheimers-family/AD_common_variants/PCA/plots/Hispanic.pca.rds\u001b[0m\n",
      "INFO: Running \u001b[32mflashpca_2\u001b[0m: \n",
      "INFO: \u001b[32mflashpca_2\u001b[0m is \u001b[32mcompleted\u001b[0m (pending nested workflow).\n",
      "INFO: Running \u001b[32mdetect_outliers\u001b[0m: Calculate Mahalanobis distance per population and report outliers\n",
      "INFO: \u001b[32mdetect_outliers\u001b[0m is \u001b[32mcompleted\u001b[0m.\n",
      "INFO: \u001b[32mdetect_outliers\u001b[0m output:   \u001b[32m/mnt/mfs/statgen/alzheimers-family/AD_common_variants/PCA/plots/Hispanic.pca.mahalanobis.rds /mnt/mfs/statgen/alzheimers-family/AD_common_variants/PCA/plots/Hispanic.pca.outliers... (5 items)\u001b[0m\n",
      "INFO: \u001b[32mflashpca_2\u001b[0m output:   \u001b[32m/mnt/mfs/statgen/alzheimers-family/AD_common_variants/PCA/plots/Hispanic.pca.mahalanobis.rds /mnt/mfs/statgen/alzheimers-family/AD_common_variants/PCA/plots/Hispanic.pca.outliers... (5 items)\u001b[0m\n",
      "INFO: Running \u001b[32mflashpca_3\u001b[0m: \n",
      "INFO: \u001b[32mflashpca_3\u001b[0m is \u001b[32mcompleted\u001b[0m (pending nested workflow).\n",
      "INFO: Running \u001b[32mplot_pca\u001b[0m: Plot PCA results. Can be used independently as \"plot_pca\" or combined with other workflow as eg \"flashpca+plot_pca\"\n",
      "INFO: \u001b[32mplot_pca\u001b[0m is \u001b[32mcompleted\u001b[0m.\n",
      "INFO: \u001b[32mplot_pca\u001b[0m output:   \u001b[32m/mnt/mfs/statgen/alzheimers-family/AD_common_variants/PCA/plots/Hispanic.pca.pc.png /mnt/mfs/statgen/alzheimers-family/AD_common_variants/PCA/plots/Hispanic.pca.scree.png... (3 items)\u001b[0m\n",
      "INFO: \u001b[32mflashpca_3\u001b[0m output:   \u001b[32m/mnt/mfs/statgen/alzheimers-family/AD_common_variants/PCA/plots/Hispanic.pca.pc.png /mnt/mfs/statgen/alzheimers-family/AD_common_variants/PCA/plots/Hispanic.pca.scree.png\u001b[0m\n",
      "INFO: Workflow flashpca (ID=wf4d3d57c2a79da9f) is executed successfully with 5 completed steps.\n"
     ]
    }
   ],
   "source": [
    "for i in African European Hispanic; do\n",
    "sos run ~/project2022/notebook/AD/xqtl-pipeline/code/data_preprocessing/genotype/PCA.ipynb flashpca \\\n",
    "    --cwd /mnt/mfs/statgen/alzheimers-family/AD_common_variants/PCA/plots\\\n",
    "    --genoFile /mnt/mfs/statgen/alzheimers-family/AD_common_variants/PCA/normalized_merged_autosome.$i.filtered.unrelated.filtered.prune.bed \\\n",
    "    --phenoFile /mnt/mfs/statgen/alzheimers-family/pheno/pheno_updated_20221121/$i.txt \\\n",
    "    --k 10 \\\n",
    "    --label_col pop \\\n",
    "    --pop_col pop \\\n",
    "    --container /mnt/mfs/statgen/containers/lmm.sif\n",
    "done"
   ]
  },
  {
   "cell_type": "code",
   "execution_count": null,
   "id": "fe7e4e6c-a211-4c37-8e8b-7683dd8abdbb",
   "metadata": {},
   "outputs": [
    {
     "name": "stdout",
     "output_type": "stream",
     "text": [
      "INFO: Running \u001b[32mproject_samples_1\u001b[0m: Project back to PCA model additional samples\n",
      "INFO: \u001b[32mproject_samples_1\u001b[0m is \u001b[32mcompleted\u001b[0m.\n",
      "INFO: \u001b[32mproject_samples_1\u001b[0m output:   \u001b[32m/mnt/mfs/statgen/alzheimers-family/AD_common_variants/PCA/plots/African.pca.projected.rds\u001b[0m\n",
      "INFO: Running \u001b[32mproject_samples_2\u001b[0m: \n",
      "INFO: \u001b[32mproject_samples_2\u001b[0m is \u001b[32mcompleted\u001b[0m (pending nested workflow).\n",
      "INFO: Running \u001b[32mdetect_outliers\u001b[0m: Calculate Mahalanobis distance per population and report outliers\n",
      "INFO: \u001b[32mdetect_outliers\u001b[0m is \u001b[32mcompleted\u001b[0m.\n",
      "INFO: \u001b[32mdetect_outliers\u001b[0m output:   \u001b[32m/mnt/mfs/statgen/alzheimers-family/AD_common_variants/PCA/plots/African.pca.projected.mahalanobis.rds /mnt/mfs/statgen/alzheimers-family/AD_common_variants/PCA/plots/African.pca.projected.outliers... (5 items)\u001b[0m\n",
      "INFO: \u001b[32mproject_samples_2\u001b[0m output:   \u001b[32m/mnt/mfs/statgen/alzheimers-family/AD_common_variants/PCA/plots/African.pca.projected.mahalanobis.rds /mnt/mfs/statgen/alzheimers-family/AD_common_variants/PCA/plots/African.pca.projected.outliers... (5 items)\u001b[0m\n",
      "INFO: Running \u001b[32mproject_samples_3\u001b[0m: \n",
      "INFO: \u001b[32mproject_samples_3\u001b[0m is \u001b[32mcompleted\u001b[0m (pending nested workflow).\n",
      "INFO: Running \u001b[32mplot_pca\u001b[0m: Plot PCA results. Can be used independently as \"plot_pca\" or combined with other workflow as eg \"flashpca+plot_pca\"\n",
      "INFO: \u001b[32mplot_pca\u001b[0m is \u001b[32mcompleted\u001b[0m.\n",
      "INFO: \u001b[32mplot_pca\u001b[0m output:   \u001b[32m/mnt/mfs/statgen/alzheimers-family/AD_common_variants/PCA/plots/African.pca.projected.pc.png /mnt/mfs/statgen/alzheimers-family/AD_common_variants/PCA/plots/African.pca.projected.scree.png... (3 items)\u001b[0m\n",
      "INFO: \u001b[32mproject_samples_3\u001b[0m output:   \u001b[32m/mnt/mfs/statgen/alzheimers-family/AD_common_variants/PCA/plots/African.pca.projected.pc.png /mnt/mfs/statgen/alzheimers-family/AD_common_variants/PCA/plots/African.pca.projected.scree.png\u001b[0m\n",
      "INFO: Workflow project_samples (ID=wff3a54a1d54eaff7) is executed successfully with 5 completed steps.\n",
      "INFO: Running \u001b[32mproject_samples_1\u001b[0m: Project back to PCA model additional samples\n",
      "INFO: \u001b[32mproject_samples_1\u001b[0m is \u001b[32mcompleted\u001b[0m.\n",
      "INFO: \u001b[32mproject_samples_1\u001b[0m output:   \u001b[32m/mnt/mfs/statgen/alzheimers-family/AD_common_variants/PCA/plots/European.pca.projected.rds\u001b[0m\n",
      "INFO: Running \u001b[32mproject_samples_2\u001b[0m: \n",
      "INFO: \u001b[32mproject_samples_2\u001b[0m is \u001b[32mcompleted\u001b[0m (pending nested workflow).\n",
      "INFO: Running \u001b[32mdetect_outliers\u001b[0m: Calculate Mahalanobis distance per population and report outliers\n",
      "INFO: \u001b[32mdetect_outliers\u001b[0m is \u001b[32mcompleted\u001b[0m.\n",
      "INFO: \u001b[32mdetect_outliers\u001b[0m output:   \u001b[32m/mnt/mfs/statgen/alzheimers-family/AD_common_variants/PCA/plots/European.pca.projected.mahalanobis.rds /mnt/mfs/statgen/alzheimers-family/AD_common_variants/PCA/plots/European.pca.projected.outliers... (5 items)\u001b[0m\n",
      "INFO: \u001b[32mproject_samples_2\u001b[0m output:   \u001b[32m/mnt/mfs/statgen/alzheimers-family/AD_common_variants/PCA/plots/European.pca.projected.mahalanobis.rds /mnt/mfs/statgen/alzheimers-family/AD_common_variants/PCA/plots/European.pca.projected.outliers... (5 items)\u001b[0m\n",
      "INFO: Running \u001b[32mproject_samples_3\u001b[0m: \n",
      "INFO: \u001b[32mproject_samples_3\u001b[0m is \u001b[32mcompleted\u001b[0m (pending nested workflow).\n",
      "INFO: Running \u001b[32mplot_pca\u001b[0m: Plot PCA results. Can be used independently as \"plot_pca\" or combined with other workflow as eg \"flashpca+plot_pca\"\n",
      "INFO: \u001b[32mplot_pca\u001b[0m is \u001b[32mcompleted\u001b[0m.\n",
      "INFO: \u001b[32mplot_pca\u001b[0m output:   \u001b[32m/mnt/mfs/statgen/alzheimers-family/AD_common_variants/PCA/plots/European.pca.projected.pc.png /mnt/mfs/statgen/alzheimers-family/AD_common_variants/PCA/plots/European.pca.projected.scree.png... (3 items)\u001b[0m\n",
      "INFO: \u001b[32mproject_samples_3\u001b[0m output:   \u001b[32m/mnt/mfs/statgen/alzheimers-family/AD_common_variants/PCA/plots/European.pca.projected.pc.png /mnt/mfs/statgen/alzheimers-family/AD_common_variants/PCA/plots/European.pca.projected.scree.png\u001b[0m\n",
      "INFO: Workflow project_samples (ID=wbc16f27f48f322d8) is executed successfully with 5 completed steps.\n",
      "INFO: Running \u001b[32mproject_samples_1\u001b[0m: Project back to PCA model additional samples\n",
      "INFO: \u001b[32mproject_samples_1\u001b[0m is \u001b[32mcompleted\u001b[0m.\n",
      "INFO: \u001b[32mproject_samples_1\u001b[0m output:   \u001b[32m/mnt/mfs/statgen/alzheimers-family/AD_common_variants/PCA/plots/Hispanic.pca.projected.rds\u001b[0m\n",
      "INFO: Running \u001b[32mproject_samples_2\u001b[0m: \n",
      "INFO: \u001b[32mproject_samples_2\u001b[0m is \u001b[32mcompleted\u001b[0m (pending nested workflow).\n",
      "INFO: Running \u001b[32mdetect_outliers\u001b[0m: Calculate Mahalanobis distance per population and report outliers\n",
      "INFO: \u001b[32mdetect_outliers\u001b[0m is \u001b[32mcompleted\u001b[0m.\n",
      "INFO: \u001b[32mdetect_outliers\u001b[0m output:   \u001b[32m/mnt/mfs/statgen/alzheimers-family/AD_common_variants/PCA/plots/Hispanic.pca.projected.mahalanobis.rds /mnt/mfs/statgen/alzheimers-family/AD_common_variants/PCA/plots/Hispanic.pca.projected.outliers... (5 items)\u001b[0m\n",
      "INFO: \u001b[32mproject_samples_2\u001b[0m output:   \u001b[32m/mnt/mfs/statgen/alzheimers-family/AD_common_variants/PCA/plots/Hispanic.pca.projected.mahalanobis.rds /mnt/mfs/statgen/alzheimers-family/AD_common_variants/PCA/plots/Hispanic.pca.projected.outliers... (5 items)\u001b[0m\n",
      "INFO: Running \u001b[32mproject_samples_3\u001b[0m: \n",
      "INFO: \u001b[32mproject_samples_3\u001b[0m is \u001b[32mcompleted\u001b[0m (pending nested workflow).\n",
      "INFO: Running \u001b[32mplot_pca\u001b[0m: Plot PCA results. Can be used independently as \"plot_pca\" or combined with other workflow as eg \"flashpca+plot_pca\"\n",
      "INFO: \u001b[32mplot_pca\u001b[0m is \u001b[32mcompleted\u001b[0m.\n",
      "INFO: \u001b[32mplot_pca\u001b[0m output:   \u001b[32m/mnt/mfs/statgen/alzheimers-family/AD_common_variants/PCA/plots/Hispanic.pca.projected.pc.png /mnt/mfs/statgen/alzheimers-family/AD_common_variants/PCA/plots/Hispanic.pca.projected.scree.png... (3 items)\u001b[0m\n",
      "INFO: \u001b[32mproject_samples_3\u001b[0m output:   \u001b[32m/mnt/mfs/statgen/alzheimers-family/AD_common_variants/PCA/plots/Hispanic.pca.projected.pc.png /mnt/mfs/statgen/alzheimers-family/AD_common_variants/PCA/plots/Hispanic.pca.projected.scree.png\u001b[0m\n",
      "INFO: Workflow project_samples (ID=w64ff92f3750883e6) is executed successfully with 5 completed steps.\n"
     ]
    }
   ],
   "source": [
    "# step 5 project back for related samples, detect and generate outlier samples\n",
    "for i in African European Hispanic; do\n",
    "sos run ~/project2022/notebook/AD/xqtl-pipeline/code/data_preprocessing/genotype/PCA.ipynb project_samples \\\n",
    "    --cwd /mnt/mfs/statgen/alzheimers-family/AD_common_variants/PCA/plots \\\n",
    "    --genoFile /mnt/mfs/statgen/alzheimers-family/AD_common_variants/PCA/normalized_merged_autosome.$i.filtered.related.filtered.extracted.bed \\\n",
    "    --phenoFile /mnt/mfs/statgen/alzheimers-family/pheno/pheno_updated_20221121/$i.txt\\\n",
    "    --pca_model /mnt/mfs/statgen/alzheimers-family/AD_common_variants/PCA/plots/$i.pca.rds \\\n",
    "    --k 10 \\\n",
    "    --label_col pop \\\n",
    "    --pop_col pop \\\n",
    "    --container /mnt/vast/hpc/csg/containers/flashpcaR.sif\n",
    "done"
   ]
  },
  {
   "cell_type": "code",
   "execution_count": null,
   "id": "d47a53e1-4273-4d7b-824d-ed79c504fdc1",
   "metadata": {},
   "outputs": [
    {
     "name": "stdout",
     "output_type": "stream",
     "text": [
      "INFO: Running \u001b[32mplot_pca\u001b[0m: Plot PCA results. Can be used independently as \"plot_pca\" or combined with other workflow as eg \"flashpca+plot_pca\"\n",
      "INFO: \u001b[32mplot_pca\u001b[0m is \u001b[32mcompleted\u001b[0m.\n",
      "INFO: \u001b[32mplot_pca\u001b[0m output:   \u001b[32m/mnt/mfs/statgen/alzheimers-family/AD_common_variants/PCA/plots/African.pca.projected.pc.png /mnt/mfs/statgen/alzheimers-family/AD_common_variants/PCA/plots/African.pca.projected.scree.png... (3 items)\u001b[0m\n",
      "INFO: Workflow plot_pca (ID=w11ec71d77a952316) is executed successfully with 1 completed step.\n",
      "INFO: Running \u001b[32mplot_pca\u001b[0m: Plot PCA results. Can be used independently as \"plot_pca\" or combined with other workflow as eg \"flashpca+plot_pca\"\n",
      "INFO: \u001b[32mplot_pca\u001b[0m is \u001b[32mcompleted\u001b[0m.\n",
      "INFO: \u001b[32mplot_pca\u001b[0m output:   \u001b[32m/mnt/mfs/statgen/alzheimers-family/AD_common_variants/PCA/plots/European.pca.projected.pc.png /mnt/mfs/statgen/alzheimers-family/AD_common_variants/PCA/plots/European.pca.projected.scree.png... (3 items)\u001b[0m\n",
      "INFO: Workflow plot_pca (ID=w107043c27168f420) is executed successfully with 1 completed step.\n",
      "INFO: Running \u001b[32mplot_pca\u001b[0m: Plot PCA results. Can be used independently as \"plot_pca\" or combined with other workflow as eg \"flashpca+plot_pca\"\n",
      "INFO: \u001b[32mplot_pca\u001b[0m is \u001b[32mcompleted\u001b[0m.\n",
      "INFO: \u001b[32mplot_pca\u001b[0m output:   \u001b[32m/mnt/mfs/statgen/alzheimers-family/AD_common_variants/PCA/plots/Hispanic.pca.projected.pc.png /mnt/mfs/statgen/alzheimers-family/AD_common_variants/PCA/plots/Hispanic.pca.projected.scree.png... (3 items)\u001b[0m\n",
      "INFO: Workflow plot_pca (ID=wf6ee81301c79cb65) is executed successfully with 1 completed step.\n"
     ]
    }
   ],
   "source": [
    "# step 5 part 2\n",
    "for i in African European Hispanic; do\n",
    "sos run ~/project2022/notebook/AD/xqtl-pipeline/code/data_preprocessing/genotype/PCA.ipynb plot_pca \\\n",
    "    --cwd /mnt/mfs/statgen/alzheimers-family/AD_common_variants/PCA/plots \\\n",
    "    --genoFile /mnt/mfs/statgen/alzheimers-family/AD_common_variants/PCA/normalized_merged_autosome.$i.filtered.bed \\\n",
    "    --phenoFile /mnt/mfs/statgen/alzheimers-family/pheno/pheno_updated_20221121/$i.txt \\\n",
    "    --pop_col pop \\\n",
    "    --label_col pop\\\n",
    "    --k 10 \\\n",
    "    --plot_data /mnt/mfs/statgen/alzheimers-family/AD_common_variants/PCA/plots/$i.pca.projected.rds\\\n",
    "    --container /mnt/vast/hpc/csg/containers/flashpcaR.sif\n",
    "done"
   ]
  },
  {
   "cell_type": "markdown",
   "id": "interesting-cambridge",
   "metadata": {
    "kernel": "SoS"
   },
   "source": [
    "# Gnerate QCed genoFile without LD pruning to use in the GMMAT analysis\n"
   ]
  },
  {
   "cell_type": "code",
   "execution_count": 3,
   "id": "9f6404bd-e163-4425-83f1-64bdb181a1a0",
   "metadata": {
    "kernel": "SoS"
   },
   "outputs": [
    {
     "name": "stdout",
     "output_type": "stream",
     "text": [
      "INFO: Running \u001b[32mqc_no_prune\u001b[0m: Filter SNPs and select individuals\n",
      "INFO: \u001b[32mqc_no_prune\u001b[0m is \u001b[32mcompleted\u001b[0m.\n",
      "INFO: \u001b[32mqc_no_prune\u001b[0m output:   \u001b[32m/mnt/mfs/statgen/alzheimers-family/AD_common_variants/geno_qced/normalized_merged_autosome.African.filtered.unrelated.filtered.bed\u001b[0m\n",
      "INFO: Workflow qc_no_prune (ID=w214389013524cfa6) is executed successfully with 1 completed step.\n",
      "INFO: Running \u001b[32mbasic QC filters\u001b[0m: Filter SNPs and select individuals\n",
      "INFO: \u001b[32mbasic QC filters\u001b[0m is \u001b[32mcompleted\u001b[0m.\n",
      "INFO: \u001b[32mbasic QC filters\u001b[0m output:   \u001b[32m/mnt/mfs/statgen/alzheimers-family/AD_common_variants/geno_qced/normalized_merged_autosome.African.filtered.related.filtered.extracted.bed\u001b[0m\n",
      "INFO: Workflow qc (ID=w55663afe177e45bb) is executed successfully with 1 completed step.\n",
      "INFO: Running \u001b[32mqc_no_prune\u001b[0m: Filter SNPs and select individuals\n",
      "INFO: \u001b[32mqc_no_prune\u001b[0m is \u001b[32mcompleted\u001b[0m.\n",
      "INFO: \u001b[32mqc_no_prune\u001b[0m output:   \u001b[32m/mnt/mfs/statgen/alzheimers-family/AD_common_variants/geno_qced/normalized_merged_autosome.European.filtered.unrelated.filtered.bed\u001b[0m\n",
      "INFO: Workflow qc_no_prune (ID=wb3d2ca499c619539) is executed successfully with 1 completed step.\n",
      "INFO: Running \u001b[32mbasic QC filters\u001b[0m: Filter SNPs and select individuals\n",
      "INFO: \u001b[32mbasic QC filters\u001b[0m is \u001b[32mcompleted\u001b[0m.\n",
      "INFO: \u001b[32mbasic QC filters\u001b[0m output:   \u001b[32m/mnt/mfs/statgen/alzheimers-family/AD_common_variants/geno_qced/normalized_merged_autosome.European.filtered.related.filtered.extracted.bed\u001b[0m\n",
      "INFO: Workflow qc (ID=w9bcb522cc32acd37) is executed successfully with 1 completed step.\n",
      "INFO: Running \u001b[32mqc_no_prune\u001b[0m: Filter SNPs and select individuals\n",
      "INFO: \u001b[32mqc_no_prune\u001b[0m is \u001b[32mcompleted\u001b[0m.\n",
      "INFO: \u001b[32mqc_no_prune\u001b[0m output:   \u001b[32m/mnt/mfs/statgen/alzheimers-family/AD_common_variants/geno_qced/normalized_merged_autosome.Hispanic.filtered.unrelated.filtered.bed\u001b[0m\n",
      "INFO: Workflow qc_no_prune (ID=w5974d1726f78f792) is executed successfully with 1 completed step.\n",
      "INFO: Running \u001b[32mbasic QC filters\u001b[0m: Filter SNPs and select individuals\n",
      "INFO: \u001b[32mbasic QC filters\u001b[0m is \u001b[32mcompleted\u001b[0m.\n",
      "INFO: \u001b[32mbasic QC filters\u001b[0m output:   \u001b[32m/mnt/mfs/statgen/alzheimers-family/AD_common_variants/geno_qced/normalized_merged_autosome.Hispanic.filtered.related.filtered.extracted.bed\u001b[0m\n",
      "INFO: Workflow qc (ID=w81683abab9a1db20) is executed successfully with 1 completed step.\n"
     ]
    }
   ],
   "source": [
    "for i in African European Hispanic; do\n",
    "# unrelated individuals\n",
    "sos run ~/project2022/notebook/AD/xqtl-pipeline/pipeline/GWAS_QC.ipynb qc_no_prune \\\n",
    "    --cwd /mnt/mfs/statgen/alzheimers-family/AD_common_variants/geno_qced/ \\\n",
    "    --genoFile /mnt/mfs/statgen/alzheimers-family/AD_common_variants/PCA/normalized_merged_autosome.$i.filtered.bed \\\n",
    "    --remove_samples /mnt/mfs/statgen/alzheimers-family/AD_common_variants/PCA/King/normalized_merged_autosome.$i.filtered.related_id \\\n",
    "    --maf_filter 0.01 \\\n",
    "    --geno_filter 0.1 \\\n",
    "    --mind_filter 0.1 \\\n",
    "    --hwe_filter 5e-08 \\\n",
    "    --name unrelated \\\n",
    "    --container /mnt/mfs/statgen/containers/lmm.sif\n",
    "# related individuals same set of variants\n",
    "sos run ~/project2022/notebook/AD/xqtl-pipeline/pipeline/GWAS_QC.ipynb qc:1 \\\n",
    "    --cwd /mnt/mfs/statgen/alzheimers-family/AD_common_variants/geno_qced/ \\\n",
    "    --genoFile /mnt/mfs/statgen/alzheimers-family/AD_common_variants/PCA/normalized_merged_autosome.$i.filtered.bed \\\n",
    "    --keep_samples /mnt/mfs/statgen/alzheimers-family/AD_common_variants/PCA/King/normalized_merged_autosome.$i.filtered.related_id \\\n",
    "    --keep_variants /mnt/mfs/statgen/alzheimers-family/AD_common_variants/geno_qced/normalized_merged_autosome.$i.filtered.unrelated.filtered.bim \\\n",
    "    --maf_filter 0 \\\n",
    "    --geno_filter 0.1 \\\n",
    "    --mind_filter 0.1 \\\n",
    "    --hwe_filter 0 \\\n",
    "    --name related \\\n",
    "    --container /mnt/mfs/statgen/containers/lmm.sif \n",
    "done"
   ]
  },
  {
   "cell_type": "code",
   "execution_count": 4,
   "id": "7d17b099-e436-42de-bbb0-f2f4af20b8d4",
   "metadata": {},
   "outputs": [
    {
     "name": "stdout",
     "output_type": "stream",
     "text": [
      "bash: bash:: command not found\n",
      "PLINK v1.90b6.21 64-bit (19 Oct 2020)          www.cog-genomics.org/plink/1.9/\n",
      "(C) 2005-2020 Shaun Purcell, Christopher Chang   GNU General Public License v3\n",
      "Logging to /mnt/mfs/statgen/alzheimers-family/AD_common_variants/geno_qced/African.log.\n",
      "Options in effect:\n",
      "  --bfile /mnt/mfs/statgen/alzheimers-family/AD_common_variants/geno_qced/normalized_merged_autosome.African.filtered.related.filtered.extracted\n",
      "  --bmerge /mnt/mfs/statgen/alzheimers-family/AD_common_variants/geno_qced/normalized_merged_autosome.African.filtered.unrelated.filtered.bed /mnt/mfs/statgen/alzheimers-family/AD_common_variants/geno_qced/normalized_merged_autosome.African.filtered.unrelated.filtered.bim /mnt/mfs/statgen/alzheimers-family/AD_common_variants/geno_qced/normalized_merged_autosome.African.filtered.unrelated.filtered.fam\n",
      "  --keep-allele-order\n",
      "  --make-bed\n",
      "  --out /mnt/mfs/statgen/alzheimers-family/AD_common_variants/geno_qced/African\n",
      "\n",
      "515677 MB RAM detected; reserving 257838 MB for main workspace.\n",
      "Allocated 45888 MB successfully, after larger attempt(s) failed.\n",
      "68 people loaded from\n",
      "/mnt/mfs/statgen/alzheimers-family/AD_common_variants/geno_qced/normalized_merged_autosome.African.filtered.related.filtered.extracted.fam.\n",
      "45 people to be merged from\n",
      "/mnt/mfs/statgen/alzheimers-family/AD_common_variants/geno_qced/normalized_merged_autosome.African.filtered.unrelated.filtered.fam.\n",
      "Of these, 45 are new, while 0 are present in the base dataset.\n",
      "Warning: First fileset to be merged contains duplicate variant ID(s).  Variants\n",
      "with matching IDs are all merged together; if this is not what you want (e.g.\n",
      "you have a bunch of novel variants, all with ID \".\"), assign distinct IDs to\n",
      "them (with e.g. --set-missing-var-ids) before rerunning this merge.\n",
      "25327921 markers loaded from\n",
      "/mnt/mfs/statgen/alzheimers-family/AD_common_variants/geno_qced/normalized_merged_autosome.African.filtered.related.filtered.extracted.bim.\n",
      "25432122 markers to be merged from\n",
      "/mnt/mfs/statgen/alzheimers-family/AD_common_variants/geno_qced/normalized_merged_autosome.African.filtered.unrelated.filtered.bim.\n",
      "Of these, 66850 are new, while 25365272 are present in the base dataset.\n",
      "Warning: Unusually long variant ID(s) present.  PLINK 1.9 does not scale well\n",
      "to length-80+ variant IDs; consider using a different naming scheme for long\n",
      "indels and the like.\n",
      "Warning: Variants 'chr1:20227_T_C' and 'chr1:20227_T_A' have the same position.\n",
      "Warning: Variants 'chr1:49515_G_GA' and 'chr1:49515_G_*' have the same\n",
      "position.\n",
      "Warning: Variants 'chr1:54723_TC_T' and 'chr1:54723_TC_*' have the same\n",
      "position.\n",
      "2493592 more same-position warnings: see log file.\n",
      "Performing single-pass merge (113 people, 25394771 variants).\n",
      "Merged fileset written to                     \n",
      "/mnt/mfs/statgen/alzheimers-family/AD_common_variants/geno_qced/African-merge.bed\n",
      "+\n",
      "/mnt/mfs/statgen/alzheimers-family/AD_common_variants/geno_qced/African-merge.bim\n",
      "+\n",
      "/mnt/mfs/statgen/alzheimers-family/AD_common_variants/geno_qced/African-merge.fam\n",
      ".\n",
      "25394771 variants loaded from .bim file.\n",
      "113 people (0 males, 0 females, 113 ambiguous) loaded from .fam.\n",
      "Ambiguous sex IDs written to\n",
      "/mnt/mfs/statgen/alzheimers-family/AD_common_variants/geno_qced/African.nosex .\n",
      "Using 1 thread (no multithreaded calculations invoked).\n",
      "Before main variant filters, 113 founders and 0 nonfounders present.\n",
      "Calculating allele frequencies... 10111213141516171819202122232425262728293031323334353637383940414243444546474849505152535455565758596061626364656667686970717273747576777879808182838485868788899091929394959697989 done.\n",
      "Total genotyping rate is 0.994921.\n",
      "25394771 variants and 113 people pass filters and QC.\n",
      "Note: No phenotypes present.\n",
      "--make-bed to\n",
      "/mnt/mfs/statgen/alzheimers-family/AD_common_variants/geno_qced/African.bed +\n",
      "/mnt/mfs/statgen/alzheimers-family/AD_common_variants/geno_qced/African.bim +\n",
      "/mnt/mfs/statgen/alzheimers-family/AD_common_variants/geno_qced/African.fam ...\n",
      "101112131415161718192021222324252627282930313233343536373839404142434445464748495051525354555657585960616263646566676869707172737475767778798081828384858687888990919293949596979899done.\n",
      "PLINK v1.90b6.21 64-bit (19 Oct 2020)          www.cog-genomics.org/plink/1.9/\n",
      "(C) 2005-2020 Shaun Purcell, Christopher Chang   GNU General Public License v3\n",
      "Logging to /mnt/mfs/statgen/alzheimers-family/AD_common_variants/geno_qced/European.log.\n",
      "Options in effect:\n",
      "  --bfile /mnt/mfs/statgen/alzheimers-family/AD_common_variants/geno_qced/normalized_merged_autosome.European.filtered.related.filtered.extracted\n",
      "  --bmerge /mnt/mfs/statgen/alzheimers-family/AD_common_variants/geno_qced/normalized_merged_autosome.European.filtered.unrelated.filtered.bed /mnt/mfs/statgen/alzheimers-family/AD_common_variants/geno_qced/normalized_merged_autosome.European.filtered.unrelated.filtered.bim /mnt/mfs/statgen/alzheimers-family/AD_common_variants/geno_qced/normalized_merged_autosome.European.filtered.unrelated.filtered.fam\n",
      "  --keep-allele-order\n",
      "  --make-bed\n",
      "  --out /mnt/mfs/statgen/alzheimers-family/AD_common_variants/geno_qced/European\n",
      "\n",
      "515677 MB RAM detected; reserving 257838 MB for main workspace.\n",
      "Allocated 45888 MB successfully, after larger attempt(s) failed.\n",
      "557 people loaded from\n",
      "/mnt/mfs/statgen/alzheimers-family/AD_common_variants/geno_qced/normalized_merged_autosome.European.filtered.related.filtered.extracted.fam.\n",
      "390 people to be merged from\n",
      "/mnt/mfs/statgen/alzheimers-family/AD_common_variants/geno_qced/normalized_merged_autosome.European.filtered.unrelated.filtered.fam.\n",
      "Of these, 390 are new, while 0 are present in the base dataset.\n",
      "Warning: First fileset to be merged contains duplicate variant ID(s).  Variants\n",
      "with matching IDs are all merged together; if this is not what you want (e.g.\n",
      "you have a bunch of novel variants, all with ID \".\"), assign distinct IDs to\n",
      "them (with e.g. --set-missing-var-ids) before rerunning this merge.\n",
      "12274553 markers loaded from\n",
      "/mnt/mfs/statgen/alzheimers-family/AD_common_variants/geno_qced/normalized_merged_autosome.European.filtered.related.filtered.extracted.bim.\n",
      "12300603 markers to be merged from\n",
      "/mnt/mfs/statgen/alzheimers-family/AD_common_variants/geno_qced/normalized_merged_autosome.European.filtered.unrelated.filtered.bim.\n",
      "Of these, 11239 are new, while 12289364 are present in the base dataset.\n",
      "Warning: Unusually long variant ID(s) present.  PLINK 1.9 does not scale well\n",
      "to length-80+ variant IDs; consider using a different naming scheme for long\n",
      "indels and the like.\n",
      "Warning: Variants 'chr1:20227_T_C' and 'chr1:20227_T_A' have the same position.\n",
      "Warning: Variants 'chr1:54753_T_TTTCTTTCTTTCTTTCTTTCTTTTTCTTTCTTTCTTTCTTTCG'\n",
      "and 'chr1:54753_T_G' have the same position.\n",
      "Warning: Variants 'chr1:54753_T_TTTCTTTCTTTCTTTCTTTTTCTTTCTTTCTTTCTTTCG' and\n",
      "'chr1:54753_T_TTTCTTTCTTTCTTTCTTTCTTTTTCTTTCTTTCTTTCTTTCG' have the same\n",
      "position.\n",
      "1094132 more same-position warnings: see log file.\n",
      "Performing single-pass merge (947 people, 12285792 variants).\n",
      "Merged fileset written to                     \n",
      "/mnt/mfs/statgen/alzheimers-family/AD_common_variants/geno_qced/European-merge.bed\n",
      "+\n",
      "/mnt/mfs/statgen/alzheimers-family/AD_common_variants/geno_qced/European-merge.bim\n",
      "+\n",
      "/mnt/mfs/statgen/alzheimers-family/AD_common_variants/geno_qced/European-merge.fam\n",
      ".\n",
      "12285792 variants loaded from .bim file.\n",
      "947 people (0 males, 0 females, 947 ambiguous) loaded from .fam.\n",
      "Ambiguous sex IDs written to\n",
      "/mnt/mfs/statgen/alzheimers-family/AD_common_variants/geno_qced/European.nosex\n",
      ".\n",
      "Using 1 thread (no multithreaded calculations invoked).\n",
      "Before main variant filters, 947 founders and 0 nonfounders present.\n",
      "Calculating allele frequencies... 10111213141516171819202122232425262728293031323334353637383940414243444546474849505152535455565758596061626364656667686970717273747576777879808182838485868788899091929394959697989 done.\n",
      "Total genotyping rate is 0.995452.\n",
      "12285792 variants and 947 people pass filters and QC.\n",
      "Note: No phenotypes present.\n",
      "--make-bed to\n",
      "/mnt/mfs/statgen/alzheimers-family/AD_common_variants/geno_qced/European.bed +\n",
      "/mnt/mfs/statgen/alzheimers-family/AD_common_variants/geno_qced/European.bim +\n",
      "/mnt/mfs/statgen/alzheimers-family/AD_common_variants/geno_qced/European.fam\n",
      "... 101112131415161718192021222324252627282930313233343536373839404142434445464748495051525354555657585960616263646566676869707172737475767778798081828384858687888990919293949596979899done.\n",
      "PLINK v1.90b6.21 64-bit (19 Oct 2020)          www.cog-genomics.org/plink/1.9/\n",
      "(C) 2005-2020 Shaun Purcell, Christopher Chang   GNU General Public License v3\n",
      "Logging to /mnt/mfs/statgen/alzheimers-family/AD_common_variants/geno_qced/Hispanic.log.\n",
      "Options in effect:\n",
      "  --bfile /mnt/mfs/statgen/alzheimers-family/AD_common_variants/geno_qced/normalized_merged_autosome.Hispanic.filtered.related.filtered.extracted\n",
      "  --bmerge /mnt/mfs/statgen/alzheimers-family/AD_common_variants/geno_qced/normalized_merged_autosome.Hispanic.filtered.unrelated.filtered.bed /mnt/mfs/statgen/alzheimers-family/AD_common_variants/geno_qced/normalized_merged_autosome.Hispanic.filtered.unrelated.filtered.bim /mnt/mfs/statgen/alzheimers-family/AD_common_variants/geno_qced/normalized_merged_autosome.Hispanic.filtered.unrelated.filtered.fam\n",
      "  --keep-allele-order\n",
      "  --make-bed\n",
      "  --out /mnt/mfs/statgen/alzheimers-family/AD_common_variants/geno_qced/Hispanic\n",
      "\n",
      "515677 MB RAM detected; reserving 257838 MB for main workspace.\n",
      "Allocated 45888 MB successfully, after larger attempt(s) failed.\n",
      "1150 people loaded from\n",
      "/mnt/mfs/statgen/alzheimers-family/AD_common_variants/geno_qced/normalized_merged_autosome.Hispanic.filtered.related.filtered.extracted.fam.\n",
      "686 people to be merged from\n",
      "/mnt/mfs/statgen/alzheimers-family/AD_common_variants/geno_qced/normalized_merged_autosome.Hispanic.filtered.unrelated.filtered.fam.\n",
      "Of these, 686 are new, while 0 are present in the base dataset.\n",
      "Warning: First fileset to be merged contains duplicate variant ID(s).  Variants\n",
      "with matching IDs are all merged together; if this is not what you want (e.g.\n",
      "you have a bunch of novel variants, all with ID \".\"), assign distinct IDs to\n",
      "them (with e.g. --set-missing-var-ids) before rerunning this merge.\n",
      "17360696 markers loaded from\n",
      "/mnt/mfs/statgen/alzheimers-family/AD_common_variants/geno_qced/normalized_merged_autosome.Hispanic.filtered.related.filtered.extracted.bim.\n",
      "17401389 markers to be merged from\n",
      "/mnt/mfs/statgen/alzheimers-family/AD_common_variants/geno_qced/normalized_merged_autosome.Hispanic.filtered.unrelated.filtered.bim.\n",
      "Of these, 18454 are new, while 17382935 are present in the base dataset.\n",
      "Warning: Unusually long variant ID(s) present.  PLINK 1.9 does not scale well\n",
      "to length-80+ variant IDs; consider using a different naming scheme for long\n",
      "indels and the like.\n",
      "Warning: Variants 'chr1:54753_T_TTTCTTTCTTTCTTTCTTTTTCTTTCTTTCTTTCTTTCG' and\n",
      "'chr1:54753_T_G' have the same position.\n",
      "Warning: Variants 'chr1:98999_TTTTA_T' and 'chr1:98999_TTTTATTTA_T' have the\n",
      "same position.\n",
      "Warning: Variants 'chr1:98999_T_TTTTATTTA' and 'chr1:98999_TTTTA_T' have the\n",
      "same position.\n",
      "1495972 more same-position warnings: see log file.\n",
      "Performing single-pass merge (1836 people, 17379150 variants).\n",
      "Merged fileset written to                     \n",
      "/mnt/mfs/statgen/alzheimers-family/AD_common_variants/geno_qced/Hispanic-merge.bed\n",
      "+\n",
      "/mnt/mfs/statgen/alzheimers-family/AD_common_variants/geno_qced/Hispanic-merge.bim\n",
      "+\n",
      "/mnt/mfs/statgen/alzheimers-family/AD_common_variants/geno_qced/Hispanic-merge.fam\n",
      ".\n",
      "17379150 variants loaded from .bim file.\n",
      "1836 people (0 males, 0 females, 1836 ambiguous) loaded from .fam.\n",
      "Ambiguous sex IDs written to\n",
      "/mnt/mfs/statgen/alzheimers-family/AD_common_variants/geno_qced/Hispanic.nosex\n",
      ".\n",
      "Using 1 thread (no multithreaded calculations invoked).\n",
      "Before main variant filters, 1836 founders and 0 nonfounders present.\n",
      "Calculating allele frequencies... 10111213141516171819202122232425262728293031323334353637383940414243444546474849505152535455565758596061626364656667686970717273747576777879808182838485868788899091929394959697989 done.\n",
      "Total genotyping rate is 0.995619.\n",
      "17379150 variants and 1836 people pass filters and QC.\n",
      "Note: No phenotypes present.\n",
      "--make-bed to\n",
      "/mnt/mfs/statgen/alzheimers-family/AD_common_variants/geno_qced/Hispanic.bed +\n",
      "/mnt/mfs/statgen/alzheimers-family/AD_common_variants/geno_qced/Hispanic.bim +\n",
      "/mnt/mfs/statgen/alzheimers-family/AD_common_variants/geno_qced/Hispanic.fam\n",
      "... 101112131415161718192021222324252627282930313233343536373839404142434445464748495051525354555657585960616263646566676869707172737475767778798081828384858687888990919293949596979899done.\n"
     ]
    }
   ],
   "source": [
    "# merge two data-sets\n",
    "bash: container= '/mnt/mfs/statgen/containers/lmm.sif'\n",
    "for i in African European Hispanic; do\n",
    "    plink --bfile /mnt/mfs/statgen/alzheimers-family/AD_common_variants/geno_qced/normalized_merged_autosome.$i.filtered.related.filtered.extracted \\\n",
    "         --bmerge /mnt/mfs/statgen/alzheimers-family/AD_common_variants/geno_qced/normalized_merged_autosome.$i.filtered.unrelated.filtered.bed \\\n",
    "                  /mnt/mfs/statgen/alzheimers-family/AD_common_variants/geno_qced/normalized_merged_autosome.$i.filtered.unrelated.filtered.bim \\\n",
    "                  /mnt/mfs/statgen/alzheimers-family/AD_common_variants/geno_qced/normalized_merged_autosome.$i.filtered.unrelated.filtered.fam \\\n",
    "        --make-bed --keep-allele-order --out /mnt/mfs/statgen/alzheimers-family/AD_common_variants/geno_qced/$i\n",
    "done"
   ]
  }
 ],
 "metadata": {
  "kernelspec": {
   "display_name": "Bash",
   "language": "bash",
   "name": "bash"
  },
  "language_info": {
   "codemirror_mode": "shell",
   "file_extension": ".sh",
   "mimetype": "text/x-sh",
   "name": "bash"
  },
  "sos": {
   "kernels": [
    [
     "Bash",
     "bash",
     "Bash",
     "#E6EEFF",
     ""
    ],
    [
     "R",
     "ir",
     "R",
     "#DCDCDA",
     "r"
    ],
    [
     "SoS",
     "sos",
     "",
     "",
     "sos"
    ]
   ],
   "version": "0.23.2"
  },
  "toc-autonumbering": false
 },
 "nbformat": 4,
 "nbformat_minor": 5
}
