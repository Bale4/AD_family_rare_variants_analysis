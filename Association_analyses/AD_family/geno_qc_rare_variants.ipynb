{
 "cells": [
  {
   "cell_type": "markdown",
   "id": "korean-combining",
   "metadata": {
    "kernel": "Markdown",
    "tags": []
   },
   "source": [
    "# Genetic Data QC\n",
    "This notebook documents genetic data qc for the population specific SMMAT analyses using the updated AD pheno (https://github.com/gaow/alzheimers-family/blob/master/notebook/20221121_AD_pheno_update.ipynb).\n",
    "\n",
    "Major updates for the pheno data\n",
    "\n",
    "* Most of missing data for age has been completed\n",
    "* missing info for APOE4 updated based on the sequence data\n",
    "* controls under 60 years of age excluded\n",
    "* For the European samples (n = 15) age values coded as like 999, 8027 were replaced by the correct age\n",
    "* unaffected singletons removed \n",
    "\n",
    "Pheno data\n",
    " > /mnt/mfs/statgen/alzheimers-family/pheno/pheno_updated_20221121/\n",
    " \n",
    "Geno data: WGS data with jointly called EFIGA and NIALOAD data is available here\n",
    " > /mnt/mfs/statgen/alzheimers-family/normalized_bed/normalized_merged_autosome.*  \n"
   ]
  },
  {
   "cell_type": "markdown",
   "id": "a7e384e3-582f-4240-911d-5982a71723be",
   "metadata": {
    "kernel": "SoS",
    "tags": []
   },
   "source": [
    "# Split the genetic data per population and do QC"
   ]
  },
  {
   "cell_type": "code",
   "execution_count": 2,
   "id": "96b7fe19-a14a-4c96-b6ec-241d7fed18d7",
   "metadata": {
    "kernel": "SoS"
   },
   "outputs": [
    {
     "name": "stdout",
     "output_type": "stream",
     "text": [
      "INFO: Running \u001b[32mbasic QC filters\u001b[0m: Filter SNPs and select individuals\n",
      "INFO: \u001b[32mbasic QC filters\u001b[0m is \u001b[32mcompleted\u001b[0m.\n",
      "INFO: \u001b[32mbasic QC filters\u001b[0m output:   \u001b[32m/mnt/mfs/statgen/alzheimers-family/AD_rare_variants/geno/normalized_merged_autosome.African.filtered.bed\u001b[0m\n",
      "INFO: Workflow qc (ID=wcbedcdbe1e821720) is executed successfully with 1 completed step.\n",
      "INFO: Running \u001b[32mbasic QC filters\u001b[0m: Filter SNPs and select individuals\n",
      "INFO: \u001b[32mbasic QC filters\u001b[0m is \u001b[32mcompleted\u001b[0m.\n",
      "INFO: \u001b[32mbasic QC filters\u001b[0m output:   \u001b[32m/mnt/mfs/statgen/alzheimers-family/AD_rare_variants/geno/normalized_merged_autosome.European.filtered.bed\u001b[0m\n",
      "INFO: Workflow qc (ID=wad4e79bae7bb194f) is executed successfully with 1 completed step.\n",
      "INFO: Running \u001b[32mbasic QC filters\u001b[0m: Filter SNPs and select individuals\n",
      "INFO: \u001b[32mbasic QC filters\u001b[0m is \u001b[32mcompleted\u001b[0m.\n",
      "INFO: \u001b[32mbasic QC filters\u001b[0m output:   \u001b[32m/mnt/mfs/statgen/alzheimers-family/AD_rare_variants/geno/normalized_merged_autosome.Hispanic.filtered.bed\u001b[0m\n",
      "INFO: Workflow qc (ID=wcc7864ff7bcbeb93) is executed successfully with 1 completed step.\n"
     ]
    }
   ],
   "source": [
    "# split the geno file per pop. \n",
    "ml Singularity\n",
    "for i in African European Hispanic; do\n",
    "sos run ~/project2022/notebook/AD/xqtl-pipeline/pipeline/GWAS_QC.ipynb qc:1 \\\n",
    "  --cwd /mnt/mfs/statgen/alzheimers-family/AD_rare_variants/geno \\\n",
    "  --genoFile /mnt/mfs/statgen/alzheimers-family/normalized_bed/normalized_merged_autosome.bed \\\n",
    "  --maf_filter 0.0 \\\n",
    "  --keep_samples /mnt/mfs/statgen/alzheimers-family/pheno/pheno_updated_20221121/$i.id \\\n",
    "  --name $i \\\n",
    "  --container /mnt/vast/hpc/csg/containers/lmm.sif\n",
    "done"
   ]
  },
  {
   "cell_type": "code",
   "execution_count": 3,
   "id": "b203a19e-3913-4f5f-b8f0-29d2faf40eea",
   "metadata": {
    "kernel": "SoS"
   },
   "outputs": [
    {
     "name": "stdout",
     "output_type": "stream",
     "text": [
      "INFO: Running \u001b[32mking_1\u001b[0m: Inference of relationships in the sample to identify closely related individuals\n",
      "INFO: \u001b[32mking_1\u001b[0m is \u001b[32mcompleted\u001b[0m.\n",
      "INFO: \u001b[32mking_1\u001b[0m output:   \u001b[32m/mnt/mfs/statgen/alzheimers-family/AD_rare_variants/geno/King/normalized_merged_autosome.African.filtered.kin0\u001b[0m\n",
      "INFO: Running \u001b[32mking_2\u001b[0m: Select a list of unrelated individual with an attempt to maximize the unrelated individuals selected from the data\n",
      "INFO: \u001b[32mking_2\u001b[0m is \u001b[32mcompleted\u001b[0m.\n",
      "INFO: \u001b[32mking_2\u001b[0m output:   \u001b[32m/mnt/mfs/statgen/alzheimers-family/AD_rare_variants/geno/King/normalized_merged_autosome.African.filtered.related_id\u001b[0m\n",
      "INFO: Running \u001b[32mking_3\u001b[0m: Split genotype data into related and unrelated samples, if related individuals are detected\n",
      "INFO: \u001b[32mking_3\u001b[0m is \u001b[32mcompleted\u001b[0m.\n",
      "INFO: \u001b[32mking_3\u001b[0m output:   \u001b[32m/mnt/mfs/statgen/alzheimers-family/AD_rare_variants/geno/King/normalized_merged_autosome.African.filtered.unrelated.bed /mnt/mfs/statgen/alzheimers-family/AD_rare_variants/geno/King/normalized_merged_autosome.African.filtered.related.bed\u001b[0m\n",
      "INFO: Workflow king (ID=w9fab5d4f41296009) is executed successfully with 3 completed steps.\n",
      "INFO: Running \u001b[32mking_1\u001b[0m: Inference of relationships in the sample to identify closely related individuals\n",
      "INFO: \u001b[32mking_1\u001b[0m is \u001b[32mcompleted\u001b[0m.\n",
      "INFO: \u001b[32mking_1\u001b[0m output:   \u001b[32m/mnt/mfs/statgen/alzheimers-family/AD_rare_variants/geno/King/normalized_merged_autosome.European.filtered.kin0\u001b[0m\n",
      "INFO: Running \u001b[32mking_2\u001b[0m: Select a list of unrelated individual with an attempt to maximize the unrelated individuals selected from the data\n",
      "INFO: \u001b[32mking_2\u001b[0m is \u001b[32mcompleted\u001b[0m.\n",
      "INFO: \u001b[32mking_2\u001b[0m output:   \u001b[32m/mnt/mfs/statgen/alzheimers-family/AD_rare_variants/geno/King/normalized_merged_autosome.European.filtered.related_id\u001b[0m\n",
      "INFO: Running \u001b[32mking_3\u001b[0m: Split genotype data into related and unrelated samples, if related individuals are detected\n",
      "INFO: \u001b[32mking_3\u001b[0m is \u001b[32mcompleted\u001b[0m.\n",
      "INFO: \u001b[32mking_3\u001b[0m output:   \u001b[32m/mnt/mfs/statgen/alzheimers-family/AD_rare_variants/geno/King/normalized_merged_autosome.European.filtered.unrelated.bed /mnt/mfs/statgen/alzheimers-family/AD_rare_variants/geno/King/normalized_merged_autosome.European.filtered.related.bed\u001b[0m\n",
      "INFO: Workflow king (ID=weac22c999761da96) is executed successfully with 3 completed steps.\n",
      "INFO: Running \u001b[32mking_1\u001b[0m: Inference of relationships in the sample to identify closely related individuals\n",
      "INFO: \u001b[32mking_1\u001b[0m is \u001b[32mcompleted\u001b[0m.\n",
      "INFO: \u001b[32mking_1\u001b[0m output:   \u001b[32m/mnt/mfs/statgen/alzheimers-family/AD_rare_variants/geno/King/normalized_merged_autosome.Hispanic.filtered.kin0\u001b[0m\n",
      "INFO: Running \u001b[32mking_2\u001b[0m: Select a list of unrelated individual with an attempt to maximize the unrelated individuals selected from the data\n",
      "INFO: \u001b[32mking_2\u001b[0m is \u001b[32mcompleted\u001b[0m.\n",
      "INFO: \u001b[32mking_2\u001b[0m output:   \u001b[32m/mnt/mfs/statgen/alzheimers-family/AD_rare_variants/geno/King/normalized_merged_autosome.Hispanic.filtered.related_id\u001b[0m\n",
      "INFO: Running \u001b[32mking_3\u001b[0m: Split genotype data into related and unrelated samples, if related individuals are detected\n",
      "INFO: \u001b[32mking_3\u001b[0m is \u001b[32mcompleted\u001b[0m.\n",
      "INFO: \u001b[32mking_3\u001b[0m output:   \u001b[32m/mnt/mfs/statgen/alzheimers-family/AD_rare_variants/geno/King/normalized_merged_autosome.Hispanic.filtered.unrelated.bed /mnt/mfs/statgen/alzheimers-family/AD_rare_variants/geno/King/normalized_merged_autosome.Hispanic.filtered.related.bed\u001b[0m\n",
      "INFO: Workflow king (ID=wfb67db49f1ece98a) is executed successfully with 3 completed steps.\n"
     ]
    }
   ],
   "source": [
    "for i in African European Hispanic; do\n",
    "sos run ~/project2022/notebook/AD/xqtl-pipeline/pipeline/GWAS_QC.ipynb king \\\n",
    "  --cwd /mnt/mfs/statgen/alzheimers-family/AD_rare_variants/geno/King \\\n",
    "  --container /mnt/vast/hpc/csg/containers/lmm.sif \\\n",
    "  --genoFile /mnt/mfs/statgen/alzheimers-family/AD_rare_variants/geno/normalized_merged_autosome.$i.filtered.bed \\\n",
    "  --maf_filter 0.0 \n",
    "done"
   ]
  },
  {
   "cell_type": "markdown",
   "id": "interesting-cambridge",
   "metadata": {
    "kernel": "SoS"
   },
   "source": [
    "# Gnerate QCed genoFile without LD pruning to use in the GMMAT analysis\n"
   ]
  },
  {
   "cell_type": "code",
   "execution_count": 4,
   "id": "9f6404bd-e163-4425-83f1-64bdb181a1a0",
   "metadata": {
    "kernel": "SoS"
   },
   "outputs": [
    {
     "name": "stdout",
     "output_type": "stream",
     "text": [
      "INFO: Running \u001b[32mqc_no_prune\u001b[0m: Filter SNPs and select individuals\n",
      "INFO: \u001b[32mqc_no_prune\u001b[0m is \u001b[32mcompleted\u001b[0m.\n",
      "INFO: \u001b[32mqc_no_prune\u001b[0m output:   \u001b[32m/mnt/mfs/statgen/alzheimers-family/AD_rare_variants/geno_qced/normalized_merged_autosome.African.filtered.unrelated.filtered.bed\u001b[0m\n",
      "INFO: Workflow qc_no_prune (ID=w28688c7066998731) is executed successfully with 1 completed step.\n",
      "INFO: Running \u001b[32mbasic QC filters\u001b[0m: Filter SNPs and select individuals\n",
      "INFO: \u001b[32mbasic QC filters\u001b[0m is \u001b[32mcompleted\u001b[0m.\n",
      "INFO: \u001b[32mbasic QC filters\u001b[0m output:   \u001b[32m/mnt/mfs/statgen/alzheimers-family/AD_rare_variants/geno_qced/normalized_merged_autosome.African.filtered.related.filtered.extracted.bed\u001b[0m\n",
      "INFO: Workflow qc (ID=w7af314c82261ff6d) is executed successfully with 1 completed step.\n",
      "INFO: Running \u001b[32mqc_no_prune\u001b[0m: Filter SNPs and select individuals\n",
      "INFO: \u001b[32mqc_no_prune\u001b[0m is \u001b[32mcompleted\u001b[0m.\n",
      "INFO: \u001b[32mqc_no_prune\u001b[0m output:   \u001b[32m/mnt/mfs/statgen/alzheimers-family/AD_rare_variants/geno_qced/normalized_merged_autosome.European.filtered.unrelated.filtered.bed\u001b[0m\n",
      "INFO: Workflow qc_no_prune (ID=w4926076fdfddaaeb) is executed successfully with 1 completed step.\n",
      "INFO: Running \u001b[32mbasic QC filters\u001b[0m: Filter SNPs and select individuals\n",
      "INFO: \u001b[32mbasic QC filters\u001b[0m is \u001b[32mcompleted\u001b[0m.\n",
      "INFO: \u001b[32mbasic QC filters\u001b[0m output:   \u001b[32m/mnt/mfs/statgen/alzheimers-family/AD_rare_variants/geno_qced/normalized_merged_autosome.European.filtered.related.filtered.extracted.bed\u001b[0m\n",
      "INFO: Workflow qc (ID=wa18d731e225bbc29) is executed successfully with 1 completed step.\n",
      "INFO: Running \u001b[32mqc_no_prune\u001b[0m: Filter SNPs and select individuals\n",
      "INFO: \u001b[32mqc_no_prune\u001b[0m is \u001b[32mcompleted\u001b[0m.\n",
      "INFO: \u001b[32mqc_no_prune\u001b[0m output:   \u001b[32m/mnt/mfs/statgen/alzheimers-family/AD_rare_variants/geno_qced/normalized_merged_autosome.Hispanic.filtered.unrelated.filtered.bed\u001b[0m\n",
      "INFO: Workflow qc_no_prune (ID=w1d34a2976bffaa97) is executed successfully with 1 completed step.\n",
      "INFO: Running \u001b[32mbasic QC filters\u001b[0m: Filter SNPs and select individuals\n",
      "INFO: \u001b[32mbasic QC filters\u001b[0m is \u001b[32mcompleted\u001b[0m.\n",
      "INFO: \u001b[32mbasic QC filters\u001b[0m output:   \u001b[32m/mnt/mfs/statgen/alzheimers-family/AD_rare_variants/geno_qced/normalized_merged_autosome.Hispanic.filtered.related.filtered.extracted.bed\u001b[0m\n",
      "INFO: Workflow qc (ID=w749b3789872e6ee9) is executed successfully with 1 completed step.\n"
     ]
    }
   ],
   "source": [
    "for i in African European Hispanic; do\n",
    "# unrelated individuals\n",
    "sos run ~/project2022/notebook/AD/xqtl-pipeline/pipeline/GWAS_QC.ipynb qc_no_prune \\\n",
    "    --cwd /mnt/mfs/statgen/alzheimers-family/AD_rare_variants/geno_qced/ \\\n",
    "    --genoFile /mnt/mfs/statgen/alzheimers-family/AD_rare_variants/geno/normalized_merged_autosome.$i.filtered.bed \\\n",
    "    --remove_samples /mnt/mfs/statgen/alzheimers-family/AD_rare_variants/geno/King/normalized_merged_autosome.$i.filtered.related_id \\\n",
    "    --maf_filter 0.0 \\\n",
    "    --geno_filter 0.1 \\\n",
    "    --mind_filter 0.1 \\\n",
    "    --hwe_filter 5e-08 \\\n",
    "    --name unrelated \\\n",
    "    --container /mnt/mfs/statgen/containers/lmm.sif\n",
    "# related individuals same set of variants\n",
    "sos run ~/project2022/notebook/AD/xqtl-pipeline/pipeline/GWAS_QC.ipynb qc:1 \\\n",
    "    --cwd /mnt/mfs/statgen/alzheimers-family/AD_rare_variants/geno_qced/ \\\n",
    "    --genoFile /mnt/mfs/statgen/alzheimers-family/AD_common_variants/PCA/normalized_merged_autosome.$i.filtered.bed \\\n",
    "    --keep_samples /mnt/mfs/statgen/alzheimers-family/AD_rare_variants/geno/King/normalized_merged_autosome.$i.filtered.related_id \\\n",
    "    --keep_variants /mnt/mfs/statgen/alzheimers-family/AD_rare_variants/geno_qced/normalized_merged_autosome.$i.filtered.unrelated.filtered.bim \\\n",
    "    --maf_filter 0.0 \\\n",
    "    --geno_filter 0.1 \\\n",
    "    --mind_filter 0.1 \\\n",
    "    --hwe_filter 0 \\\n",
    "    --name related \\\n",
    "    --container /mnt/mfs/statgen/containers/lmm.sif \n",
    "done"
   ]
  },
  {
   "cell_type": "code",
   "execution_count": null,
   "id": "4470f85e-4c24-4f73-9422-641f1b9b773b",
   "metadata": {
    "kernel": "SoS",
    "tags": []
   },
   "outputs": [],
   "source": [
    "# merge two data-sets\n",
    "bash: container= '/mnt/mfs/statgen/containers/lmm.sif'\n",
    "for i in African European Hispanic; do\n",
    "    plink --bfile /mnt/mfs/statgen/alzheimers-family/AD_rare_variants/geno_qced/normalized_merged_autosome.$i.filtered.related.filtered.extracted \\\n",
    "         --bmerge /mnt/mfs/statgen/alzheimers-family/AD_rare_variants/geno_qced/normalized_merged_autosome.$i.filtered.unrelated.filtered.bed \\\n",
    "                  /mnt/mfs/statgen/alzheimers-family/AD_rare_variants/geno_qced/normalized_merged_autosome.$i.filtered.unrelated.filtered.bim \\\n",
    "                  /mnt/mfs/statgen/alzheimers-family/AD_rare_variants/geno_qced/normalized_merged_autosome.$i.filtered.unrelated.filtered.fam \\\n",
    "        --make-bed --keep-allele-order --memory 800000 --out /mnt/mfs/statgen/alzheimers-family/AD_rare_variants/geno_qced/geno_qced.$i\n",
    "done"
   ]
  },
  {
   "cell_type": "code",
   "execution_count": null,
   "id": "357c32d7-7060-4a10-baa1-8073fafef747",
   "metadata": {},
   "outputs": [],
   "source": [
    "plink --bfile /mnt/mfs/statgen/alzheimers-family/AD_rare_variants/geno_qced/normalized_merged_autosome.African.filtered.related.filtered.extracted \\\n",
    "         --bmerge /mnt/mfs/statgen/alzheimers-family/AD_rare_variants/geno_qced/normalized_merged_autosome.African.filtered.unrelated.filtered.bed \\\n",
    "                  /mnt/mfs/statgen/alzheimers-family/AD_rare_variants/geno_qced/normalized_merged_autosome.African.filtered.unrelated.filtered.bim \\\n",
    "                  /mnt/mfs/statgen/alzheimers-family/AD_rare_variants/geno_qced/normalized_merged_autosome.African.filtered.unrelated.filtered.fam \\\n",
    "        --make-bed --keep-allele-order --memory 80000 --out /mnt/mfs/statgen/alzheimers-family/AD_rare_variants/geno_qced/African_rare"
   ]
  }
 ],
 "metadata": {
  "kernelspec": {
   "display_name": "Bash",
   "language": "bash",
   "name": "bash"
  },
  "language_info": {
   "codemirror_mode": "shell",
   "file_extension": ".sh",
   "mimetype": "text/x-sh",
   "name": "bash"
  },
  "sos": {
   "kernels": [
    [
     "Bash",
     "bash",
     "Bash",
     "#E6EEFF",
     ""
    ],
    [
     "R",
     "ir",
     "R",
     "#DCDCDA",
     "r"
    ],
    [
     "SoS",
     "sos",
     "",
     "",
     "sos"
    ]
   ],
   "version": "0.23.2"
  },
  "toc-autonumbering": false
 },
 "nbformat": 4,
 "nbformat_minor": 5
}
